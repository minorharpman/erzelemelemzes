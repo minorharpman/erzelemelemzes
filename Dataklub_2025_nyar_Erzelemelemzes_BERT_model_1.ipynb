{
 "cells": [
  {
   "cell_type": "markdown",
   "metadata": {
    "id": "pr_Nje-a_S8M"
   },
   "source": [
    "# Érzelemelemzés BERT-alapú modell segítségével"
   ]
  },
  {
   "cell_type": "markdown",
   "metadata": {
    "id": "SGTg1w5I_Qn7"
   },
   "source": [
    "## Modell: SZTAKI-HLT/hubert-base-cc\n",
    "Egy magyar BERT-alapú modell (pl. SZTAKI-HLT/hubert-base-cc vagy SZTAKI-HLT/hubert-base-cc) érzelmi osztályozásra való finomhangolása (fine-tuning) azt jelenti, hogy olyan adatokat adsz a modellnek, amelyből megtanulja, hogy egy szöveg pozitív, negatív vagy semleges hangulatú (vagy akár részletesebb érzelmi kategóriákba tartozik: félelem, szeretet, harag stb.)."
   ]
  },
  {
   "cell_type": "code",
   "execution_count": null,
   "metadata": {
    "colab": {
     "base_uri": "https://localhost:8080/"
    },
    "executionInfo": {
     "elapsed": 107013,
     "status": "ok",
     "timestamp": 1754826346569,
     "user": {
      "displayName": "runner jogi",
      "userId": "17090129783586980987"
     },
     "user_tz": -120
    },
    "id": "SQnNR8S--l7u",
    "outputId": "bb684606-58df-4961-e021-63ed80a5debd"
   },
   "outputs": [],
   "source": [
    "#!pip install transformers datasets torch scikit-learn"
   ]
  },
  {
   "cell_type": "code",
   "execution_count": null,
   "metadata": {},
   "outputs": [],
   "source": [
    "#! pip install tf-keras"
   ]
  },
  {
   "cell_type": "code",
   "execution_count": null,
   "metadata": {
    "executionInfo": {
     "elapsed": 44842,
     "status": "ok",
     "timestamp": 1754826391417,
     "user": {
      "displayName": "runner jogi",
      "userId": "17090129783586980987"
     },
     "user_tz": -120
    },
    "id": "62vUueZi_awg"
   },
   "outputs": [],
   "source": [
    "import pandas as pd\n",
    "from sklearn.model_selection import train_test_split\n",
    "from datasets import Dataset\n",
    "from transformers import AutoTokenizer, BertForSequenceClassification, TrainingArguments, Trainer\n",
    "import torch\n"
   ]
  },
  {
   "cell_type": "code",
   "execution_count": null,
   "metadata": {},
   "outputs": [],
   "source": [
    "# korlátlan hosszúságban jelenik meg a szöveg teljes egészében a cellában, nem vágja le\n",
    "pd.set_option('display.max_colwidth', None)\n",
    "# Ezzel a beállítással a megjelenített sorok maximális száma 200 sorra nő\n",
    "pd.set_option('display.max_rows', 200)"
   ]
  },
  {
   "cell_type": "markdown",
   "metadata": {},
   "source": [
    "# Tapasztalat:\n",
    "* Pozitív kategóriájú versek között sok negatív volt. Átnéztem őket"
   ]
  },
  {
   "cell_type": "code",
   "execution_count": null,
   "metadata": {
    "executionInfo": {
     "elapsed": 6,
     "status": "ok",
     "timestamp": 1754826391427,
     "user": {
      "displayName": "runner jogi",
      "userId": "17090129783586980987"
     },
     "user_tz": -120
    },
    "id": "pHNUAtBTIq_M"
   },
   "outputs": [],
   "source": [
    "# ===== 1. CSV beolvasása =====\n",
    "df_eredeti = pd.read_csv(\"vers_adatok.csv\", encoding=\"utf-8\")  # oszlopok: tipus, vers"
   ]
  },
  {
   "cell_type": "markdown",
   "metadata": {},
   "source": [
    "# Versek szűrése"
   ]
  },
  {
   "cell_type": "code",
   "execution_count": null,
   "metadata": {},
   "outputs": [],
   "source": [
    "sorok = df_eredeti[df_eredeti['vers'].str.startswith('Van, hogy mellkasomra ül') ]\n",
    "sorok"
   ]
  },
  {
   "cell_type": "code",
   "execution_count": null,
   "metadata": {},
   "outputs": [],
   "source": [
    "counts = df_eredeti['tipus'].value_counts()\n",
    "\n",
    "print(\"OFF száma:\", counts.get('OFF', 0))\n",
    "print(\"poz száma:\", counts.get('poz', 0))\n",
    "print(\"neg száma:\", counts.get('neg', 0))"
   ]
  },
  {
   "cell_type": "code",
   "execution_count": null,
   "metadata": {},
   "outputs": [],
   "source": [
    "df_poz = df_eredeti[df_eredeti['tipus'] == 'poz'].copy()"
   ]
  },
  {
   "cell_type": "code",
   "execution_count": null,
   "metadata": {},
   "outputs": [],
   "source": [
    "df_poz.shape"
   ]
  },
  {
   "cell_type": "code",
   "execution_count": null,
   "metadata": {},
   "outputs": [],
   "source": [
    "df_poz.head()"
   ]
  },
  {
   "cell_type": "code",
   "execution_count": null,
   "metadata": {},
   "outputs": [],
   "source": [
    "df_neg = df_eredeti[df_eredeti['tipus'] == 'neg'].copy()"
   ]
  },
  {
   "cell_type": "markdown",
   "metadata": {},
   "source": [
    "# Az utólsó sort törlöm, hogy egyenő legyen a sorok száma a pozítív és a negatív dataframek-nél"
   ]
  },
  {
   "cell_type": "code",
   "execution_count": null,
   "metadata": {},
   "outputs": [],
   "source": [
    "df_neg = df_neg[:-2]"
   ]
  },
  {
   "cell_type": "code",
   "execution_count": null,
   "metadata": {},
   "outputs": [],
   "source": [
    "df_neg.shape"
   ]
  },
  {
   "cell_type": "code",
   "execution_count": null,
   "metadata": {},
   "outputs": [],
   "source": [
    "df_neg.head()"
   ]
  },
  {
   "cell_type": "markdown",
   "metadata": {},
   "source": [
    "# Azok a versek, amelyek Pozítívak voltak, de kiszedtem a listából"
   ]
  },
  {
   "cell_type": "code",
   "execution_count": null,
   "metadata": {},
   "outputs": [],
   "source": [
    "df_off = df_eredeti[df_eredeti['tipus'] == 'OFF'].copy()"
   ]
  },
  {
   "cell_type": "code",
   "execution_count": null,
   "metadata": {},
   "outputs": [],
   "source": [
    "df_off.head(10)"
   ]
  },
  {
   "cell_type": "code",
   "execution_count": null,
   "metadata": {},
   "outputs": [],
   "source": [
    "df = pd.concat([df_poz, df_neg], ignore_index=True)\n",
    "df.shape"
   ]
  },
  {
   "cell_type": "code",
   "execution_count": null,
   "metadata": {
    "executionInfo": {
     "elapsed": 2,
     "status": "ok",
     "timestamp": 1754826391435,
     "user": {
      "displayName": "runner jogi",
      "userId": "17090129783586980987"
     },
     "user_tz": -120
    },
    "id": "5Ylu_jDVIv2a"
   },
   "outputs": [],
   "source": [
    "# Címkék számmá alakítása\n",
    "label_map = {\"poz\": 0, \"neg\": 1}\n",
    "df[\"label\"] = df[\"tipus\"].map(label_map)"
   ]
  },
  {
   "cell_type": "code",
   "execution_count": null,
   "metadata": {
    "executionInfo": {
     "elapsed": 8,
     "status": "ok",
     "timestamp": 1754826391448,
     "user": {
      "displayName": "runner jogi",
      "userId": "17090129783586980987"
     },
     "user_tz": -120
    },
    "id": "pJkAsxGLIyg4"
   },
   "outputs": [],
   "source": [
    "# ===== 2. Train–test split =====\n",
    "train_df, test_df = train_test_split(\n",
    "    df,\n",
    "    test_size=0.2,\n",
    "    random_state=42,\n",
    "    stratify=df[\"label\"]\n",
    ")"
   ]
  },
  {
   "cell_type": "code",
   "execution_count": null,
   "metadata": {},
   "outputs": [],
   "source": [
    "train_df.shape"
   ]
  },
  {
   "cell_type": "code",
   "execution_count": null,
   "metadata": {
    "colab": {
     "base_uri": "https://localhost:8080/",
     "height": 423
    },
    "executionInfo": {
     "elapsed": 158,
     "status": "ok",
     "timestamp": 1754826391603,
     "user": {
      "displayName": "runner jogi",
      "userId": "17090129783586980987"
     },
     "user_tz": -120
    },
    "id": "3S_EVhSrLcV5",
    "outputId": "c5442392-46f8-4b9c-9ff3-bab8a04caa2e"
   },
   "outputs": [],
   "source": [
    "train_df.head()"
   ]
  },
  {
   "cell_type": "code",
   "execution_count": null,
   "metadata": {},
   "outputs": [],
   "source": [
    "train_df_poz = train_df[train_df['tipus'] == 'poz'].copy()"
   ]
  },
  {
   "cell_type": "code",
   "execution_count": null,
   "metadata": {},
   "outputs": [],
   "source": [
    "train_df_poz.shape"
   ]
  },
  {
   "cell_type": "code",
   "execution_count": null,
   "metadata": {},
   "outputs": [],
   "source": [
    "test_df.shape"
   ]
  },
  {
   "cell_type": "code",
   "execution_count": null,
   "metadata": {
    "colab": {
     "base_uri": "https://localhost:8080/",
     "height": 1000
    },
    "executionInfo": {
     "elapsed": 189,
     "status": "ok",
     "timestamp": 1754826391893,
     "user": {
      "displayName": "runner jogi",
      "userId": "17090129783586980987"
     },
     "user_tz": -120
    },
    "id": "fIkgZGFiMKwO",
    "outputId": "73ff47b4-e97f-47c3-fdac-f99909aa19eb"
   },
   "outputs": [],
   "source": [
    "test_df.head()"
   ]
  },
  {
   "cell_type": "code",
   "execution_count": null,
   "metadata": {},
   "outputs": [],
   "source": [
    "test_df_poz = test_df[test_df['tipus'] == 'poz'].copy()"
   ]
  },
  {
   "cell_type": "code",
   "execution_count": null,
   "metadata": {},
   "outputs": [],
   "source": [
    "test_df_poz.shape"
   ]
  },
  {
   "cell_type": "code",
   "execution_count": null,
   "metadata": {
    "colab": {
     "base_uri": "https://localhost:8080/",
     "height": 269,
     "referenced_widgets": [
      "43590adc4b3f4eef9cb063741e84eb83",
      "831946b2d91844d498a551196d7c2d69",
      "bf6b1450b0854e00ace6106b7e4f68cc",
      "d414c7a8c2234555a37027edf38d48f9",
      "5a27b0521e034b43bbc651b53867b1c4",
      "e4c6b047c16c4b01b310471695d832f0",
      "bfae4a42994345e5ae1b00d914264fb2",
      "b2fed638eae14119837df90b59084faa",
      "e692730839f24d6894357ac7cc44b2d5",
      "e5b83e3ace144a4191a58f15aa2ec3eb",
      "2cb5e0232dfb4f4f99ac7fa11c655658",
      "22710f28b5c7414982852739479c6002",
      "d662b6279ac344c5902606cac5878abb",
      "6ebf9c9991f845aaabd42bad7a96be62",
      "c8134dd2b03646e986f5b313707ef631",
      "c65e78a9e6ca446a80fc6b7e97777e14",
      "9bf8d147f79b4410b0005de9e5a38fc1",
      "6de262db345e49099b26e47949700345",
      "ecb410f610894ea0a18327955640838b",
      "eaabed506f124ad1afa603045700b5bf",
      "904ca775e19f4fe4a6cef0d60680a7d4",
      "f79ae5bdb7834a7bbbc7c1202bc46340",
      "ccefb78134904b7aa2321cadcc62da48",
      "63a5319167364abea5985d23fe115186",
      "67eedb4a0143494898244fb15ce8694d",
      "594135cb6c1647049dbb88db83b16ee4",
      "02d1850f562e4a0faa2757d14b051d88",
      "2f35934c31b645358e34500ce3bcc062",
      "e2b3d3e406cd48edb9ad98eeee0ae3d3",
      "a695b38bed2c4bce89debde7b635f995",
      "4fd8097b3388473d8c3fa79260801bdc",
      "108ccd8cec4a4b4b8da019a5737b70cb",
      "ba664f312ea7420790e8dc2531757544",
      "fd3a8c606ed741bfa535890f039a3a77",
      "477357c1f0ab49a6b3f9af46127adefe",
      "0ead3748dcd749d9b424bd0502739b20",
      "7a6831ad159a48a8989c4ccd24a707c3",
      "a74f2f91f90a43a7bf94ad0c3581e86c",
      "7c165b1d9f3343ee9f0ea3e752cb93a0",
      "16ad6e6ffecf4fc9a5b71503bc567ccf",
      "acfdd1cee58142248e137f48c38f6b3e",
      "2c6057b6352a45efb2262c90d47b7d97",
      "a8f65015b3c648fa8b709f31132f938b",
      "f2efcc3649b54a8aadcfa8494da12aaa"
     ]
    },
    "executionInfo": {
     "elapsed": 2357,
     "status": "ok",
     "timestamp": 1754826394259,
     "user": {
      "displayName": "runner jogi",
      "userId": "17090129783586980987"
     },
     "user_tz": -120
    },
    "id": "1eDLTvgnI8Fe",
    "outputId": "a5bfb7be-31cb-4454-ca7b-cee7a2e376ee"
   },
   "outputs": [],
   "source": [
    "# ===== 3. Tokenizer betöltése =====\n",
    "tokenizer = AutoTokenizer.from_pretrained(\"SZTAKI-HLT/hubert-base-cc\")"
   ]
  },
  {
   "cell_type": "code",
   "execution_count": null,
   "metadata": {
    "executionInfo": {
     "elapsed": 8,
     "status": "ok",
     "timestamp": 1754826394276,
     "user": {
      "displayName": "runner jogi",
      "userId": "17090129783586980987"
     },
     "user_tz": -120
    },
    "id": "dKuVqHJ5JA82"
   },
   "outputs": [],
   "source": [
    "# ===== 4. Tokenizáló függvény =====\n",
    "def tokenize_function(examples):\n",
    "    return tokenizer(\n",
    "        examples[\"vers\"],\n",
    "        truncation=True,\n",
    "        padding=\"max_length\",\n",
    "        max_length=128\n",
    "    )"
   ]
  },
  {
   "cell_type": "code",
   "execution_count": null,
   "metadata": {
    "colab": {
     "base_uri": "https://localhost:8080/",
     "height": 81,
     "referenced_widgets": [
      "b6ac00dfdc3e41c89ab6f6493823e2eb",
      "4db36b38c777408bb2583cf571194a5d",
      "7567ed796c69403aa0bdf04a8b6a2d37",
      "faed51d592414032a54260370198e235",
      "28b8b53906d9423192345bde94242dea",
      "ff78f60d97bb4aeba522b87946d3802a",
      "e1d16a0d5a194116ae53997d65761dad",
      "1116abf45f594289b196148a63870211",
      "efbb859454994fd1836a2c44867e4bbd",
      "7047cbcb089144ef9801ac70d2fc41cc",
      "53dbc9560cd24e08befbab1c1440fc80",
      "f569f802f18743de99cb6d2512ac1098",
      "aac337dd018647c68f06444350904a3b",
      "657a91130f1841e8b43da7921119f300",
      "8c7f12eadeb943909a6b9ddd11fe0b5d",
      "6835a1e22a614f92a3401fde2e492fc7",
      "e7267bd6cbcb4ef690f048df00c25478",
      "0572526e4ec246e09ecfd55795331fe3",
      "77ecf74a6d9c4a7b9395445a40e71d69",
      "0cd6e650b1d84d87a19e0c531e8cd546",
      "e2908d2a708f4f9595290af2e3003e9c",
      "6a79e9a942bc49879ece2a281a4f0707"
     ]
    },
    "executionInfo": {
     "elapsed": 356,
     "status": "ok",
     "timestamp": 1754826394641,
     "user": {
      "displayName": "runner jogi",
      "userId": "17090129783586980987"
     },
     "user_tz": -120
    },
    "id": "Xcu6YF9GJKhT",
    "outputId": "7a45a79a-c9e6-420f-cff1-333b91a7385c"
   },
   "outputs": [],
   "source": [
    "# ===== 5. Dataset-ek létrehozása =====\n",
    "train_dataset = Dataset.from_pandas(train_df[[\"vers\", \"label\"]])\n",
    "test_dataset = Dataset.from_pandas(test_df[[\"vers\", \"label\"]])\n",
    "\n",
    "\n",
    "train_tokenized_dataset = train_dataset.map(tokenize_function, batched=True)\n",
    "test_tokenized_dataset = test_dataset.map(tokenize_function, batched=True)"
   ]
  },
  {
   "cell_type": "code",
   "execution_count": null,
   "metadata": {
    "colab": {
     "base_uri": "https://localhost:8080/"
    },
    "executionInfo": {
     "elapsed": 22,
     "status": "ok",
     "timestamp": 1754826394673,
     "user": {
      "displayName": "runner jogi",
      "userId": "17090129783586980987"
     },
     "user_tz": -120
    },
    "id": "2AYl9ayVMZzT",
    "outputId": "08dc54c4-5128-4739-f20d-1ef9029a6d6e"
   },
   "outputs": [],
   "source": [
    "train_dataset"
   ]
  },
  {
   "cell_type": "code",
   "execution_count": null,
   "metadata": {},
   "outputs": [],
   "source": [
    "test_dataset"
   ]
  },
  {
   "cell_type": "markdown",
   "metadata": {
    "id": "59_1ZvQNTtZu"
   },
   "source": [
    "# Dropout működése\n",
    "* A tanítás során véletlenszerűen \"kikapcsol\" (azaz nulláz) egy előre meghatározott arányban (pl. 10%, 30%) neuronokat az idegháló egy adott rétegében.\n",
    "\n",
    "* Ezáltal a hálózat nem tud túlzottan \"rászokni\" bizonyos jellemzőkre, mert mindig más részek működnek aktívan.\n",
    "\n",
    "* Ez segít, hogy a modell általánosabb megoldást tanuljon, ne csak a tanító adat mintáit."
   ]
  },
  {
   "cell_type": "code",
   "execution_count": null,
   "metadata": {
    "colab": {
     "base_uri": "https://localhost:8080/",
     "height": 104,
     "referenced_widgets": [
      "ce210e5db6c14a48bd0cf3abbedc7225",
      "1dc1a7161157452fb1cd0df01453f0f5",
      "4e01cd3098da436e8cfd856f28dc7b7f",
      "40afa4110ecf428daf5e7dce5e94d395",
      "f0ba1fbf556e4d50b16237756f0113d9",
      "5f0a23e68d1c4a54841b5bd89db674e4",
      "4b7c5b21e4a043e9a1d4402862239476",
      "1b77566b241f4781a6194b05f5e841c9",
      "cf4f0f955f964f43a00f82f37012e7c9",
      "b7772789dc784adeb6385aac9dae21be",
      "6ef7ece3a01b406c8011f461fdf90c1f"
     ]
    },
    "executionInfo": {
     "elapsed": 8107,
     "status": "ok",
     "timestamp": 1754826402788,
     "user": {
      "displayName": "runner jogi",
      "userId": "17090129783586980987"
     },
     "user_tz": -120
    },
    "id": "6ayWppVSJSX7",
    "outputId": "a6c4b810-ac99-4e98-b4e5-c9bc482df220"
   },
   "outputs": [],
   "source": [
    "\n",
    "# ===== 6. Modell betöltése =====\n",
    "'''\n",
    "model = BertForSequenceClassification.from_pretrained(\n",
    "    \"SZTAKI-HLT/hubert-base-cc\",\n",
    "    num_labels=2  # pozitív / negatív\n",
    ")\n",
    "'''\n",
    "# Dropout növelése\n",
    "model = BertForSequenceClassification.from_pretrained(\n",
    "    \"SZTAKI-HLT/hubert-base-cc\",\n",
    "    num_labels=2,  # pozitív / negatív\n",
    "    hidden_dropout_prob=0.3,  # alap 0.1 → növelve\n",
    "    attention_probs_dropout_prob=0.3\n",
    ")\n"
   ]
  },
  {
   "cell_type": "code",
   "execution_count": null,
   "metadata": {
    "executionInfo": {
     "elapsed": 3822,
     "status": "ok",
     "timestamp": 1754826406605,
     "user": {
      "displayName": "runner jogi",
      "userId": "17090129783586980987"
     },
     "user_tz": -120
    },
    "id": "zysdKTc8JXgq"
   },
   "outputs": [],
   "source": [
    "# ===== 7. Tanítási beállítások =====\n",
    "training_args = TrainingArguments(\n",
    "    output_dir=\"./bert_vers_hangulat\",\n",
    "    #evaluation_strategy=\"epoch\",\n",
    "    eval_strategy=\"epoch\",\n",
    "    save_strategy=\"epoch\",\n",
    "    #num_train_epochs=10, # túltanul\n",
    "    num_train_epochs=6, # itt még csökkent a validation_loss\n",
    "    per_device_train_batch_size=4,\n",
    "    #learning_rate=1e-5,\n",
    "    #Ha túl nagy a learning rate, a modell paraméterei \"túl nagyot ugranak\", és nem tud stabilan konvergálni.\n",
    "    learning_rate=5e-6,  # fele akkora\n",
    "    logging_dir=\"./logs\",\n",
    "    logging_steps=10\n",
    ")"
   ]
  },
  {
   "cell_type": "code",
   "execution_count": null,
   "metadata": {
    "executionInfo": {
     "elapsed": 7,
     "status": "ok",
     "timestamp": 1754826406697,
     "user": {
      "displayName": "runner jogi",
      "userId": "17090129783586980987"
     },
     "user_tz": -120
    },
    "id": "JByTpJdrKR3i"
   },
   "outputs": [],
   "source": [
    "import numpy as np\n",
    "from sklearn.metrics import accuracy_score, classification_report\n",
    "\n",
    "# ===== 12. Pontosság kiértékelő függvény =====\n",
    "def compute_metrics(pred):\n",
    "    labels = pred.label_ids\n",
    "    preds = np.argmax(pred.predictions, axis=-1)\n",
    "    acc = accuracy_score(labels, preds)\n",
    "    return {\"accuracy\": acc}"
   ]
  },
  {
   "cell_type": "code",
   "execution_count": null,
   "metadata": {
    "colab": {
     "base_uri": "https://localhost:8080/"
    },
    "executionInfo": {
     "elapsed": 732,
     "status": "ok",
     "timestamp": 1754826407451,
     "user": {
      "displayName": "runner jogi",
      "userId": "17090129783586980987"
     },
     "user_tz": -120
    },
    "id": "cQub9AfhKKMz",
    "outputId": "00403b46-46c2-4bed-b2c6-e9f1b0c3599a"
   },
   "outputs": [],
   "source": [
    "# ===== 13. Trainer újradefiniálása metric-kel =====\n",
    "trainer = Trainer(\n",
    "    model=model,\n",
    "    args=training_args,\n",
    "    train_dataset=train_tokenized_dataset,\n",
    "    eval_dataset=test_tokenized_dataset,\n",
    "    tokenizer=tokenizer,\n",
    "    compute_metrics=compute_metrics\n",
    ")"
   ]
  },
  {
   "cell_type": "markdown",
   "metadata": {
    "id": "LR49dZsP-cFy"
   },
   "source": [
    "## A wandb.ai (Weights & Biases) egy AI fejlesztői platform\n",
    "A wandb.ai egy átfogó, sokoldalú eszközkészlet, amely segít a gépi tanulási modellek fejlesztésének, finomhangolásának, megosztásának és monitorozásának egyszerűsítésében és skálázásában."
   ]
  },
  {
   "cell_type": "markdown",
   "metadata": {
    "id": "8WKOdcMf90CK"
   },
   "source": [
    "API kulcs innen regisztráció után:\n",
    "https://wandb.ai/authorize?ref=models"
   ]
  },
  {
   "cell_type": "markdown",
   "metadata": {},
   "source": [
    "# Train tapasztalatok\n",
    "\n",
    "num_train_epochs=6, Pontosság: 76.47% , Pontosság: 83.33% ( eval_accuracy -ból számított)\n",
    "num_train_epochs=5, Pontosság: 76.22% , "
   ]
  },
  {
   "cell_type": "code",
   "execution_count": null,
   "metadata": {
    "colab": {
     "base_uri": "https://localhost:8080/",
     "height": 541
    },
    "executionInfo": {
     "elapsed": 1516615,
     "status": "ok",
     "timestamp": 1754827924063,
     "user": {
      "displayName": "runner jogi",
      "userId": "17090129783586980987"
     },
     "user_tz": -120
    },
    "id": "sqXw411YJu4n",
    "outputId": "15a5614f-f83a-4114-a060-be230bc22bb0"
   },
   "outputs": [],
   "source": [
    "# ===== 9. Modell tanítása =====\n",
    "trainer.train()"
   ]
  },
  {
   "cell_type": "code",
   "execution_count": null,
   "metadata": {
    "executionInfo": {
     "elapsed": 7,
     "status": "ok",
     "timestamp": 1754827924121,
     "user": {
      "displayName": "runner jogi",
      "userId": "17090129783586980987"
     },
     "user_tz": -120
    },
    "id": "PJLDsmN75T0g"
   },
   "outputs": [],
   "source": [
    "kimenet_versek =[]"
   ]
  },
  {
   "cell_type": "code",
   "execution_count": null,
   "metadata": {
    "executionInfo": {
     "elapsed": 24,
     "status": "ok",
     "timestamp": 1754827924151,
     "user": {
      "displayName": "runner jogi",
      "userId": "17090129783586980987"
     },
     "user_tz": -120
    },
    "id": "TsmHdZOAf0f4"
   },
   "outputs": [],
   "source": [
    "# ===== 10. Függvény új versek értékelésére =====\n",
    "def predikcio(uj_df):\n",
    "\n",
    "    global model, tokenizer, label_map \n",
    "\n",
    "    uj_versek = uj_df[\"vers\"].tolist()\n",
    "\n",
    "    label_map = {\"poz\": 0, \"neg\": 1}\n",
    "    uj_df[\"tipus\"] = uj_df[\"tipus\"].map(label_map)\n",
    "    true_labels = uj_df[\"tipus\"].values  # string címkék\n",
    "\n",
    "\n",
    "    model.eval()\n",
    "\n",
    "    #A tokenizer(...) után a bemeneti tensort is ugyanarra az eszközre kell rakni, ahol a model van.\n",
    "    device = torch.device(\"cuda\" if torch.cuda.is_available() else \"cpu\")\n",
    "    model = model.to(device)\n",
    "    \n",
    "    inputs = tokenizer(uj_versek, truncation=True, padding=True, max_length=128, return_tensors=\"pt\").to(device)  # <-- fontos: ide is to(device)\n",
    "    with torch.no_grad():\n",
    "        outputs = model(**inputs)\n",
    "        logits = outputs.logits\n",
    "        predictions = torch.argmax(logits, dim=-1).cpu().numpy()  # CPU-ra vissza, ha numpy kell\n",
    "\n",
    "    # Pontosság számítása\n",
    "    acc = accuracy_score(true_labels, predictions)\n",
    "    print(f\"Pontosság az új verseken: {acc*100:.2f}%\")\n",
    "\n",
    "    inverse_label_map = {0: \"poz (pozitív)\", 1: \"neg (negatív)\"}\n",
    "\n",
    "    for szerzo, cim,  vers, link, pred, valodi in zip(uj_df[\"szerzo\"] , uj_df[\"cim\"], uj_df[\"vers\"], uj_df[\"link\"], predictions, true_labels):\n",
    "        print(f\"Vers: {vers[:40]}... Predikció: {inverse_label_map[pred]} | Valódi: {inverse_label_map[valodi]}\")\n",
    "        adat = {\n",
    "            \"szerzo\": szerzo,\n",
    "            \"cim\": cim,\n",
    "            \"vers\": vers,\n",
    "            \"link\" : link,\n",
    "            \"valodi\": inverse_label_map[valodi],\n",
    "            \"predikcio\": inverse_label_map[pred]\n",
    "        }\n",
    "        kimenet_versek.append(adat)\n"
   ]
  },
  {
   "cell_type": "code",
   "execution_count": null,
   "metadata": {
    "executionInfo": {
     "elapsed": 26,
     "status": "ok",
     "timestamp": 1754827924158,
     "user": {
      "displayName": "runner jogi",
      "userId": "17090129783586980987"
     },
     "user_tz": -120
    },
    "id": "d6Eivw93hfjH"
   },
   "outputs": [],
   "source": [
    "# ===== Új CSV beolvasása =====\n",
    "\n",
    "uj_versek = pd.read_csv(\"ellenorzo_vers_adatok.csv\", encoding=\"utf-8\")  # tipus, vers oszlopok\n",
    "\n"
   ]
  },
  {
   "cell_type": "markdown",
   "metadata": {},
   "source": [
    "# Biztonsági ellenőrzés, hogy vannak-e azonos versek"
   ]
  },
  {
   "cell_type": "code",
   "execution_count": null,
   "metadata": {},
   "outputs": [],
   "source": [
    "\n",
    "\n",
    "kozos_cimek_szerzok = pd.merge(df, uj_versek, on=['cim', 'szerzo'])\n",
    "kozos_cimek_szerzok"
   ]
  },
  {
   "cell_type": "code",
   "execution_count": null,
   "metadata": {
    "colab": {
     "base_uri": "https://localhost:8080/",
     "height": 321
    },
    "executionInfo": {
     "elapsed": 187,
     "status": "error",
     "timestamp": 1754828076507,
     "user": {
      "displayName": "runner jogi",
      "userId": "17090129783586980987"
     },
     "user_tz": -120
    },
    "id": "ZmL582ifhVNB",
    "outputId": "46f5069c-e83a-4b5e-a415-6fc0d8bed978"
   },
   "outputs": [],
   "source": [
    "predikcio(uj_versek)"
   ]
  },
  {
   "cell_type": "code",
   "execution_count": null,
   "metadata": {
    "executionInfo": {
     "elapsed": 1685192,
     "status": "aborted",
     "timestamp": 1754827924651,
     "user": {
      "displayName": "runner jogi",
      "userId": "17090129783586980987"
     },
     "user_tz": -120
    },
    "id": "_rNg_NVV7NBC"
   },
   "outputs": [],
   "source": [
    "# Lista → DataFrame\n",
    "kimenet_df = pd.DataFrame(kimenet_versek)"
   ]
  },
  {
   "cell_type": "code",
   "execution_count": null,
   "metadata": {
    "executionInfo": {
     "elapsed": 1685193,
     "status": "aborted",
     "timestamp": 1754827924656,
     "user": {
      "displayName": "runner jogi",
      "userId": "17090129783586980987"
     },
     "user_tz": -120
    },
    "id": "en8Xm33DZ41P"
   },
   "outputs": [],
   "source": [
    "kimenet_df.shape\n"
   ]
  },
  {
   "cell_type": "code",
   "execution_count": null,
   "metadata": {
    "executionInfo": {
     "elapsed": 1685191,
     "status": "aborted",
     "timestamp": 1754827924659,
     "user": {
      "displayName": "runner jogi",
      "userId": "17090129783586980987"
     },
     "user_tz": -120
    },
    "id": "AoNxyX-dag4g"
   },
   "outputs": [],
   "source": [
    "egyezesek_szama = (kimenet_df[\"valodi\"] == kimenet_df[\"predikcio\"]).sum()\n",
    "print(\"Egyezések száma:\", egyezesek_szama)"
   ]
  },
  {
   "cell_type": "code",
   "execution_count": null,
   "metadata": {
    "executionInfo": {
     "elapsed": 1685192,
     "status": "aborted",
     "timestamp": 1754827924663,
     "user": {
      "displayName": "runner jogi",
      "userId": "17090129783586980987"
     },
     "user_tz": -120
    },
    "id": "6PG2jzZOatbY"
   },
   "outputs": [],
   "source": [
    "egyezesek_szama = (kimenet_df[\"valodi\"] == kimenet_df[\"predikcio\"]).sum()\n",
    "pontossag = egyezesek_szama / kimenet_df.shape[0] * 100  # százalékos érték\n",
    "print(f\"Pontosság: {pontossag:.2f}%\")"
   ]
  },
  {
   "cell_type": "code",
   "execution_count": null,
   "metadata": {
    "executionInfo": {
     "elapsed": 1685192,
     "status": "aborted",
     "timestamp": 1754827924667,
     "user": {
      "displayName": "runner jogi",
      "userId": "17090129783586980987"
     },
     "user_tz": -120
    },
    "id": "iPitXtW67WLi"
   },
   "outputs": [],
   "source": [
    "\n",
    "# Mentés CSV-be (UTF-8 kódolással)\n",
    "kimenet_df.to_csv(\"kimenet_versek.csv\", index=False, encoding=\"utf-8\")"
   ]
  },
  {
   "cell_type": "code",
   "execution_count": null,
   "metadata": {
    "executionInfo": {
     "elapsed": 1685196,
     "status": "aborted",
     "timestamp": 1754827924674,
     "user": {
      "displayName": "runner jogi",
      "userId": "17090129783586980987"
     },
     "user_tz": -120
    },
    "id": "TfdqszUpZb_Q"
   },
   "outputs": [],
   "source": [
    "kimenet_df.to_excel(\"kimenet_versek.xlsx\", index=False)"
   ]
  },
  {
   "cell_type": "code",
   "execution_count": null,
   "metadata": {
    "executionInfo": {
     "elapsed": 1685199,
     "status": "aborted",
     "timestamp": 1754827924680,
     "user": {
      "displayName": "runner jogi",
      "userId": "17090129783586980987"
     },
     "user_tz": -120
    },
    "id": "RJ7U5-nzMxSj"
   },
   "outputs": [],
   "source": [
    "# ===== 15. Validációs eredmények kiírása =====\n",
    "eval_result = trainer.evaluate()\n",
    "print(f\"Pontosság: {eval_result['eval_accuracy']*100:.2f}%\")"
   ]
  },
  {
   "cell_type": "markdown",
   "metadata": {
    "id": "s-LqtffRTaVy"
   },
   "source": [
    "Ha a validation_loss egy pont után emelkedik, az overfitting kezdete ott van → ott érdemes leállítani az epoch-okat."
   ]
  },
  {
   "cell_type": "code",
   "execution_count": null,
   "metadata": {
    "executionInfo": {
     "elapsed": 1685202,
     "status": "aborted",
     "timestamp": 1754827924689,
     "user": {
      "displayName": "runner jogi",
      "userId": "17090129783586980987"
     },
     "user_tz": -120
    },
    "id": "4ajrKEkOTRBd"
   },
   "outputs": [],
   "source": [
    "import pandas as pd\n",
    "import matplotlib.pyplot as plt\n",
    "import os\n",
    "\n",
    "# TensorBoard log mappa (training_args.logging_dir)\n",
    "log_dir = \"./logs\"\n",
    "\n",
    "# TensorBoard adatok betöltése\n",
    "# (A scalar fájlokból kiszedi az \"epoch\", \"train_loss\", \"eval_loss\" értékeket)\n",
    "def load_tb_logs(log_dir):\n",
    "    from tensorboard.backend.event_processing import event_accumulator\n",
    "    ea = event_accumulator.EventAccumulator(log_dir)\n",
    "    ea.Reload()\n",
    "\n",
    "    def extract_scalar(tag):\n",
    "        if tag in ea.Tags()[\"scalars\"]:\n",
    "            return [(s.step, s.value) for s in ea.Scalars(tag)]\n",
    "        return []\n",
    "\n",
    "    train_loss = extract_scalar(\"train/loss\")\n",
    "    eval_loss = extract_scalar(\"eval/loss\")\n",
    "\n",
    "    return train_loss, eval_loss\n",
    "\n",
    "train_loss, eval_loss = load_tb_logs(log_dir)\n",
    "\n",
    "# Adatok DataFrame-be\n",
    "df_train = pd.DataFrame(train_loss, columns=[\"step\", \"train_loss\"])\n",
    "df_eval = pd.DataFrame(eval_loss, columns=[\"step\", \"eval_loss\"])\n",
    "\n",
    "# Rajzolás\n",
    "plt.figure(figsize=(8,5))\n",
    "plt.plot(df_train[\"step\"], df_train[\"train_loss\"], label=\"Train Loss\")\n",
    "plt.plot(df_eval[\"step\"], df_eval[\"eval_loss\"], label=\"Validation Loss\")\n",
    "plt.xlabel(\"Step\")\n",
    "plt.ylabel(\"Loss\")\n",
    "plt.title(\"BERT tanítás - Train vs Validation Loss\")\n",
    "plt.legend()\n",
    "plt.grid(True)\n",
    "plt.show()\n"
   ]
  },
  {
   "cell_type": "code",
   "execution_count": null,
   "metadata": {},
   "outputs": [],
   "source": []
  },
  {
   "cell_type": "code",
   "execution_count": null,
   "metadata": {},
   "outputs": [],
   "source": []
  }
 ],
 "metadata": {
  "accelerator": "GPU",
  "colab": {
   "authorship_tag": "ABX9TyNKsSrgiioqedYrSK5IuS8a",
   "gpuType": "T4",
   "provenance": []
  },
  "kernelspec": {
   "display_name": "Python 3 (ipykernel)",
   "language": "python",
   "name": "python3"
  },
  "language_info": {
   "codemirror_mode": {
    "name": "ipython",
    "version": 3
   },
   "file_extension": ".py",
   "mimetype": "text/x-python",
   "name": "python",
   "nbconvert_exporter": "python",
   "pygments_lexer": "ipython3",
   "version": "3.9.21"
  }
 },
 "nbformat": 4,
 "nbformat_minor": 4
}
