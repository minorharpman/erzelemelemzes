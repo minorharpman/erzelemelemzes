{
 "cells": [
  {
   "cell_type": "markdown",
   "metadata": {
    "id": "pr_Nje-a_S8M"
   },
   "source": [
    "# Érzelemelemzés BERT-alapú modell segítségével"
   ]
  },
  {
   "cell_type": "markdown",
   "metadata": {
    "id": "SGTg1w5I_Qn7"
   },
   "source": [
    "## Modell: SZTAKI-HLT/hubert-base-cc\n",
    "Egy magyar BERT-alapú modell (pl. SZTAKI-HLT/hubert-base-cc vagy SZTAKI-HLT/hubert-base-cc) érzelmi osztályozásra való finomhangolása (fine-tuning) azt jelenti, hogy olyan adatokat adsz a modellnek, amelyből megtanulja, hogy egy szöveg pozitív, negatív vagy semleges hangulatú (vagy akár részletesebb érzelmi kategóriákba tartozik: félelem, szeretet, harag stb.)."
   ]
  },
  {
   "cell_type": "code",
   "execution_count": 304,
   "metadata": {
    "colab": {
     "base_uri": "https://localhost:8080/"
    },
    "executionInfo": {
     "elapsed": 107013,
     "status": "ok",
     "timestamp": 1754826346569,
     "user": {
      "displayName": "runner jogi",
      "userId": "17090129783586980987"
     },
     "user_tz": -120
    },
    "id": "SQnNR8S--l7u",
    "outputId": "bb684606-58df-4961-e021-63ed80a5debd"
   },
   "outputs": [],
   "source": [
    "#!pip install transformers datasets torch scikit-learn"
   ]
  },
  {
   "cell_type": "code",
   "execution_count": 305,
   "metadata": {},
   "outputs": [],
   "source": [
    "#! pip install tf-keras"
   ]
  },
  {
   "cell_type": "code",
   "execution_count": 1,
   "metadata": {
    "executionInfo": {
     "elapsed": 44842,
     "status": "ok",
     "timestamp": 1754826391417,
     "user": {
      "displayName": "runner jogi",
      "userId": "17090129783586980987"
     },
     "user_tz": -120
    },
    "id": "62vUueZi_awg"
   },
   "outputs": [
    {
     "name": "stderr",
     "output_type": "stream",
     "text": [
      "2025-08-12 14:28:40.807719: I tensorflow/core/util/port.cc:153] oneDNN custom operations are on. You may see slightly different numerical results due to floating-point round-off errors from different computation orders. To turn them off, set the environment variable `TF_ENABLE_ONEDNN_OPTS=0`.\n",
      "2025-08-12 14:28:40.816487: E external/local_xla/xla/stream_executor/cuda/cuda_fft.cc:467] Unable to register cuFFT factory: Attempting to register factory for plugin cuFFT when one has already been registered\n",
      "WARNING: All log messages before absl::InitializeLog() is called are written to STDERR\n",
      "E0000 00:00:1755001720.827213   41044 cuda_dnn.cc:8579] Unable to register cuDNN factory: Attempting to register factory for plugin cuDNN when one has already been registered\n",
      "E0000 00:00:1755001720.830718   41044 cuda_blas.cc:1407] Unable to register cuBLAS factory: Attempting to register factory for plugin cuBLAS when one has already been registered\n",
      "W0000 00:00:1755001720.839683   41044 computation_placer.cc:177] computation placer already registered. Please check linkage and avoid linking the same target more than once.\n",
      "W0000 00:00:1755001720.839694   41044 computation_placer.cc:177] computation placer already registered. Please check linkage and avoid linking the same target more than once.\n",
      "W0000 00:00:1755001720.839695   41044 computation_placer.cc:177] computation placer already registered. Please check linkage and avoid linking the same target more than once.\n",
      "W0000 00:00:1755001720.839696   41044 computation_placer.cc:177] computation placer already registered. Please check linkage and avoid linking the same target more than once.\n",
      "2025-08-12 14:28:40.842489: I tensorflow/core/platform/cpu_feature_guard.cc:210] This TensorFlow binary is optimized to use available CPU instructions in performance-critical operations.\n",
      "To enable the following instructions: AVX2 AVX_VNNI FMA, in other operations, rebuild TensorFlow with the appropriate compiler flags.\n"
     ]
    }
   ],
   "source": [
    "import pandas as pd\n",
    "from sklearn.model_selection import train_test_split\n",
    "from datasets import Dataset\n",
    "from transformers import AutoTokenizer, BertForSequenceClassification, TrainingArguments, Trainer\n",
    "import torch\n"
   ]
  },
  {
   "cell_type": "code",
   "execution_count": 2,
   "metadata": {},
   "outputs": [],
   "source": [
    "# korlátlan hosszúságban jelenik meg a szöveg teljes egészében a cellában, nem vágja le\n",
    "pd.set_option('display.max_colwidth', None)\n",
    "# Ezzel a beállítással a megjelenített sorok maximális száma 200 sorra nő\n",
    "pd.set_option('display.max_rows', 200)"
   ]
  },
  {
   "cell_type": "markdown",
   "metadata": {},
   "source": [
    "# Tapasztalat:\n",
    "* Pozitív kategóriájú versek között sok negatív volt. Átnéztem őket"
   ]
  },
  {
   "cell_type": "code",
   "execution_count": 3,
   "metadata": {
    "executionInfo": {
     "elapsed": 6,
     "status": "ok",
     "timestamp": 1754826391427,
     "user": {
      "displayName": "runner jogi",
      "userId": "17090129783586980987"
     },
     "user_tz": -120
    },
    "id": "pHNUAtBTIq_M"
   },
   "outputs": [],
   "source": [
    "# ===== 1. CSV beolvasása =====\n",
    "df_eredeti = pd.read_csv(\"vers_adatok.csv\", encoding=\"utf-8\")  # oszlopok: tipus, vers"
   ]
  },
  {
   "cell_type": "markdown",
   "metadata": {},
   "source": [
    "# Versek szűrése"
   ]
  },
  {
   "cell_type": "code",
   "execution_count": 4,
   "metadata": {},
   "outputs": [
    {
     "data": {
      "text/html": [
       "<div>\n",
       "<style scoped>\n",
       "    .dataframe tbody tr th:only-of-type {\n",
       "        vertical-align: middle;\n",
       "    }\n",
       "\n",
       "    .dataframe tbody tr th {\n",
       "        vertical-align: top;\n",
       "    }\n",
       "\n",
       "    .dataframe thead th {\n",
       "        text-align: right;\n",
       "    }\n",
       "</style>\n",
       "<table border=\"1\" class=\"dataframe\">\n",
       "  <thead>\n",
       "    <tr style=\"text-align: right;\">\n",
       "      <th></th>\n",
       "      <th>tipus</th>\n",
       "      <th>szerzo</th>\n",
       "      <th>cim</th>\n",
       "      <th>vers</th>\n",
       "      <th>link</th>\n",
       "    </tr>\n",
       "  </thead>\n",
       "  <tbody>\n",
       "    <tr>\n",
       "      <th>49</th>\n",
       "      <td>OFF</td>\n",
       "      <td>Kucman Annamária</td>\n",
       "      <td>Vendégeim</td>\n",
       "      <td>Van, hogy mellkasomra ül a maró fájdalom. Nem hívom - csak jön, s én csendben fogadom. Kedves vendég Ő is: szívemet elé tárom, suttoghatja búját-baját - én hallgatom. Van, hogy mellkasomban dúdol az öröm. Kitár minden ablakot, táncol, könnyedén pörög. Kedves vendég Ő is: lelkemet átadom, kacaghatja dalát - én hallgatom. Kitombolták magukat, csendben elvonulnak. Még viszlátot sem mondanak.</td>\n",
       "      <td>https://poet.hu/vers/392518</td>\n",
       "    </tr>\n",
       "    <tr>\n",
       "      <th>103</th>\n",
       "      <td>OFF</td>\n",
       "      <td>Pete Margit</td>\n",
       "      <td>A felhőcske álma</td>\n",
       "      <td>Van, hogy mellkasomra ül a maró fájdalom. Nem hívom - csak jön, s én csendben fogadom. Kedves vendég Ő is: szívemet elé tárom, suttoghatja búját-baját - én hallgatom. Van, hogy mellkasomban dúdol az öröm. Kitár minden ablakot, táncol, könnyedén pörög. Kedves vendég Ő is: lelkemet átadom, kacaghatja dalát - én hallgatom. Kitombolták magukat, csendben elvonulnak. Még viszlátot sem mondanak.</td>\n",
       "      <td>https://poet.hu/vers/388257</td>\n",
       "    </tr>\n",
       "  </tbody>\n",
       "</table>\n",
       "</div>"
      ],
      "text/plain": [
       "    tipus            szerzo               cim  \\\n",
       "49    OFF  Kucman Annamária         Vendégeim   \n",
       "103   OFF       Pete Margit  A felhőcske álma   \n",
       "\n",
       "                                                                                                                                                                                                                                                                                                                                                                                                        vers  \\\n",
       "49   Van, hogy mellkasomra ül a maró fájdalom. Nem hívom - csak jön, s én csendben fogadom. Kedves vendég Ő is: szívemet elé tárom, suttoghatja búját-baját - én hallgatom. Van, hogy mellkasomban dúdol az öröm. Kitár minden ablakot, táncol, könnyedén pörög. Kedves vendég Ő is: lelkemet átadom, kacaghatja dalát - én hallgatom. Kitombolták magukat, csendben elvonulnak. Még viszlátot sem mondanak.   \n",
       "103  Van, hogy mellkasomra ül a maró fájdalom. Nem hívom - csak jön, s én csendben fogadom. Kedves vendég Ő is: szívemet elé tárom, suttoghatja búját-baját - én hallgatom. Van, hogy mellkasomban dúdol az öröm. Kitár minden ablakot, táncol, könnyedén pörög. Kedves vendég Ő is: lelkemet átadom, kacaghatja dalát - én hallgatom. Kitombolták magukat, csendben elvonulnak. Még viszlátot sem mondanak.   \n",
       "\n",
       "                            link  \n",
       "49   https://poet.hu/vers/392518  \n",
       "103  https://poet.hu/vers/388257  "
      ]
     },
     "execution_count": 4,
     "metadata": {},
     "output_type": "execute_result"
    }
   ],
   "source": [
    "sorok = df_eredeti[df_eredeti['vers'].str.startswith('Van, hogy mellkasomra ül') ]\n",
    "sorok"
   ]
  },
  {
   "cell_type": "code",
   "execution_count": 5,
   "metadata": {},
   "outputs": [
    {
     "name": "stdout",
     "output_type": "stream",
     "text": [
      "OFF száma: 17\n",
      "poz száma: 88\n",
      "neg száma: 90\n"
     ]
    }
   ],
   "source": [
    "counts = df_eredeti['tipus'].value_counts()\n",
    "\n",
    "print(\"OFF száma:\", counts.get('OFF', 0))\n",
    "print(\"poz száma:\", counts.get('poz', 0))\n",
    "print(\"neg száma:\", counts.get('neg', 0))"
   ]
  },
  {
   "cell_type": "code",
   "execution_count": 6,
   "metadata": {},
   "outputs": [],
   "source": [
    "df_poz = df_eredeti[df_eredeti['tipus'] == 'poz'].copy()"
   ]
  },
  {
   "cell_type": "code",
   "execution_count": 7,
   "metadata": {},
   "outputs": [
    {
     "data": {
      "text/plain": [
       "(88, 5)"
      ]
     },
     "execution_count": 7,
     "metadata": {},
     "output_type": "execute_result"
    }
   ],
   "source": [
    "df_poz.shape"
   ]
  },
  {
   "cell_type": "code",
   "execution_count": 8,
   "metadata": {},
   "outputs": [
    {
     "data": {
      "text/html": [
       "<div>\n",
       "<style scoped>\n",
       "    .dataframe tbody tr th:only-of-type {\n",
       "        vertical-align: middle;\n",
       "    }\n",
       "\n",
       "    .dataframe tbody tr th {\n",
       "        vertical-align: top;\n",
       "    }\n",
       "\n",
       "    .dataframe thead th {\n",
       "        text-align: right;\n",
       "    }\n",
       "</style>\n",
       "<table border=\"1\" class=\"dataframe\">\n",
       "  <thead>\n",
       "    <tr style=\"text-align: right;\">\n",
       "      <th></th>\n",
       "      <th>tipus</th>\n",
       "      <th>szerzo</th>\n",
       "      <th>cim</th>\n",
       "      <th>vers</th>\n",
       "      <th>link</th>\n",
       "    </tr>\n",
       "  </thead>\n",
       "  <tbody>\n",
       "    <tr>\n",
       "      <th>0</th>\n",
       "      <td>poz</td>\n",
       "      <td>Niiki</td>\n",
       "      <td>Az leszek, minek te kívánsz</td>\n",
       "      <td>Az leszek, minek te kívánsz, Ha kell, feladom érted önmagam. Nem számít úgysem, hisz így látsz, A konok önérzet itt már hasztalan. Az leszek, minek te kívánsz, Ha csend kell, ígérem, hallgatok. Ha kéz kell, mi óv, s vigyáz. Tudod, örökkön veled ballagok. Az leszek, minek te kívánsz, Az igazam többé nem vágyom, Ahogy akarod, velem úgy bánsz, Lehetsz rideg tél, szép álom. Hát az leszek, minek te kívánsz, Hogy ki vagyok, én már nem tudom. De nem számít, mert így, így látsz, S én is, anélkül, hogy szemem lehunyom.</td>\n",
       "      <td>https://poet.hu/vers/394075</td>\n",
       "    </tr>\n",
       "    <tr>\n",
       "      <th>1</th>\n",
       "      <td>poz</td>\n",
       "      <td>Tóth Zoltán Attila</td>\n",
       "      <td>Tizenhárom év</td>\n",
       "      <td>Drága Feleségemnek Tizenhárom éve lettél mindenem, Egy pillantásból született szerelem. Azóta együtt sírtunk, nevettünk, Tűzön-vízen át - kéz a kézben mentünk. Volt, hogy vihar tépte szívünk kertjét, De együtt gondoztuk tovább a reményt. A jónak örültünk, rosszban tanultunk, Nem csak házasok, de társak is voltunk. Tíz év után - szívem rég döntött, Életem Veled teljes és kötött. Akkor kértelek: legyél örökre társam, S már három éve Feleségem vagy álmomban s valóságban. És bár az idő ráncokat is sző, A szívemben ma is ugyanúgy nő Az érzés, mi akkor lángra kapott - Sosem hunyt ki, csak egyre nagyobb. Te vagy otthonom, csendem, zajom, Mindenem vagy, minden dalom. S ha újra kezdeném - csak Veled tenném, Mert Te vagy a kincsem, az örök szerelmem, a lényem.</td>\n",
       "      <td>https://poet.hu/vers/394067</td>\n",
       "    </tr>\n",
       "    <tr>\n",
       "      <th>2</th>\n",
       "      <td>poz</td>\n",
       "      <td>Földi László</td>\n",
       "      <td>A hegy</td>\n",
       "      <td>Elindultam életem ösvényén, mely, úgy hiszem, Hozzád vezet. Nem látom, mi vár a legvégén, mert előttem van ez a hegy. A hegy, mit kikerülni nem tudok, mert a tetején kell leraknom terhemet. Lehet, hogy sokáig tart, mire feljutok, de meg kell tisztítanom a lelkemet. Ezt a hegyet én teremtettem meg, és legyőzni is nekem kell majd. Lehet, hogy a lábam néha megremeg, de felejteni akarok bút s bajt. Az utamon nem kísérhetsz el, mert Te is mászod a hegyedet. Talán felém indultál, s egyszer megfoghatom majd a kezedet. Mert mi vezeti az én lépteimet, az az irántad érzett szeretet. Ami bearanyozza az életemet, s így elbírok bármilyen terepet. Ha egyszer felérek a csúcsra, le fogom tenni minden terhemet. Elnézek majd a horizonton túlra, s keresni fogom páratlan fényedet. Nem tudhatom, hogy mikor megérkezem, ott leszel-e, s fogsz-e várni rám. Csak azt tudom, hogy én ott leszek, s várni foglak minden esős délután. Mert döntsön a sors bármit is, a szívem mindig a Tiéd lesz már. Ha nem lehetünk együtt, akkor is, Te szabadon szálló, gyönyörű madár.</td>\n",
       "      <td>https://poet.hu/vers/394044</td>\n",
       "    </tr>\n",
       "    <tr>\n",
       "      <th>3</th>\n",
       "      <td>poz</td>\n",
       "      <td>Dobos</td>\n",
       "      <td>Az Otthonom</td>\n",
       "      <td>Álmaimban is üldözöl, Melegséged üdvözöl, Buta játékokat játszva Csalunk mosolyt egymás arcára. Erősen szorítottad a kezemet, S én is a tiédet, Nem tudom megállni, Hogy ne érintselek meg téged. Akárhányszor rád nézek Vagy rád gondolok, A boldog percek órákká nőnek, S rájövök, hogy te vagy az otthonom. Képtelen vagyok mással azt érezni, mint veled, Te egyedi voltál, vagy, s remélem, leszel is nekem.</td>\n",
       "      <td>https://poet.hu/vers/394022</td>\n",
       "    </tr>\n",
       "    <tr>\n",
       "      <th>4</th>\n",
       "      <td>poz</td>\n",
       "      <td>B. Beáta</td>\n",
       "      <td>Ölelés!</td>\n",
       "      <td>Csak egy ölelés. Csak egy kis érték. Valami különleges, Valódi érzés. Gyógyító megérzés. Melengető, szívből jövő. Sebeket elfedő. Igazán lelket melengető! Ritka kincs. Lehet több ebből?</td>\n",
       "      <td>https://poet.hu/vers/393949</td>\n",
       "    </tr>\n",
       "  </tbody>\n",
       "</table>\n",
       "</div>"
      ],
      "text/plain": [
       "  tipus              szerzo                          cim  \\\n",
       "0   poz               Niiki  Az leszek, minek te kívánsz   \n",
       "1   poz  Tóth Zoltán Attila                Tizenhárom év   \n",
       "2   poz        Földi László                       A hegy   \n",
       "3   poz               Dobos                  Az Otthonom   \n",
       "4   poz            B. Beáta                      Ölelés!   \n",
       "\n",
       "                                                                                                                                                                                                                                                                                                                                                                                                                                                                                                                                                                                                                                                                                                                                                                                                                                                                                                                                                                                                                                                                                        vers  \\\n",
       "0                                                                                                                                                                                                                                                                                                                                                                                                                                                                                                                                                        Az leszek, minek te kívánsz, Ha kell, feladom érted önmagam. Nem számít úgysem, hisz így látsz, A konok önérzet itt már hasztalan. Az leszek, minek te kívánsz, Ha csend kell, ígérem, hallgatok. Ha kéz kell, mi óv, s vigyáz. Tudod, örökkön veled ballagok. Az leszek, minek te kívánsz, Az igazam többé nem vágyom, Ahogy akarod, velem úgy bánsz, Lehetsz rideg tél, szép álom. Hát az leszek, minek te kívánsz, Hogy ki vagyok, én már nem tudom. De nem számít, mert így, így látsz, S én is, anélkül, hogy szemem lehunyom.   \n",
       "1                                                                                                                                                                                                                                                                                                   Drága Feleségemnek Tizenhárom éve lettél mindenem, Egy pillantásból született szerelem. Azóta együtt sírtunk, nevettünk, Tűzön-vízen át - kéz a kézben mentünk. Volt, hogy vihar tépte szívünk kertjét, De együtt gondoztuk tovább a reményt. A jónak örültünk, rosszban tanultunk, Nem csak házasok, de társak is voltunk. Tíz év után - szívem rég döntött, Életem Veled teljes és kötött. Akkor kértelek: legyél örökre társam, S már három éve Feleségem vagy álmomban s valóságban. És bár az idő ráncokat is sző, A szívemben ma is ugyanúgy nő Az érzés, mi akkor lángra kapott - Sosem hunyt ki, csak egyre nagyobb. Te vagy otthonom, csendem, zajom, Mindenem vagy, minden dalom. S ha újra kezdeném - csak Veled tenném, Mert Te vagy a kincsem, az örök szerelmem, a lényem.   \n",
       "2  Elindultam életem ösvényén, mely, úgy hiszem, Hozzád vezet. Nem látom, mi vár a legvégén, mert előttem van ez a hegy. A hegy, mit kikerülni nem tudok, mert a tetején kell leraknom terhemet. Lehet, hogy sokáig tart, mire feljutok, de meg kell tisztítanom a lelkemet. Ezt a hegyet én teremtettem meg, és legyőzni is nekem kell majd. Lehet, hogy a lábam néha megremeg, de felejteni akarok bút s bajt. Az utamon nem kísérhetsz el, mert Te is mászod a hegyedet. Talán felém indultál, s egyszer megfoghatom majd a kezedet. Mert mi vezeti az én lépteimet, az az irántad érzett szeretet. Ami bearanyozza az életemet, s így elbírok bármilyen terepet. Ha egyszer felérek a csúcsra, le fogom tenni minden terhemet. Elnézek majd a horizonton túlra, s keresni fogom páratlan fényedet. Nem tudhatom, hogy mikor megérkezem, ott leszel-e, s fogsz-e várni rám. Csak azt tudom, hogy én ott leszek, s várni foglak minden esős délután. Mert döntsön a sors bármit is, a szívem mindig a Tiéd lesz már. Ha nem lehetünk együtt, akkor is, Te szabadon szálló, gyönyörű madár.   \n",
       "3                                                                                                                                                                                                                                                                                                                                                                                                                                                                                                                                                                                                                                                                          Álmaimban is üldözöl, Melegséged üdvözöl, Buta játékokat játszva Csalunk mosolyt egymás arcára. Erősen szorítottad a kezemet, S én is a tiédet, Nem tudom megállni, Hogy ne érintselek meg téged. Akárhányszor rád nézek Vagy rád gondolok, A boldog percek órákká nőnek, S rájövök, hogy te vagy az otthonom. Képtelen vagyok mással azt érezni, mint veled, Te egyedi voltál, vagy, s remélem, leszel is nekem.   \n",
       "4                                                                                                                                                                                                                                                                                                                                                                                                                                                                                                                                                                                                                                                                                                                                                                                                                                                                                                  Csak egy ölelés. Csak egy kis érték. Valami különleges, Valódi érzés. Gyógyító megérzés. Melengető, szívből jövő. Sebeket elfedő. Igazán lelket melengető! Ritka kincs. Lehet több ebből?   \n",
       "\n",
       "                          link  \n",
       "0  https://poet.hu/vers/394075  \n",
       "1  https://poet.hu/vers/394067  \n",
       "2  https://poet.hu/vers/394044  \n",
       "3  https://poet.hu/vers/394022  \n",
       "4  https://poet.hu/vers/393949  "
      ]
     },
     "execution_count": 8,
     "metadata": {},
     "output_type": "execute_result"
    }
   ],
   "source": [
    "df_poz.head()"
   ]
  },
  {
   "cell_type": "code",
   "execution_count": 9,
   "metadata": {},
   "outputs": [],
   "source": [
    "df_neg = df_eredeti[df_eredeti['tipus'] == 'neg'].copy()"
   ]
  },
  {
   "cell_type": "markdown",
   "metadata": {},
   "source": [
    "# Az utólsó sort törlöm, hogy egyenő legyen a sorok száma a pozítív és a negatív dataframek-nél"
   ]
  },
  {
   "cell_type": "code",
   "execution_count": 10,
   "metadata": {},
   "outputs": [],
   "source": [
    "df_neg = df_neg[:-2]"
   ]
  },
  {
   "cell_type": "code",
   "execution_count": 11,
   "metadata": {},
   "outputs": [
    {
     "data": {
      "text/plain": [
       "(88, 5)"
      ]
     },
     "execution_count": 11,
     "metadata": {},
     "output_type": "execute_result"
    }
   ],
   "source": [
    "df_neg.shape"
   ]
  },
  {
   "cell_type": "code",
   "execution_count": 12,
   "metadata": {},
   "outputs": [
    {
     "data": {
      "text/html": [
       "<div>\n",
       "<style scoped>\n",
       "    .dataframe tbody tr th:only-of-type {\n",
       "        vertical-align: middle;\n",
       "    }\n",
       "\n",
       "    .dataframe tbody tr th {\n",
       "        vertical-align: top;\n",
       "    }\n",
       "\n",
       "    .dataframe thead th {\n",
       "        text-align: right;\n",
       "    }\n",
       "</style>\n",
       "<table border=\"1\" class=\"dataframe\">\n",
       "  <thead>\n",
       "    <tr style=\"text-align: right;\">\n",
       "      <th></th>\n",
       "      <th>tipus</th>\n",
       "      <th>szerzo</th>\n",
       "      <th>cim</th>\n",
       "      <th>vers</th>\n",
       "      <th>link</th>\n",
       "    </tr>\n",
       "  </thead>\n",
       "  <tbody>\n",
       "    <tr>\n",
       "      <th>105</th>\n",
       "      <td>neg</td>\n",
       "      <td>Sonorous</td>\n",
       "      <td>Az én Színházam</td>\n",
       "      <td>Az én színházamban összedőlt már Az összes díszlet. A színpadon állok, közönség nélkül, Ahogy az összes lámpa elsötétül, Meghajolok, a maszkot leveszem, Hiszen mögötte sincs már egyebem, Mint egy színtelen, szürke maszat. Az én városomban szürke minden, S én arc és név nélkül sétálhatok, Hang nélkül a semmibe kiálthatok. Ismeritek őt? Hogyan? Kicsodát? Még sosem láttuk. Hát nem ismeritek A névtelenség fővárosát? Pedig az enyém, Én itt lakom. Ez az én városom, az én Színházam, az én élettelen létem. Itt minden szabály az én törvényem... Itt békében élhetek, amíg meg nem halok, Nem kísért a sok meg nem vívott harcom. Senki nem ismer, nem lát, Nem ismeri fel a lábnyomaim porát. És sírhatok, hangosan vagy csendesen, Sosem volt még ilyen emberi az embertelen.</td>\n",
       "      <td>https://poet.hu/vers/394080</td>\n",
       "    </tr>\n",
       "    <tr>\n",
       "      <th>106</th>\n",
       "      <td>neg</td>\n",
       "      <td>Békássy Balázs</td>\n",
       "      <td>Kaszál a sárkány</td>\n",
       "      <td>Előzmény: Védtelen űrkutyák Örvény zavarja a levegőt, mi csapkod a szárnyaival? Keresgél a lény, de az orrában nincsen gőz. Pózna fogja a derekát, meglökték? Mintha megütötték volna. Elhajol a rúdja és fájlalja a fogait. Öltönybe bújt pap kap a levegőbe, de megy is valamire azzal a feszítővassal? Compó állkapcsát vonja kérdőre, az ellenség már a lengőajtón belül van. Árnyék fésüli a rémült s lélegzetét számláló anya haját, egy másik kismama odakint szellemként; babakocsit tol. A szemét eltakarják, Ő is bejönne inkább? Sötét a folyosó, de talán nem hörögnek a falak. A tűz odakint szórja vörös villámait, az ajtót zárjuk be! A torlasz álljon fel, mert ide nem lát be. A csapóajtó ereszkedjen fel, mindenhová nem követi az embert a hosszú kar kaparó vége. Óvatosan néz ki a két asszony az immár bealkonyult felszínre. A gyermekek csendben néznek, nézelődik a beton tükröződő tenyere.</td>\n",
       "      <td>https://poet.hu/vers/394076</td>\n",
       "    </tr>\n",
       "    <tr>\n",
       "      <th>107</th>\n",
       "      <td>neg</td>\n",
       "      <td>Fazekas Levente Áron</td>\n",
       "      <td>Négysoros</td>\n",
       "      <td>Csaholó levegővel törik be a tél. Az ég alá menekült a nap. Görnyed a piciny lámpafény. Magányos függöny libbent egy kadisát.</td>\n",
       "      <td>https://poet.hu/vers/394019</td>\n",
       "    </tr>\n",
       "    <tr>\n",
       "      <th>108</th>\n",
       "      <td>neg</td>\n",
       "      <td>Papp Ádám</td>\n",
       "      <td>Tudat alatt</td>\n",
       "      <td>Különös, néma éjszaka ez. Csend zakatol itt, meddig belátsz A mélázó agynak zsebébe. Zakatol és soha meg nem áll Egy röpke nyugodt pillanatra. Csak rohan a végzetbe sután. Fogaskerekei csak lassan, Hangtalan kattogva őrölnek Porrá. Lelket s téged. Csak lágyan. Hisz folyton pusztít, tép, s megzavar, Megbújó gonosz tanácsadó. Csendes gépezet, mi felkavar. Eléd tár sok száz elzárt sebet, S kés módjára újakat fakaszt Fájdalomból, mi benned veszett. Díszítve ezt kínnal és vérrel, Nagyítva s lelkedbe tűt döfve. S feledsz valóságot, életet. S tudatlan állsz a szakadék szélén, Egyedül, belül zakatoló Démonaiddal. Már elvesztél.</td>\n",
       "      <td>https://poet.hu/vers/393845</td>\n",
       "    </tr>\n",
       "    <tr>\n",
       "      <th>109</th>\n",
       "      <td>neg</td>\n",
       "      <td>Szanyi Bence</td>\n",
       "      <td>Félelem</td>\n",
       "      <td>Félelem? Elveszve, ténferegve hívogat az ég velem. Félelem? Élni, de csak óvatosan, íratlan szabályok börtönébe zárva. Valódi énünket csak soha, senki meg ne lássa. Ki voltam? Ki vagyok? Értelmetlen tűnődni. Nyelni egy nagyot, s el nem követett hibák miatt bűnhődni. Úgy tűnhet, az út végtelen, mégis feleszmélsz, és véget ér. Ne hagyd hát, hogy győzzön a félelem.</td>\n",
       "      <td>https://poet.hu/vers/393783</td>\n",
       "    </tr>\n",
       "  </tbody>\n",
       "</table>\n",
       "</div>"
      ],
      "text/plain": [
       "    tipus                szerzo               cim  \\\n",
       "105   neg              Sonorous   Az én Színházam   \n",
       "106   neg        Békássy Balázs  Kaszál a sárkány   \n",
       "107   neg  Fazekas Levente Áron         Négysoros   \n",
       "108   neg             Papp Ádám       Tudat alatt   \n",
       "109   neg          Szanyi Bence           Félelem   \n",
       "\n",
       "                                                                                                                                                                                                                                                                                                                                                                                                                                                                                                                                                                                                                                                                                                                                                                                                                                                                                                                        vers  \\\n",
       "105                                                                                                                             Az én színházamban összedőlt már Az összes díszlet. A színpadon állok, közönség nélkül, Ahogy az összes lámpa elsötétül, Meghajolok, a maszkot leveszem, Hiszen mögötte sincs már egyebem, Mint egy színtelen, szürke maszat. Az én városomban szürke minden, S én arc és név nélkül sétálhatok, Hang nélkül a semmibe kiálthatok. Ismeritek őt? Hogyan? Kicsodát? Még sosem láttuk. Hát nem ismeritek A névtelenség fővárosát? Pedig az enyém, Én itt lakom. Ez az én városom, az én Színházam, az én élettelen létem. Itt minden szabály az én törvényem... Itt békében élhetek, amíg meg nem halok, Nem kísért a sok meg nem vívott harcom. Senki nem ismer, nem lát, Nem ismeri fel a lábnyomaim porát. És sírhatok, hangosan vagy csendesen, Sosem volt még ilyen emberi az embertelen.   \n",
       "106  Előzmény: Védtelen űrkutyák Örvény zavarja a levegőt, mi csapkod a szárnyaival? Keresgél a lény, de az orrában nincsen gőz. Pózna fogja a derekát, meglökték? Mintha megütötték volna. Elhajol a rúdja és fájlalja a fogait. Öltönybe bújt pap kap a levegőbe, de megy is valamire azzal a feszítővassal? Compó állkapcsát vonja kérdőre, az ellenség már a lengőajtón belül van. Árnyék fésüli a rémült s lélegzetét számláló anya haját, egy másik kismama odakint szellemként; babakocsit tol. A szemét eltakarják, Ő is bejönne inkább? Sötét a folyosó, de talán nem hörögnek a falak. A tűz odakint szórja vörös villámait, az ajtót zárjuk be! A torlasz álljon fel, mert ide nem lát be. A csapóajtó ereszkedjen fel, mindenhová nem követi az embert a hosszú kar kaparó vége. Óvatosan néz ki a két asszony az immár bealkonyult felszínre. A gyermekek csendben néznek, nézelődik a beton tükröződő tenyere.   \n",
       "107                                                                                                                                                                                                                                                                                                                                                                                                                                                                                                                                                                                                                                                                                                                                                                                            Csaholó levegővel törik be a tél. Az ég alá menekült a nap. Görnyed a piciny lámpafény. Magányos függöny libbent egy kadisát.   \n",
       "108                                                                                                                                                                                                                                                                      Különös, néma éjszaka ez. Csend zakatol itt, meddig belátsz A mélázó agynak zsebébe. Zakatol és soha meg nem áll Egy röpke nyugodt pillanatra. Csak rohan a végzetbe sután. Fogaskerekei csak lassan, Hangtalan kattogva őrölnek Porrá. Lelket s téged. Csak lágyan. Hisz folyton pusztít, tép, s megzavar, Megbújó gonosz tanácsadó. Csendes gépezet, mi felkavar. Eléd tár sok száz elzárt sebet, S kés módjára újakat fakaszt Fájdalomból, mi benned veszett. Díszítve ezt kínnal és vérrel, Nagyítva s lelkedbe tűt döfve. S feledsz valóságot, életet. S tudatlan állsz a szakadék szélén, Egyedül, belül zakatoló Démonaiddal. Már elvesztél.   \n",
       "109                                                                                                                                                                                                                                                                                                                                                                                                                                                                                                                                             Félelem? Elveszve, ténferegve hívogat az ég velem. Félelem? Élni, de csak óvatosan, íratlan szabályok börtönébe zárva. Valódi énünket csak soha, senki meg ne lássa. Ki voltam? Ki vagyok? Értelmetlen tűnődni. Nyelni egy nagyot, s el nem követett hibák miatt bűnhődni. Úgy tűnhet, az út végtelen, mégis feleszmélsz, és véget ér. Ne hagyd hát, hogy győzzön a félelem.   \n",
       "\n",
       "                            link  \n",
       "105  https://poet.hu/vers/394080  \n",
       "106  https://poet.hu/vers/394076  \n",
       "107  https://poet.hu/vers/394019  \n",
       "108  https://poet.hu/vers/393845  \n",
       "109  https://poet.hu/vers/393783  "
      ]
     },
     "execution_count": 12,
     "metadata": {},
     "output_type": "execute_result"
    }
   ],
   "source": [
    "df_neg.head()"
   ]
  },
  {
   "cell_type": "markdown",
   "metadata": {},
   "source": [
    "# Azok a versek, amelyek Pozítívak voltak, de kiszedtem a listából"
   ]
  },
  {
   "cell_type": "code",
   "execution_count": 13,
   "metadata": {},
   "outputs": [],
   "source": [
    "df_off = df_eredeti[df_eredeti['tipus'] == 'OFF'].copy()"
   ]
  },
  {
   "cell_type": "code",
   "execution_count": 14,
   "metadata": {},
   "outputs": [
    {
     "data": {
      "text/html": [
       "<div>\n",
       "<style scoped>\n",
       "    .dataframe tbody tr th:only-of-type {\n",
       "        vertical-align: middle;\n",
       "    }\n",
       "\n",
       "    .dataframe tbody tr th {\n",
       "        vertical-align: top;\n",
       "    }\n",
       "\n",
       "    .dataframe thead th {\n",
       "        text-align: right;\n",
       "    }\n",
       "</style>\n",
       "<table border=\"1\" class=\"dataframe\">\n",
       "  <thead>\n",
       "    <tr style=\"text-align: right;\">\n",
       "      <th></th>\n",
       "      <th>tipus</th>\n",
       "      <th>szerzo</th>\n",
       "      <th>cim</th>\n",
       "      <th>vers</th>\n",
       "      <th>link</th>\n",
       "    </tr>\n",
       "  </thead>\n",
       "  <tbody>\n",
       "    <tr>\n",
       "      <th>36</th>\n",
       "      <td>OFF</td>\n",
       "      <td>Majszterics Vanessza.</td>\n",
       "      <td>Mit egykor éreztem</td>\n",
       "      <td>Düh harag s fájdalom Fáj hogy néha megbántom Látta a legrosszabb oldalam S látom rajta hogy ő nem bizonytalan Ő nem hagy el mert néha rossz vagyok Velem van mert tudja ezek is szebb napok Szíve az enyémmel fonódik össze Majd mosolya az égig ered Szívem lelkem övé csak legyen velem Ő éltet mert ő az én mindenem Ő az én nappalom a kedvem Ő az estém és a lelkem Szívem érte dobban minden nap 100-at Érted tűzön mennék s törnék minden gátat A menedékem vagy mely nagy támasz Mert tudom te sose fordítasz nekem hátat Az enyém vagy és én a tiéd vagyok Ezért olyan színesek a napok Te vagy a kedvesem az én boldogságom Nálad jobban senki sem ragyogja be a világom Te vagy a mosolyom az én szemem fénye Te vagy a biztonságom ebben a zavaros szélben</td>\n",
       "      <td>https://poet.hu/vers/393587</td>\n",
       "    </tr>\n",
       "    <tr>\n",
       "      <th>49</th>\n",
       "      <td>OFF</td>\n",
       "      <td>Kucman Annamária</td>\n",
       "      <td>Vendégeim</td>\n",
       "      <td>Van, hogy mellkasomra ül a maró fájdalom. Nem hívom - csak jön, s én csendben fogadom. Kedves vendég Ő is: szívemet elé tárom, suttoghatja búját-baját - én hallgatom. Van, hogy mellkasomban dúdol az öröm. Kitár minden ablakot, táncol, könnyedén pörög. Kedves vendég Ő is: lelkemet átadom, kacaghatja dalát - én hallgatom. Kitombolták magukat, csendben elvonulnak. Még viszlátot sem mondanak.</td>\n",
       "      <td>https://poet.hu/vers/392518</td>\n",
       "    </tr>\n",
       "    <tr>\n",
       "      <th>58</th>\n",
       "      <td>OFF</td>\n",
       "      <td>Morrancs</td>\n",
       "      <td>Déli boldogság</td>\n",
       "      <td>Elegem van a föld szenvedő nyomorából Múltba menekülnék e szomorú világból Nem önző árulás kerget el a mások iránti részvét elől Könnyfakasztó tehetetlenség fájdalmas dühe ez Nem én vagyok ki - e halálos kórokon segíthet Nemsokára Isten vág itt végleg rendet Mert kezében már ott remeg a végső ítélet Óhajtott békés, gondtalan múltjaim Nem vágyom a tudatlan naiv ismeretlenre Mert gonosz az, ki vagyonán fekszik, boldogan henyélve Miközben a világban millióknak nem telik kenyérre Engem éltet a boldog múltból fakadt jövőm reménye Mikor szénaszagú árnyék lengedezett a nyárfák alatt A nyáj, hőségben az erdő szélben kérődzve delelget Félve heverésztem, kár lenne, ha álomba halna déli merengésem Alvás helyett inkább fűszállal egy fekete tücsköt hergelésztem A görögdinnye héján darazsak lakomáznak Az ágak közt sárgarigók paroláztak Fénycsíkok az avaron ábrákba kergetőztek Amott fémdarázs űzött egy pókot halálra Mellettem hangyák járták vég nélküli útjukat A karám széliben két kanveréb birkózott a földporába Karvalytól szánt villám csapott közibük De cakkos útja végin veréb helyett a levegőbe vágott Míg a pihenőben egy részeg kocsis bátran danolászott A hodály mögötti tarlón egy gólya bogarászott Közben az öreg, algás vályú szélén a víz lassan átcsorgott S a pocsolya széliben két billegető tétlenül ácsorog A lógó nyelvű filkó a tegnapi birkacsontot rágja Kutyamelegben a másik a hűvöst a csalánosba várja Három óra körű egyik juhász a kutyáit szólígatja Összevakarom magam, mert a délibáb is sátrát bontogatja</td>\n",
       "      <td>https://poet.hu/vers/391738</td>\n",
       "    </tr>\n",
       "    <tr>\n",
       "      <th>61</th>\n",
       "      <td>OFF</td>\n",
       "      <td>Annnonimus</td>\n",
       "      <td>Nem én vagyok</td>\n",
       "      <td>Remegek, remegve írok. Reszketek, ráz a hideg, amint padomra firkálok egy-egy szót, majd elmegyek. Világtalan világomat darabokban újra látom. Szedem szívemből a szilánkokat, a játékomat újra játszom. Elszenvedem, tévedtem. Újra-újra hittem. Két lábamat elvesztettem, már menekülnék innen. Sötét sétám sátora Egy álmatlan s erős fűzfa. Alatta álmatlan esték lábnyoma, felette csillag, mint ezernyi szikra. Mondd, te csendes éjjel! Mit tudsz, amit én nem? Mért tépsz mindig széjjel? Árokban az életem. Mondd meg, utána elmegyek. Elmegyek örökre, itt hagyok mindent, amit szerettem, nem kellenek. Mától én nem én vagyok.</td>\n",
       "      <td>https://poet.hu/vers/394018</td>\n",
       "    </tr>\n",
       "    <tr>\n",
       "      <th>67</th>\n",
       "      <td>OFF</td>\n",
       "      <td>Vadász Attila</td>\n",
       "      <td>Összemelegedek</td>\n",
       "      <td>Összemelegedek a halállal, már nem is annyira vészes, jobb vele, mint egy baráttal, a jövő sosem kétséges. Megsúgja, hova ne lépjek, rám szól, ha közelebb megyek, vigyáz, hogy ne nagyon égjek, s ha köröznek a döglegyek. Csúcsokon túlra is elvisz, oda, hol hófödte táj magánya jövőben nem hisz, s elfagyott minden, mi fáj. Az egyetlen, akiben bízom, nem másítja meg a szavát, s ha feltép pár sebet, felírom, mivel gyengíti magát.</td>\n",
       "      <td>https://poet.hu/vers/392810</td>\n",
       "    </tr>\n",
       "    <tr>\n",
       "      <th>68</th>\n",
       "      <td>OFF</td>\n",
       "      <td>Békássy Balázs</td>\n",
       "      <td>Tükröződő szikla</td>\n",
       "      <td>Nem mind kincs, ami csörög, és nem minden villám félelmetes kint, ha dörög. A beázó járat a csuszamlást megkerülve dob sziklákat a szurdokba. Leszakadáshoz közelítő létrát kap el a szemem, futunk és szaladunk rajta fel egy alsó fennsíkra. Hol a fészkes pókhálóban vagyunk? Amíg ezen töröm a hülye fejemet, az egyik hölgy kiszúrja előttünk a félhomokdombon emelkedőre nyíló ösvényt. A másik lány kitépi a kezemből a fecnit, a harmadik nevet, és egyben félig töltött kettő puskát egy fára mászva felfedez. Leugorva kecsesen azt mondja, tiszta a levegő. A lábnyomokat eláztatták, mosódásban vedlik az alakjuk. Én tárat készítek beágyazásra, hölgy mellettem kéri tőlem a puskát. Ő szeretné megtölteni, adom számára a töltényeket. Patadobogás és üvöltések lentről, a készletemből egy gránátot hajítok deszkák felé. Legurul hamarabb a rövid járaton hozzájuk a lejtőn. Az utolsó hölgyet az úton haladva pillanatra falhoz nyomom csókkal. Öleli a derekam. A tartalék pisztolyomat kapja kibiztosítva. Beszélgetek vele, csőre van töltve. Suhintja rám a puszit, gyerünk tovább rejtett mosolyban. Be, a járatba, füstöl a kedvünk a fáradtságtól. Elnéztem egy jelet. A torkomat elhagyja a keserű kétség, és üvöltök. A lányok vigasztalnak. Leülnek velem faragott patkányfejjel díszített, kifosztott aranyládára, s nézzük a térképet. Kacagva világítja meg elménket a zsákutca. Rárúgok a meztelen téglákra, kapunk egy korhadva nyíló ajtót ládikával. A befüggönyözött ablak délutánt nyit. Felhő nélküli a tornác. Vállamat borítja két nő, tanácstalan a kezünk járása. A padló egy része dohog, amiképpen reményt hajkurászva dobbant sétálva az egyetlen álló nő. Ajkamat harmadik lépésként csók zavarja meg a gondolkodásban. A benti ágyon lepedők vannak, azzal idekint árnyékolunk. Fényben nem látszódik, amit a térkép csillant. A lényeg lefelé van, ennek nem örülve szedjük össze a sátorfát. A legfiatalabb követ, hogy a többi zárja a sort. A szűrődő fény oszlatja a kételyt. Hibás ajtó régies teremmel. Sarkantyú foglalja el a helyét, dobog a csend. Kiugrom a szabadba a sarokból, a hívatlan vendégeket meglepem. A többi hangot fegyverekből a barátaim adják le, s adja oda az eredményt a fülem. Ott a láda lelakatolva s rejtve egy szekrényben. Némi ruha fésüli a fedelét.</td>\n",
       "      <td>https://poet.hu/vers/392694</td>\n",
       "    </tr>\n",
       "    <tr>\n",
       "      <th>81</th>\n",
       "      <td>OFF</td>\n",
       "      <td>Tóth Tünde</td>\n",
       "      <td>Az irodalom háztartási balesetei - Minieposz</td>\n",
       "      <td>Fejemben pörögnek a metaforatárcsák, spontán jön a lendület, játékos csapongás. Szikrázik az irónialézer, verset kéne írni, de a végén porrongy repül a levegőben, nem a konfetti. Mint amikor a kenyérpirító próbál Shakespeare sütit sütni, a versszerkezetet már csak az ipari palacsintasütő tudná összefogni, és azt is csak akkor, ha beleírják a SWOT-analízist. A szófűzés olyan, mint amikor rétest nyújtanak, rád csavarodik, de eközben elszakad, hiába a szinesztéziás érzések irányítanak, ha a gondolattérkép GPS-e bemondja az unalmast. A verssorok elszabadult bevásárlókocsiként gurulnak, a rímpárok egy turkáló öltözőjében vitatkoznak, irodalmi barkácshumorok csavarokkal kacérkodnak, ínycsiklandozó szóképfalatokkal abszurd tálcádon sorakoznak, majd, mint egy versformájú jóllakott lufikutya, a képek előtted hirtelen szétdurrannak. A képzavar az ajtódon dörömböl, és szőnyegként kezdte árulni magát a nyelvtani piacon, mielőtt betört. A csattanó egy másik versben robbant, de eljött bocsánatot kérni, a hasonlat annyira túl volt írva, hogy már saját influenszer-karriert kezdett, mint \"MetaforaNéni\". A lírai narrátor elment szabira, helyette a konyhai időzítő állt be verset írni, 3 perc múlva csipogva egyeztetési hibába botlott, s múlt időben próbálja a jelent visszahívni. A rím végén a kérdőjel csak áll, mint szkeptikus postás, \"Jó helyre csengettem? Hogy fogom én ezt helyrehozni?\", majd úgy kúszott a sorokba, mint eltévedt macska a színházi főpróbán, nem volt betervezve, de örült neki mindenki. De a versív oly mértékben rogyott meg, mint egy IKEA-polc, amit használati utasítás nélkül érzékkel szereltek össze, a rím úgy tekert balra a sor végén, mint nagyszülő ki nem tudta, hová tart a pláza foodcourton át, mert elfelejtette, olyan összevisszasággal repkedett tovább, mint egy összeesküvés-elmélet powerpointban felolvasott szonettje. A lírai én szabadságra ment, helyette az irónia ügyelt a házra, mint egy szabadon garázdálkodó szinesztézia, a sorok úgy csúsztak egymás után, de nem baj, mert fantázialisztből még van bőven a kamrában. A verscsattanó megérkezik, de rossz lakásba csenget, a szöveg nem táncol, inkább csak billeg, a hasonlatok egymásnak feszülnek, egy IKEA-bútor leírásából próbálnak szabadulni a rímek, a vers ihlete úgy jött, mint egy postás, mely mindig kétszer csönget, miközben a hasonlat egy próbafülkében rekedt, a versszakok lógnak a sorok végén mint elázott zoknik, mik sosem száradnak meg. A szókép annyira túlbonyolította magát, azóta egy nyelvtani tanácsadóhoz terápiára jár, egy beragadt metaforadobban nem bírta leállítani az abszurd centrifugát, mint egy kikapcsolt mikrofon egy slam poetry estén, válasz nélkül állt, pedig a lírai önreflexió bekapcsolta a kreatív vízforralóját. A sorvégek közös nyílt levelet küldve fellázadtak, elegük volt a csattanókból, saját identitást akartak. A rímstruktúra elaludt a mondatok végén, és horkolva ismételte a szótagokat, az allegória önmagát próbálta magyarázni, de három hasonlat után már a metafora rehabra rohant. De te csak dőlj hátra, hogy a képeket élvezettel kanalazd, és hagyd, hogy a kreatív kanapéd nyikorogjon alattad. A ritmus átváltott szabadversbe, de még mindig karmestert keres, a stilisztikai konferenciáról biztonsági őrök vezették le, mert a szóképe túl kreatív lett. Mint egy elhasznált pódium, úgy dőlt össze a vers szerkezete, látványosan, recsegve, kifáradva írt ezután táppénzes verseket egy újrahasznosított papírfecnire. Hátuljáról tör elő az ihlet, mint egy eldobott bevásárlólista, mely a májpástétomot elfelejtette, míg az alliterációk egymással viaskodtak. Azóta is K-betűs káromkodásban veszekednek, és saját magukat idézik poszmodern grimaszt vágva a tükörképüknek. A verstéma passzív-agresszíven néz a sorok közt megsértődve, mert hogy a főcím nem ő lett, azóta is képeslapokat küld szinesztéziából egy használaton kívüli alcímbe, mert inkább nyaralni ment. A befejezés a vers végére nem érkezett meg, most egy láthatatlan irodalomtanár keresi egy eltévedt lábjegyzetében. Játssz a nyelvvel, légy az író, olvasó, a szerző és a díjátadóbizottság, tedd hozzá az iróniakeverőd, mint egy képzavarszakács. Az sem baj, ha hangzásra olyan, melyet egy csöpögő csap ihletett, vagy mint egy posztmodern versgyűjtemény (vagy hiányzik belőlük az utolsó csavar: a poén) melyet egy forró vasaló poénrétegre égetett. Mikor lángra lobban a metaforatálcád, az abszurd képek frissen szervírozva jöhetnek. De ki szatírában főz, az viccekben tereget, a metaforagyár szalagján bizony képzavar is felléphet, sántító alliterációival nyelvi lasagnává keveredhet, majd ha elfelejtetted kivenni a sütőből, meg is szenesedhet. Vagy mint amikor fél pár rím és egy túlfűtött metafora összeházasodik a mikrohullámú sütőben, a végeredmény olyan lesz. De ahogy egy igazi posztpoétikai eposzhoz illik, hagyd a versed kiforrni, buggyanni, fortyogni, majd állj elé izzó képzavartányéroddal és kritikai szalvétával, mikor a háztartási irodalom új alfája megszületik a kanálcsaták románcával. Lekváros képek, vajas metaforák, mind képzavaromban sültek de ha a mosolyod ettől sem rezdült meg, visszavonulok a szinonimatányéromhoz becsokizni, mindent, mit itt sorra kifőztem. (Talán nem kell kétszer megemésztenem) És ha így végére beletolatott a nyelvtani bokorba, mert nem ért célba a gondolatmenet, én visszavonulok - nem megsértődve, ha eddig egy mosoly sem született, mert a lekváros mondatok csak a kenyérhéjak szegletében zizegtek, ha nem nevettél, sebaj, néha a kigyúrt kelt tészta is sülve összemehet. Ha bármikor kedvet kapsz egy kis nyelvi agyraguhoz vagy egy csattanós szóviccgulyáshoz, rögtön öltözz be köténybe, süsd meg akár a mikrohullámú sütődben sült alliterált metaforás sütid, és rakj rá egy málnaszelét, mert jól mutat, na, meg ha a rímképlet is sántít, nem baj, ha paleolit, vagy ha a sütőben akár örökre bent ragad, mert még túl forrón vennéd ki, hiszen az alaplé vagy egy nevetés közben megzavart... Tudod, a ritmusok, képek áramlása pont olyan, mintha egy agyi konyhamalacba öntöttél volna iróniát, szókép port, irodalmi porszívót és egy tegnap otthagyott metaforát, ne érdekeljen, más mit mond, ha a te ütemedre kattogva lett összedarált, ha úgy érzed, az lett a legízletesebb befejezés, mit valaha írtál, és ha olyan, mint amikor egy kicsit megégett, de annál karakteresebb kalácsszél alól előbújik a diógrillázs, vagy picit kilóg érzésre, mert hosszúra nyúlt benne a textúra, illat, csattanás, pörgesd tovább a háztartás műfaj humor turbómotorját, epikusabb, mint egy metaforaszivárványra hajtó mosógép ötödik fokozaton, ha van még hely a serpenyődben, lökj hozzá még szóképes szalonnát, meg poén-granulátumot, irodalmi légpárnás járműved lesz, ha ezeket mind beledolgozod, bármi is süljön ki belőle, én emelem előtted kalapom.</td>\n",
       "      <td>https://poet.hu/vers/391897</td>\n",
       "    </tr>\n",
       "    <tr>\n",
       "      <th>83</th>\n",
       "      <td>OFF</td>\n",
       "      <td>Sólyom Gábor</td>\n",
       "      <td>Ki kivel van és miért?</td>\n",
       "      <td>A holló mesélte Hogy a farkas letépte Majd a rókának adta Ki a medvénél hagyta De mikor lelépett A borz pont belépett Látta az egészet És hívta a menyétet A menyét a sünnel Túl hirtelen tűnt el Egy vasárnap este Még látta a fecske Amint egy fa alatt A pocokra ugranak S miközben elverik A hermelint éltetik A sün persze tudta A menyét hova dugta Szólt is a nyúlnak Hogy mindent lenyúlnak És a vakondra fogják Mert róla tudják Hogy annyira más Hisz mindent elás De közben a menyét Szintén nem henyélt Csörgette a struccot Hogy vigye el a cuccot Ha lehet jó messze De ügyeljen a nyestre Mert bár nem látszik Mindig nagyban játszik Távolabb az ürge Ledőlt a fűre Viszketett a marka Mikor rászólt a szarka Hiába vársz a bérre A nyest le van égve A léből nem lesz semmi A történet ennyi.</td>\n",
       "      <td>https://poet.hu/vers/391545</td>\n",
       "    </tr>\n",
       "    <tr>\n",
       "      <th>86</th>\n",
       "      <td>OFF</td>\n",
       "      <td>Ibolya Lakatosné Bungó</td>\n",
       "      <td>Vizsga után (morzsák)</td>\n",
       "      <td>Fergeteges hangulatba`, Betértünk a kiskocsmába. Tölgyes tanszék lett a neve, A hallgatók kedvenc helye. Folyt a \"Pepsi\" és a sok szó, Mindig volt igazságosztó. Vizsgaélmény, diák szava, Sok-sok színes változata. Mert mindenki másképp látta, Csiszolódtunk egy hullámra. - Átmentem egy rossz kettessel, Nem lettem okosabb semmivel. - Megadta az egyest mára, Visszatérek randevúra. - Azt sem tudom, mit kérdezett, Tudatomig nem érkezett. - Beírta, hogy \"elég\", és aztán kérdezett, Torkomra innentől egy szó sem érkezett. Mégis \"séges\" lett a vége, A Tanár Úr örömére! - Öt fogalom nem nagy dolog, A témában el is mondod. \"ISMERET\" volt ismeretlen, Kezem gyorsan a kilincsen. - Nem tetszett az új frizurám, Meghökkenve mutat reám. Rendezetten kíván látni, Akkor fogunk szóba állni. - Bármit mondtam a témában, Egyiknek sem örült jobban. Felhívta a figyelmemet, Olvasgassam a könyvemet! - Velem póttételt húzatott, Lelkemben mély nyomot hagyott. - Nincsen index, nincsen jegy sem, Kiborultam, hazamentem! Szemelgettünk, cseverésztünk, Záróráig mesélgettünk. Lelket öntöttünk egymásba, Vártunk egy szebb virradásra!</td>\n",
       "      <td>https://poet.hu/vers/391219</td>\n",
       "    </tr>\n",
       "    <tr>\n",
       "      <th>90</th>\n",
       "      <td>OFF</td>\n",
       "      <td>Majszterics Vanessza.</td>\n",
       "      <td>Most, amit érzek</td>\n",
       "      <td>Már minden halott körülöttem, És én mégis várlak. Beléd öltöttem ezeregy árnyat, Kérlek, keress meg, és beszélj velem, Nélküled üres a hetem. Sóvárog utánad keserves szívem, S mikor itt vagy, már nem is emlékszem. Nem emlékszem a gyötrelmek ízére S lelkem lelketlenségére, Miért van az, hogy minden elcsesződik, S miért van az, hogy ez az egész megőrjít. Akarlak, de nagyon és semennyire, Mert ha itt lennél velem, talán nem menne ennyire. De, oh, Istenem, ha itt lenne, talán működne is, S addig lennénk egymás végzetei, míg el nem veszik. Bár ugyan képtelenség, hogy elvesszen a gyönyörű képlet, Mert téged nekem, s nekem téged Így szántak egymásnak a földi lények.</td>\n",
       "      <td>https://poet.hu/vers/390747</td>\n",
       "    </tr>\n",
       "  </tbody>\n",
       "</table>\n",
       "</div>"
      ],
      "text/plain": [
       "   tipus                  szerzo  \\\n",
       "36   OFF   Majszterics Vanessza.   \n",
       "49   OFF        Kucman Annamária   \n",
       "58   OFF                Morrancs   \n",
       "61   OFF              Annnonimus   \n",
       "67   OFF           Vadász Attila   \n",
       "68   OFF          Békássy Balázs   \n",
       "81   OFF              Tóth Tünde   \n",
       "83   OFF            Sólyom Gábor   \n",
       "86   OFF  Ibolya Lakatosné Bungó   \n",
       "90   OFF   Majszterics Vanessza.   \n",
       "\n",
       "                                             cim  \\\n",
       "36                            Mit egykor éreztem   \n",
       "49                                     Vendégeim   \n",
       "58                                Déli boldogság   \n",
       "61                                 Nem én vagyok   \n",
       "67                                Összemelegedek   \n",
       "68                              Tükröződő szikla   \n",
       "81  Az irodalom háztartási balesetei - Minieposz   \n",
       "83                        Ki kivel van és miért?   \n",
       "86                         Vizsga után (morzsák)   \n",
       "90                              Most, amit érzek   \n",
       "\n",
       "                                                                                                                                                                                                                                                                                                                                                                                                                                                                                                                                                                                                                                                                                                                                                                                                                                                                                                                                                                                                                                                                                                                                                                                                                                                                                                                                                                                                                                                                                                                                                                                                                                                                                                                                                                                                                                                                                                                                                                                                                                                                                                                                                                                                                                                                                                                                                                                                                                                                                                                                                                                                                                                                                                                                                                                                                                                                                                                                                                                                                                                                                                                                                                                                                                                                                                                                                                                                                                                                                                                                                                                                                                                                                                                                                                                                                                                                                                                                                                                                                                                                                                                                                                                                                                                                                                                                                                                                                                                                                                                                                                                                                                                                                                                                                                                                                                                                                                                                                                                                                                                                                                                                                                                                                                                                                                                                                                                                                                                                                                                                                                                                                                                                                                                                                                                                                                                                                                                                                                                                                                                                                                                                                                                                                                                                                                                                                                                                                                                                                                                                                                                                                                                                                                                                                                                                                                                                                                                                                                                                                    vers  \\\n",
       "36                                                                                                                                                                                                                                                                                                                                                                                                                                                                                                                                                                                                                                                                                                                                                                                                                                                                                                                                                                                                                                                                                                                                                                                                                                                                                                                                                                                                                                                                                                                                                                                                                                                                                                                                                                                                                                                                                                                                                                                                                                                                                                                                                                                                                                                                                                                                                                                                                                                                                                                                                                                                                                                                                                                                                                                                                                                                                                                                                                                                                                                                                                                                                                                                                                                                                                                                                                                                                                                                                                                                                                                                                                                                                                                                                                                                                                                                                                                                                                                                                                                                                                                                                                                                                                                                                                                                                                                                                                                                                                                                                                                                                                                                                                                                                                                                                                                                                                                                                                                                                                                                                                                                                                                                                                                                                                                                                                                                                                                                                                                                                                                                                                                                                                                                                                                                                                                                                                                                                                                                                                                                                                                                                                                                                                                Düh harag s fájdalom Fáj hogy néha megbántom Látta a legrosszabb oldalam S látom rajta hogy ő nem bizonytalan Ő nem hagy el mert néha rossz vagyok Velem van mert tudja ezek is szebb napok Szíve az enyémmel fonódik össze Majd mosolya az égig ered Szívem lelkem övé csak legyen velem Ő éltet mert ő az én mindenem Ő az én nappalom a kedvem Ő az estém és a lelkem Szívem érte dobban minden nap 100-at Érted tűzön mennék s törnék minden gátat A menedékem vagy mely nagy támasz Mert tudom te sose fordítasz nekem hátat Az enyém vagy és én a tiéd vagyok Ezért olyan színesek a napok Te vagy a kedvesem az én boldogságom Nálad jobban senki sem ragyogja be a világom Te vagy a mosolyom az én szemem fénye Te vagy a biztonságom ebben a zavaros szélben   \n",
       "49                                                                                                                                                                                                                                                                                                                                                                                                                                                                                                                                                                                                                                                                                                                                                                                                                                                                                                                                                                                                                                                                                                                                                                                                                                                                                                                                                                                                                                                                                                                                                                                                                                                                                                                                                                                                                                                                                                                                                                                                                                                                                                                                                                                                                                                                                                                                                                                                                                                                                                                                                                                                                                                                                                                                                                                                                                                                                                                                                                                                                                                                                                                                                                                                                                                                                                                                                                                                                                                                                                                                                                                                                                                                                                                                                                                                                                                                                                                                                                                                                                                                                                                                                                                                                                                                                                                                                                                                                                                                                                                                                                                                                                                                                                                                                                                                                                                                                                                                                                                                                                                                                                                                                                                                                                                                                                                                                                                                                                                                                                                                                                                                                                                                                                                                                                                                                                                                                                                                                                                                                                                                                                                                                                                                                                                                                                                                                                                                                                                                                                                                                                                                               Van, hogy mellkasomra ül a maró fájdalom. Nem hívom - csak jön, s én csendben fogadom. Kedves vendég Ő is: szívemet elé tárom, suttoghatja búját-baját - én hallgatom. Van, hogy mellkasomban dúdol az öröm. Kitár minden ablakot, táncol, könnyedén pörög. Kedves vendég Ő is: lelkemet átadom, kacaghatja dalát - én hallgatom. Kitombolták magukat, csendben elvonulnak. Még viszlátot sem mondanak.   \n",
       "58                                                                                                                                                                                                                                                                                                                                                                                                                                                                                                                                                                                                                                                                                                                                                                                                                                                                                                                                                                                                                                                                                                                                                                                                                                                                                                                                                                                                                                                                                                                                                                                                                                                                                                                                                                                                                                                                                                                                                                                                                                                                                                                                                                                                                                                                                                                                                                                                                                                                                                                                                                                                                                                                                                                                                                                                                                                                                                                                                                                                                                                                                                                                                                                                                                                                                                                                                                                                                                                                                                                                                                                                                                                                                                                                                                                                                                                                                                                                                                                                                                                                                                                                                                                                                                                                                                                                                                                                                                                                                                                                                                                                                                                                                                                                                                                                                                                                                                                                                                                                                                                                                                                                                                                                                                                                                                                                                                                                                                      Elegem van a föld szenvedő nyomorából Múltba menekülnék e szomorú világból Nem önző árulás kerget el a mások iránti részvét elől Könnyfakasztó tehetetlenség fájdalmas dühe ez Nem én vagyok ki - e halálos kórokon segíthet Nemsokára Isten vág itt végleg rendet Mert kezében már ott remeg a végső ítélet Óhajtott békés, gondtalan múltjaim Nem vágyom a tudatlan naiv ismeretlenre Mert gonosz az, ki vagyonán fekszik, boldogan henyélve Miközben a világban millióknak nem telik kenyérre Engem éltet a boldog múltból fakadt jövőm reménye Mikor szénaszagú árnyék lengedezett a nyárfák alatt A nyáj, hőségben az erdő szélben kérődzve delelget Félve heverésztem, kár lenne, ha álomba halna déli merengésem Alvás helyett inkább fűszállal egy fekete tücsköt hergelésztem A görögdinnye héján darazsak lakomáznak Az ágak közt sárgarigók paroláztak Fénycsíkok az avaron ábrákba kergetőztek Amott fémdarázs űzött egy pókot halálra Mellettem hangyák járták vég nélküli útjukat A karám széliben két kanveréb birkózott a földporába Karvalytól szánt villám csapott közibük De cakkos útja végin veréb helyett a levegőbe vágott Míg a pihenőben egy részeg kocsis bátran danolászott A hodály mögötti tarlón egy gólya bogarászott Közben az öreg, algás vályú szélén a víz lassan átcsorgott S a pocsolya széliben két billegető tétlenül ácsorog A lógó nyelvű filkó a tegnapi birkacsontot rágja Kutyamelegben a másik a hűvöst a csalánosba várja Három óra körű egyik juhász a kutyáit szólígatja Összevakarom magam, mert a délibáb is sátrát bontogatja   \n",
       "61                                                                                                                                                                                                                                                                                                                                                                                                                                                                                                                                                                                                                                                                                                                                                                                                                                                                                                                                                                                                                                                                                                                                                                                                                                                                                                                                                                                                                                                                                                                                                                                                                                                                                                                                                                                                                                                                                                                                                                                                                                                                                                                                                                                                                                                                                                                                                                                                                                                                                                                                                                                                                                                                                                                                                                                                                                                                                                                                                                                                                                                                                                                                                                                                                                                                                                                                                                                                                                                                                                                                                                                                                                                                                                                                                                                                                                                                                                                                                                                                                                                                                                                                                                                                                                                                                                                                                                                                                                                                                                                                                                                                                                                                                                                                                                                                                                                                                                                                                                                                                                                                                                                                                                                                                                                                                                                                                                                                                                                                                                                                                                                                                                                                                                                                                                                                                                                                                                                                                                                                                                                                                                                                                                                                                                                                                                                                                                            Remegek, remegve írok. Reszketek, ráz a hideg, amint padomra firkálok egy-egy szót, majd elmegyek. Világtalan világomat darabokban újra látom. Szedem szívemből a szilánkokat, a játékomat újra játszom. Elszenvedem, tévedtem. Újra-újra hittem. Két lábamat elvesztettem, már menekülnék innen. Sötét sétám sátora Egy álmatlan s erős fűzfa. Alatta álmatlan esték lábnyoma, felette csillag, mint ezernyi szikra. Mondd, te csendes éjjel! Mit tudsz, amit én nem? Mért tépsz mindig széjjel? Árokban az életem. Mondd meg, utána elmegyek. Elmegyek örökre, itt hagyok mindent, amit szerettem, nem kellenek. Mától én nem én vagyok.   \n",
       "67                                                                                                                                                                                                                                                                                                                                                                                                                                                                                                                                                                                                                                                                                                                                                                                                                                                                                                                                                                                                                                                                                                                                                                                                                                                                                                                                                                                                                                                                                                                                                                                                                                                                                                                                                                                                                                                                                                                                                                                                                                                                                                                                                                                                                                                                                                                                                                                                                                                                                                                                                                                                                                                                                                                                                                                                                                                                                                                                                                                                                                                                                                                                                                                                                                                                                                                                                                                                                                                                                                                                                                                                                                                                                                                                                                                                                                                                                                                                                                                                                                                                                                                                                                                                                                                                                                                                                                                                                                                                                                                                                                                                                                                                                                                                                                                                                                                                                                                                                                                                                                                                                                                                                                                                                                                                                                                                                                                                                                                                                                                                                                                                                                                                                                                                                                                                                                                                                                                                                                                                                                                                                                                                                                                                                                                                                                                                                                                                                                                                                                                                                                          Összemelegedek a halállal, már nem is annyira vészes, jobb vele, mint egy baráttal, a jövő sosem kétséges. Megsúgja, hova ne lépjek, rám szól, ha közelebb megyek, vigyáz, hogy ne nagyon égjek, s ha köröznek a döglegyek. Csúcsokon túlra is elvisz, oda, hol hófödte táj magánya jövőben nem hisz, s elfagyott minden, mi fáj. Az egyetlen, akiben bízom, nem másítja meg a szavát, s ha feltép pár sebet, felírom, mivel gyengíti magát.   \n",
       "68                                                                                                                                                                                                                                                                                                                                                                                                                                                                                                                                                                                                                                                                                                                                                                                                                                                                                                                                                                                                                                                                                                                                                                                                                                                                                                                                                                                                                                                                                                                                                                                                                                                                                                                                                                                                                                                                                                                                                                                                                                                                                                                                                                                                                                                                                                                                                                                                                                                                                                                                                                                                                                                                                                                                                                                                                                                                                                                                                                                                                                                                                                                                                                                                                                                                                                                                                                                                                                                                                                                                                                                                                                                                                                                                                                                                                                                                                                                                                                                                                                                                                                                                                                                                                                                                                                                                                                                                                                                                                                                                                                                                                                                                            Nem mind kincs, ami csörög, és nem minden villám félelmetes kint, ha dörög. A beázó járat a csuszamlást megkerülve dob sziklákat a szurdokba. Leszakadáshoz közelítő létrát kap el a szemem, futunk és szaladunk rajta fel egy alsó fennsíkra. Hol a fészkes pókhálóban vagyunk? Amíg ezen töröm a hülye fejemet, az egyik hölgy kiszúrja előttünk a félhomokdombon emelkedőre nyíló ösvényt. A másik lány kitépi a kezemből a fecnit, a harmadik nevet, és egyben félig töltött kettő puskát egy fára mászva felfedez. Leugorva kecsesen azt mondja, tiszta a levegő. A lábnyomokat eláztatták, mosódásban vedlik az alakjuk. Én tárat készítek beágyazásra, hölgy mellettem kéri tőlem a puskát. Ő szeretné megtölteni, adom számára a töltényeket. Patadobogás és üvöltések lentről, a készletemből egy gránátot hajítok deszkák felé. Legurul hamarabb a rövid járaton hozzájuk a lejtőn. Az utolsó hölgyet az úton haladva pillanatra falhoz nyomom csókkal. Öleli a derekam. A tartalék pisztolyomat kapja kibiztosítva. Beszélgetek vele, csőre van töltve. Suhintja rám a puszit, gyerünk tovább rejtett mosolyban. Be, a járatba, füstöl a kedvünk a fáradtságtól. Elnéztem egy jelet. A torkomat elhagyja a keserű kétség, és üvöltök. A lányok vigasztalnak. Leülnek velem faragott patkányfejjel díszített, kifosztott aranyládára, s nézzük a térképet. Kacagva világítja meg elménket a zsákutca. Rárúgok a meztelen téglákra, kapunk egy korhadva nyíló ajtót ládikával. A befüggönyözött ablak délutánt nyit. Felhő nélküli a tornác. Vállamat borítja két nő, tanácstalan a kezünk járása. A padló egy része dohog, amiképpen reményt hajkurászva dobbant sétálva az egyetlen álló nő. Ajkamat harmadik lépésként csók zavarja meg a gondolkodásban. A benti ágyon lepedők vannak, azzal idekint árnyékolunk. Fényben nem látszódik, amit a térkép csillant. A lényeg lefelé van, ennek nem örülve szedjük össze a sátorfát. A legfiatalabb követ, hogy a többi zárja a sort. A szűrődő fény oszlatja a kételyt. Hibás ajtó régies teremmel. Sarkantyú foglalja el a helyét, dobog a csend. Kiugrom a szabadba a sarokból, a hívatlan vendégeket meglepem. A többi hangot fegyverekből a barátaim adják le, s adja oda az eredményt a fülem. Ott a láda lelakatolva s rejtve egy szekrényben. Némi ruha fésüli a fedelét.   \n",
       "81  Fejemben pörögnek a metaforatárcsák, spontán jön a lendület, játékos csapongás. Szikrázik az irónialézer, verset kéne írni, de a végén porrongy repül a levegőben, nem a konfetti. Mint amikor a kenyérpirító próbál Shakespeare sütit sütni, a versszerkezetet már csak az ipari palacsintasütő tudná összefogni, és azt is csak akkor, ha beleírják a SWOT-analízist. A szófűzés olyan, mint amikor rétest nyújtanak, rád csavarodik, de eközben elszakad, hiába a szinesztéziás érzések irányítanak, ha a gondolattérkép GPS-e bemondja az unalmast. A verssorok elszabadult bevásárlókocsiként gurulnak, a rímpárok egy turkáló öltözőjében vitatkoznak, irodalmi barkácshumorok csavarokkal kacérkodnak, ínycsiklandozó szóképfalatokkal abszurd tálcádon sorakoznak, majd, mint egy versformájú jóllakott lufikutya, a képek előtted hirtelen szétdurrannak. A képzavar az ajtódon dörömböl, és szőnyegként kezdte árulni magát a nyelvtani piacon, mielőtt betört. A csattanó egy másik versben robbant, de eljött bocsánatot kérni, a hasonlat annyira túl volt írva, hogy már saját influenszer-karriert kezdett, mint \"MetaforaNéni\". A lírai narrátor elment szabira, helyette a konyhai időzítő állt be verset írni, 3 perc múlva csipogva egyeztetési hibába botlott, s múlt időben próbálja a jelent visszahívni. A rím végén a kérdőjel csak áll, mint szkeptikus postás, \"Jó helyre csengettem? Hogy fogom én ezt helyrehozni?\", majd úgy kúszott a sorokba, mint eltévedt macska a színházi főpróbán, nem volt betervezve, de örült neki mindenki. De a versív oly mértékben rogyott meg, mint egy IKEA-polc, amit használati utasítás nélkül érzékkel szereltek össze, a rím úgy tekert balra a sor végén, mint nagyszülő ki nem tudta, hová tart a pláza foodcourton át, mert elfelejtette, olyan összevisszasággal repkedett tovább, mint egy összeesküvés-elmélet powerpointban felolvasott szonettje. A lírai én szabadságra ment, helyette az irónia ügyelt a házra, mint egy szabadon garázdálkodó szinesztézia, a sorok úgy csúsztak egymás után, de nem baj, mert fantázialisztből még van bőven a kamrában. A verscsattanó megérkezik, de rossz lakásba csenget, a szöveg nem táncol, inkább csak billeg, a hasonlatok egymásnak feszülnek, egy IKEA-bútor leírásából próbálnak szabadulni a rímek, a vers ihlete úgy jött, mint egy postás, mely mindig kétszer csönget, miközben a hasonlat egy próbafülkében rekedt, a versszakok lógnak a sorok végén mint elázott zoknik, mik sosem száradnak meg. A szókép annyira túlbonyolította magát, azóta egy nyelvtani tanácsadóhoz terápiára jár, egy beragadt metaforadobban nem bírta leállítani az abszurd centrifugát, mint egy kikapcsolt mikrofon egy slam poetry estén, válasz nélkül állt, pedig a lírai önreflexió bekapcsolta a kreatív vízforralóját. A sorvégek közös nyílt levelet küldve fellázadtak, elegük volt a csattanókból, saját identitást akartak. A rímstruktúra elaludt a mondatok végén, és horkolva ismételte a szótagokat, az allegória önmagát próbálta magyarázni, de három hasonlat után már a metafora rehabra rohant. De te csak dőlj hátra, hogy a képeket élvezettel kanalazd, és hagyd, hogy a kreatív kanapéd nyikorogjon alattad. A ritmus átváltott szabadversbe, de még mindig karmestert keres, a stilisztikai konferenciáról biztonsági őrök vezették le, mert a szóképe túl kreatív lett. Mint egy elhasznált pódium, úgy dőlt össze a vers szerkezete, látványosan, recsegve, kifáradva írt ezután táppénzes verseket egy újrahasznosított papírfecnire. Hátuljáról tör elő az ihlet, mint egy eldobott bevásárlólista, mely a májpástétomot elfelejtette, míg az alliterációk egymással viaskodtak. Azóta is K-betűs káromkodásban veszekednek, és saját magukat idézik poszmodern grimaszt vágva a tükörképüknek. A verstéma passzív-agresszíven néz a sorok közt megsértődve, mert hogy a főcím nem ő lett, azóta is képeslapokat küld szinesztéziából egy használaton kívüli alcímbe, mert inkább nyaralni ment. A befejezés a vers végére nem érkezett meg, most egy láthatatlan irodalomtanár keresi egy eltévedt lábjegyzetében. Játssz a nyelvvel, légy az író, olvasó, a szerző és a díjátadóbizottság, tedd hozzá az iróniakeverőd, mint egy képzavarszakács. Az sem baj, ha hangzásra olyan, melyet egy csöpögő csap ihletett, vagy mint egy posztmodern versgyűjtemény (vagy hiányzik belőlük az utolsó csavar: a poén) melyet egy forró vasaló poénrétegre égetett. Mikor lángra lobban a metaforatálcád, az abszurd képek frissen szervírozva jöhetnek. De ki szatírában főz, az viccekben tereget, a metaforagyár szalagján bizony képzavar is felléphet, sántító alliterációival nyelvi lasagnává keveredhet, majd ha elfelejtetted kivenni a sütőből, meg is szenesedhet. Vagy mint amikor fél pár rím és egy túlfűtött metafora összeházasodik a mikrohullámú sütőben, a végeredmény olyan lesz. De ahogy egy igazi posztpoétikai eposzhoz illik, hagyd a versed kiforrni, buggyanni, fortyogni, majd állj elé izzó képzavartányéroddal és kritikai szalvétával, mikor a háztartási irodalom új alfája megszületik a kanálcsaták románcával. Lekváros képek, vajas metaforák, mind képzavaromban sültek de ha a mosolyod ettől sem rezdült meg, visszavonulok a szinonimatányéromhoz becsokizni, mindent, mit itt sorra kifőztem. (Talán nem kell kétszer megemésztenem) És ha így végére beletolatott a nyelvtani bokorba, mert nem ért célba a gondolatmenet, én visszavonulok - nem megsértődve, ha eddig egy mosoly sem született, mert a lekváros mondatok csak a kenyérhéjak szegletében zizegtek, ha nem nevettél, sebaj, néha a kigyúrt kelt tészta is sülve összemehet. Ha bármikor kedvet kapsz egy kis nyelvi agyraguhoz vagy egy csattanós szóviccgulyáshoz, rögtön öltözz be köténybe, süsd meg akár a mikrohullámú sütődben sült alliterált metaforás sütid, és rakj rá egy málnaszelét, mert jól mutat, na, meg ha a rímképlet is sántít, nem baj, ha paleolit, vagy ha a sütőben akár örökre bent ragad, mert még túl forrón vennéd ki, hiszen az alaplé vagy egy nevetés közben megzavart... Tudod, a ritmusok, képek áramlása pont olyan, mintha egy agyi konyhamalacba öntöttél volna iróniát, szókép port, irodalmi porszívót és egy tegnap otthagyott metaforát, ne érdekeljen, más mit mond, ha a te ütemedre kattogva lett összedarált, ha úgy érzed, az lett a legízletesebb befejezés, mit valaha írtál, és ha olyan, mint amikor egy kicsit megégett, de annál karakteresebb kalácsszél alól előbújik a diógrillázs, vagy picit kilóg érzésre, mert hosszúra nyúlt benne a textúra, illat, csattanás, pörgesd tovább a háztartás műfaj humor turbómotorját, epikusabb, mint egy metaforaszivárványra hajtó mosógép ötödik fokozaton, ha van még hely a serpenyődben, lökj hozzá még szóképes szalonnát, meg poén-granulátumot, irodalmi légpárnás járműved lesz, ha ezeket mind beledolgozod, bármi is süljön ki belőle, én emelem előtted kalapom.   \n",
       "83                                                                                                                                                                                                                                                                                                                                                                                                                                                                                                                                                                                                                                                                                                                                                                                                                                                                                                                                                                                                                                                                                                                                                                                                                                                                                                                                                                                                                                                                                                                                                                                                                                                                                                                                                                                                                                                                                                                                                                                                                                                                                                                                                                                                                                                                                                                                                                                                                                                                                                                                                                                                                                                                                                                                                                                                                                                                                                                                                                                                                                                                                                                                                                                                                                                                                                                                                                                                                                                                                                                                                                                                                                                                                                                                                                                                                                                                                                                                                                                                                                                                                                                                                                                                                                                                                                                                                                                                                                                                                                                                                                                                                                                                                                                                                                                                                                                                                                                                                                                                                                                                                                                                                                                                                                                                                                                                                                                                                                                                                                                                                                                                                                                                                                                                                                                                                                                                                                                                                                                                                                                                                                                                                                                                        A holló mesélte Hogy a farkas letépte Majd a rókának adta Ki a medvénél hagyta De mikor lelépett A borz pont belépett Látta az egészet És hívta a menyétet A menyét a sünnel Túl hirtelen tűnt el Egy vasárnap este Még látta a fecske Amint egy fa alatt A pocokra ugranak S miközben elverik A hermelint éltetik A sün persze tudta A menyét hova dugta Szólt is a nyúlnak Hogy mindent lenyúlnak És a vakondra fogják Mert róla tudják Hogy annyira más Hisz mindent elás De közben a menyét Szintén nem henyélt Csörgette a struccot Hogy vigye el a cuccot Ha lehet jó messze De ügyeljen a nyestre Mert bár nem látszik Mindig nagyban játszik Távolabb az ürge Ledőlt a fűre Viszketett a marka Mikor rászólt a szarka Hiába vársz a bérre A nyest le van égve A léből nem lesz semmi A történet ennyi.   \n",
       "86                                                                                                                                                                                                                                                                                                                                                                                                                                                                                                                                                                                                                                                                                                                                                                                                                                                                                                                                                                                                                                                                                                                                                                                                                                                                                                                                                                                                                                                                                                                                                                                                                                                                                                                                                                                                                                                                                                                                                                                                                                                                                                                                                                                                                                                                                                                                                                                                                                                                                                                                                                                                                                                                                                                                                                                                                                                                                                                                                                                                                                                                                                                                                                                                                                                                                                                                                                                                                                                                                                                                                                                                                                                                                                                                                                                                                                                                                                                                                                                                                                                                                                                                                                                                                                                                                                                                                                                                                                                                                                                                                                                                                                                                                                                                                                                                                                                                                                                                                                                                                                                                                                                                                                                                                                                                                                                                                                                                                                                                                                                                                                                                                                                                                                                                                                                                                                                                Fergeteges hangulatba`, Betértünk a kiskocsmába. Tölgyes tanszék lett a neve, A hallgatók kedvenc helye. Folyt a \"Pepsi\" és a sok szó, Mindig volt igazságosztó. Vizsgaélmény, diák szava, Sok-sok színes változata. Mert mindenki másképp látta, Csiszolódtunk egy hullámra. - Átmentem egy rossz kettessel, Nem lettem okosabb semmivel. - Megadta az egyest mára, Visszatérek randevúra. - Azt sem tudom, mit kérdezett, Tudatomig nem érkezett. - Beírta, hogy \"elég\", és aztán kérdezett, Torkomra innentől egy szó sem érkezett. Mégis \"séges\" lett a vége, A Tanár Úr örömére! - Öt fogalom nem nagy dolog, A témában el is mondod. \"ISMERET\" volt ismeretlen, Kezem gyorsan a kilincsen. - Nem tetszett az új frizurám, Meghökkenve mutat reám. Rendezetten kíván látni, Akkor fogunk szóba állni. - Bármit mondtam a témában, Egyiknek sem örült jobban. Felhívta a figyelmemet, Olvasgassam a könyvemet! - Velem póttételt húzatott, Lelkemben mély nyomot hagyott. - Nincsen index, nincsen jegy sem, Kiborultam, hazamentem! Szemelgettünk, cseverésztünk, Záróráig mesélgettünk. Lelket öntöttünk egymásba, Vártunk egy szebb virradásra!   \n",
       "90                                                                                                                                                                                                                                                                                                                                                                                                                                                                                                                                                                                                                                                                                                                                                                                                                                                                                                                                                                                                                                                                                                                                                                                                                                                                                                                                                                                                                                                                                                                                                                                                                                                                                                                                                                                                                                                                                                                                                                                                                                                                                                                                                                                                                                                                                                                                                                                                                                                                                                                                                                                                                                                                                                                                                                                                                                                                                                                                                                                                                                                                                                                                                                                                                                                                                                                                                                                                                                                                                                                                                                                                                                                                                                                                                                                                                                                                                                                                                                                                                                                                                                                                                                                                                                                                                                                                                                                                                                                                                                                                                                                                                                                                                                                                                                                                                                                                                                                                                                                                                                                                                                                                                                                                                                                                                                                                                                                                                                                                                                                                                                                                                                                                                                                                                                                                                                                                                                                                                                                                                                                                                                                                                                                                                                                                                                                           Már minden halott körülöttem, És én mégis várlak. Beléd öltöttem ezeregy árnyat, Kérlek, keress meg, és beszélj velem, Nélküled üres a hetem. Sóvárog utánad keserves szívem, S mikor itt vagy, már nem is emlékszem. Nem emlékszem a gyötrelmek ízére S lelkem lelketlenségére, Miért van az, hogy minden elcsesződik, S miért van az, hogy ez az egész megőrjít. Akarlak, de nagyon és semennyire, Mert ha itt lennél velem, talán nem menne ennyire. De, oh, Istenem, ha itt lenne, talán működne is, S addig lennénk egymás végzetei, míg el nem veszik. Bár ugyan képtelenség, hogy elvesszen a gyönyörű képlet, Mert téged nekem, s nekem téged Így szántak egymásnak a földi lények.   \n",
       "\n",
       "                           link  \n",
       "36  https://poet.hu/vers/393587  \n",
       "49  https://poet.hu/vers/392518  \n",
       "58  https://poet.hu/vers/391738  \n",
       "61  https://poet.hu/vers/394018  \n",
       "67  https://poet.hu/vers/392810  \n",
       "68  https://poet.hu/vers/392694  \n",
       "81  https://poet.hu/vers/391897  \n",
       "83  https://poet.hu/vers/391545  \n",
       "86  https://poet.hu/vers/391219  \n",
       "90  https://poet.hu/vers/390747  "
      ]
     },
     "execution_count": 14,
     "metadata": {},
     "output_type": "execute_result"
    }
   ],
   "source": [
    "df_off.head(10)"
   ]
  },
  {
   "cell_type": "code",
   "execution_count": 15,
   "metadata": {},
   "outputs": [
    {
     "data": {
      "text/plain": [
       "(176, 5)"
      ]
     },
     "execution_count": 15,
     "metadata": {},
     "output_type": "execute_result"
    }
   ],
   "source": [
    "df = pd.concat([df_poz, df_neg], ignore_index=True)\n",
    "df.shape"
   ]
  },
  {
   "cell_type": "code",
   "execution_count": 16,
   "metadata": {
    "executionInfo": {
     "elapsed": 2,
     "status": "ok",
     "timestamp": 1754826391435,
     "user": {
      "displayName": "runner jogi",
      "userId": "17090129783586980987"
     },
     "user_tz": -120
    },
    "id": "5Ylu_jDVIv2a"
   },
   "outputs": [],
   "source": [
    "# Címkék számmá alakítása\n",
    "label_map = {\"poz\": 0, \"neg\": 1}\n",
    "df[\"label\"] = df[\"tipus\"].map(label_map)"
   ]
  },
  {
   "cell_type": "code",
   "execution_count": 17,
   "metadata": {
    "executionInfo": {
     "elapsed": 8,
     "status": "ok",
     "timestamp": 1754826391448,
     "user": {
      "displayName": "runner jogi",
      "userId": "17090129783586980987"
     },
     "user_tz": -120
    },
    "id": "pJkAsxGLIyg4"
   },
   "outputs": [],
   "source": [
    "# ===== 2. Train–test split =====\n",
    "train_df, test_df = train_test_split(\n",
    "    df,\n",
    "    test_size=0.2,\n",
    "    random_state=42,\n",
    "    stratify=df[\"label\"]\n",
    ")"
   ]
  },
  {
   "cell_type": "code",
   "execution_count": 18,
   "metadata": {},
   "outputs": [
    {
     "data": {
      "text/plain": [
       "(140, 6)"
      ]
     },
     "execution_count": 18,
     "metadata": {},
     "output_type": "execute_result"
    }
   ],
   "source": [
    "train_df.shape"
   ]
  },
  {
   "cell_type": "code",
   "execution_count": 19,
   "metadata": {
    "colab": {
     "base_uri": "https://localhost:8080/",
     "height": 423
    },
    "executionInfo": {
     "elapsed": 158,
     "status": "ok",
     "timestamp": 1754826391603,
     "user": {
      "displayName": "runner jogi",
      "userId": "17090129783586980987"
     },
     "user_tz": -120
    },
    "id": "3S_EVhSrLcV5",
    "outputId": "c5442392-46f8-4b9c-9ff3-bab8a04caa2e"
   },
   "outputs": [
    {
     "data": {
      "text/html": [
       "<div>\n",
       "<style scoped>\n",
       "    .dataframe tbody tr th:only-of-type {\n",
       "        vertical-align: middle;\n",
       "    }\n",
       "\n",
       "    .dataframe tbody tr th {\n",
       "        vertical-align: top;\n",
       "    }\n",
       "\n",
       "    .dataframe thead th {\n",
       "        text-align: right;\n",
       "    }\n",
       "</style>\n",
       "<table border=\"1\" class=\"dataframe\">\n",
       "  <thead>\n",
       "    <tr style=\"text-align: right;\">\n",
       "      <th></th>\n",
       "      <th>tipus</th>\n",
       "      <th>szerzo</th>\n",
       "      <th>cim</th>\n",
       "      <th>vers</th>\n",
       "      <th>link</th>\n",
       "      <th>label</th>\n",
       "    </tr>\n",
       "  </thead>\n",
       "  <tbody>\n",
       "    <tr>\n",
       "      <th>53</th>\n",
       "      <td>poz</td>\n",
       "      <td>Király Dávid (Zsoltáros)</td>\n",
       "      <td>Boldogság titka</td>\n",
       "      <td>Boldogságom, boldogságom enyém, tiéd, családágon Vidám kedvvel elnáspángol anyám pedig krumplipártol Gyerekeim vígan sírnak odamennek, verset írnak Kegyelmemmel el nem bírnak Bizony, szép így ez az élet A világ egy befőtté lett Széttört üveg, éles bőr Vére édes lényekből adott emberlényegből</td>\n",
       "      <td>https://poet.hu/vers/392045</td>\n",
       "      <td>0</td>\n",
       "    </tr>\n",
       "    <tr>\n",
       "      <th>11</th>\n",
       "      <td>poz</td>\n",
       "      <td>Péteriné J. Erzsébet</td>\n",
       "      <td>Anna napon kinyíltak a rózsák</td>\n",
       "      <td>Anna napon kinyíltak a rózsák, szépek; színes, bólogató jóság, köszöntik a fényes napvilágot, szívük adják, s illatos virágot. Ünneplőbe öltözött a kertünk, felkelt a nap, felvidult a kedvünk, köszöntünk most téged, drága Anna, legyen tiéd ez a szép hozsanna. Emlékezünk elmúlt, rég’ Annákra, emlék kísér halhatatlanságba, múló élet, örök, édes álom vár reánk is, a Jóisten áldjon. Anna napon kinyílnak a rózsák, bennük az ég küldi édes csókját, virágos lesz szívünk, lelkünk nyáron, madár dalol szép dalt rózsaágon.</td>\n",
       "      <td>https://poet.hu/vers/393752</td>\n",
       "      <td>0</td>\n",
       "    </tr>\n",
       "    <tr>\n",
       "      <th>39</th>\n",
       "      <td>poz</td>\n",
       "      <td>Piroschka Iréne Geng</td>\n",
       "      <td>Pipacs-szerelem</td>\n",
       "      <td>Búzatábla ma a lelkem, hullámzik, ha neved hallom, piros pipacs vagy te benne, szerelmesen égsz a vágytól.</td>\n",
       "      <td>https://poet.hu/vers/393332</td>\n",
       "      <td>0</td>\n",
       "    </tr>\n",
       "    <tr>\n",
       "      <th>68</th>\n",
       "      <td>poz</td>\n",
       "      <td>Tengeri Szépia</td>\n",
       "      <td>Mikor ér valami véget?</td>\n",
       "      <td>Mikor ér valami véget? Ha kétségbeesetten keresed, hogy miért csinálod az egészet? Vagy ha már kiégett a lélek? Vagy befejezheted hamarabb, mert ez a szabad akarat? És honnan tudod, hogy jól döntöttél, kitartsál vagy meneküljél? Meddig vagy küzdő, reményteljes, s mikortól naiv, önmagadra veszedelmes? De végre döntöttél, és a döntéssel szabad lettél. Már nem tervezel, nem küzdesz, nem felelsz meg. Még sírsz, de már mosolyogsz a könnyeiden át. Már nem akarsz szétesni, s a sejtjeidben érzed az összetartozást. Már nem lüktet az agyad, a szíved lassan piheg. Legnagyobb szövetségesed magad vagy, s tudod, a jövő benned pihen.</td>\n",
       "      <td>https://poet.hu/vers/391923</td>\n",
       "      <td>0</td>\n",
       "    </tr>\n",
       "    <tr>\n",
       "      <th>105</th>\n",
       "      <td>neg</td>\n",
       "      <td>Angyal Dorottya</td>\n",
       "      <td>Sírj</td>\n",
       "      <td>Sírj, ha fáj a lelked, Add ki magadból, amit csak lehet. Sírj, hogy megkönnyebbüljön lelked, És ne szégyelld kimondani, Amit érzel. Lehet, hogy sírsz legbelül, Hogy bántottak - De idővel meglátod: Jobb vagy, mint az átlag. Ne sírj, ha az élet kemény veled, A sors azt akarja: ne add fel! Én is sírtam rengeteget - Hol örömömben, Hol a fájdalom gyötört. Sírni nem szégyen, Mindenkiből kitör az érzelem. Érzelem nélkül nem lehet sírni - Aki ezt mondja, az csak hazudik. A múltban, lehet, hogy sírtál rengeteget, És lehet, sokat fogsz sírni a jövőben is. De ha elérsz valamit az életben, Amiről mindig is álmodtál, Akkor azért fogsz sírni - Mert elérted a legnagyobb vágyad.</td>\n",
       "      <td>https://poet.hu/vers/390328</td>\n",
       "      <td>1</td>\n",
       "    </tr>\n",
       "  </tbody>\n",
       "</table>\n",
       "</div>"
      ],
      "text/plain": [
       "    tipus                    szerzo                            cim  \\\n",
       "53    poz  Király Dávid (Zsoltáros)                Boldogság titka   \n",
       "11    poz      Péteriné J. Erzsébet  Anna napon kinyíltak a rózsák   \n",
       "39    poz      Piroschka Iréne Geng                Pipacs-szerelem   \n",
       "68    poz            Tengeri Szépia         Mikor ér valami véget?   \n",
       "105   neg           Angyal Dorottya                           Sírj   \n",
       "\n",
       "                                                                                                                                                                                                                                                                                                                                                                                                                                                                                                                                                                                                                                                                                                vers  \\\n",
       "53                                                                                                                                                                                                                                                                                                                                                                                              Boldogságom, boldogságom enyém, tiéd, családágon Vidám kedvvel elnáspángol anyám pedig krumplipártol Gyerekeim vígan sírnak odamennek, verset írnak Kegyelmemmel el nem bírnak Bizony, szép így ez az élet A világ egy befőtté lett Széttört üveg, éles bőr Vére édes lényekből adott emberlényegből   \n",
       "11                                                                                                                                                              Anna napon kinyíltak a rózsák, szépek; színes, bólogató jóság, köszöntik a fényes napvilágot, szívük adják, s illatos virágot. Ünneplőbe öltözött a kertünk, felkelt a nap, felvidult a kedvünk, köszöntünk most téged, drága Anna, legyen tiéd ez a szép hozsanna. Emlékezünk elmúlt, rég’ Annákra, emlék kísér halhatatlanságba, múló élet, örök, édes álom vár reánk is, a Jóisten áldjon. Anna napon kinyílnak a rózsák, bennük az ég küldi édes csókját, virágos lesz szívünk, lelkünk nyáron, madár dalol szép dalt rózsaágon.   \n",
       "39                                                                                                                                                                                                                                                                                                                                                                                                                                                                                                                                                                                        Búzatábla ma a lelkem, hullámzik, ha neved hallom, piros pipacs vagy te benne, szerelmesen égsz a vágytól.   \n",
       "68                                                Mikor ér valami véget? Ha kétségbeesetten keresed, hogy miért csinálod az egészet? Vagy ha már kiégett a lélek? Vagy befejezheted hamarabb, mert ez a szabad akarat? És honnan tudod, hogy jól döntöttél, kitartsál vagy meneküljél? Meddig vagy küzdő, reményteljes, s mikortól naiv, önmagadra veszedelmes? De végre döntöttél, és a döntéssel szabad lettél. Már nem tervezel, nem küzdesz, nem felelsz meg. Még sírsz, de már mosolyogsz a könnyeiden át. Már nem akarsz szétesni, s a sejtjeidben érzed az összetartozást. Már nem lüktet az agyad, a szíved lassan piheg. Legnagyobb szövetségesed magad vagy, s tudod, a jövő benned pihen.   \n",
       "105  Sírj, ha fáj a lelked, Add ki magadból, amit csak lehet. Sírj, hogy megkönnyebbüljön lelked, És ne szégyelld kimondani, Amit érzel. Lehet, hogy sírsz legbelül, Hogy bántottak - De idővel meglátod: Jobb vagy, mint az átlag. Ne sírj, ha az élet kemény veled, A sors azt akarja: ne add fel! Én is sírtam rengeteget - Hol örömömben, Hol a fájdalom gyötört. Sírni nem szégyen, Mindenkiből kitör az érzelem. Érzelem nélkül nem lehet sírni - Aki ezt mondja, az csak hazudik. A múltban, lehet, hogy sírtál rengeteget, És lehet, sokat fogsz sírni a jövőben is. De ha elérsz valamit az életben, Amiről mindig is álmodtál, Akkor azért fogsz sírni - Mert elérted a legnagyobb vágyad.   \n",
       "\n",
       "                            link  label  \n",
       "53   https://poet.hu/vers/392045      0  \n",
       "11   https://poet.hu/vers/393752      0  \n",
       "39   https://poet.hu/vers/393332      0  \n",
       "68   https://poet.hu/vers/391923      0  \n",
       "105  https://poet.hu/vers/390328      1  "
      ]
     },
     "execution_count": 19,
     "metadata": {},
     "output_type": "execute_result"
    }
   ],
   "source": [
    "train_df.head()"
   ]
  },
  {
   "cell_type": "code",
   "execution_count": 20,
   "metadata": {},
   "outputs": [],
   "source": [
    "train_df_poz = train_df[train_df['tipus'] == 'poz'].copy()"
   ]
  },
  {
   "cell_type": "code",
   "execution_count": 21,
   "metadata": {},
   "outputs": [
    {
     "data": {
      "text/plain": [
       "(70, 6)"
      ]
     },
     "execution_count": 21,
     "metadata": {},
     "output_type": "execute_result"
    }
   ],
   "source": [
    "train_df_poz.shape"
   ]
  },
  {
   "cell_type": "code",
   "execution_count": 22,
   "metadata": {},
   "outputs": [
    {
     "data": {
      "text/plain": [
       "(36, 6)"
      ]
     },
     "execution_count": 22,
     "metadata": {},
     "output_type": "execute_result"
    }
   ],
   "source": [
    "test_df.shape"
   ]
  },
  {
   "cell_type": "code",
   "execution_count": 23,
   "metadata": {
    "colab": {
     "base_uri": "https://localhost:8080/",
     "height": 1000
    },
    "executionInfo": {
     "elapsed": 189,
     "status": "ok",
     "timestamp": 1754826391893,
     "user": {
      "displayName": "runner jogi",
      "userId": "17090129783586980987"
     },
     "user_tz": -120
    },
    "id": "fIkgZGFiMKwO",
    "outputId": "73ff47b4-e97f-47c3-fdac-f99909aa19eb"
   },
   "outputs": [
    {
     "data": {
      "text/html": [
       "<div>\n",
       "<style scoped>\n",
       "    .dataframe tbody tr th:only-of-type {\n",
       "        vertical-align: middle;\n",
       "    }\n",
       "\n",
       "    .dataframe tbody tr th {\n",
       "        vertical-align: top;\n",
       "    }\n",
       "\n",
       "    .dataframe thead th {\n",
       "        text-align: right;\n",
       "    }\n",
       "</style>\n",
       "<table border=\"1\" class=\"dataframe\">\n",
       "  <thead>\n",
       "    <tr style=\"text-align: right;\">\n",
       "      <th></th>\n",
       "      <th>tipus</th>\n",
       "      <th>szerzo</th>\n",
       "      <th>cim</th>\n",
       "      <th>vers</th>\n",
       "      <th>link</th>\n",
       "      <th>label</th>\n",
       "    </tr>\n",
       "  </thead>\n",
       "  <tbody>\n",
       "    <tr>\n",
       "      <th>63</th>\n",
       "      <td>poz</td>\n",
       "      <td>T. Jósa Miklós</td>\n",
       "      <td>Déli harangszó</td>\n",
       "      <td>Déli harang, hintánk újra megáll; bozóttűzben megtisztult már az éhség; bemutatja ég felé áldozatát. Hittel ebédelni jó, semmi kétség. Pehelysúlyú szalmakalap alatt örökzöld a fennkölt gondolat, áldás. Jó ember - rímek belsejét faragd. Szereld be, mit egy szókép odapányváz. Ah, érzelmek korlátja, tüzes érv, szaladni készül, lángja holt, kialszik meggyújtás előtt; csalfán aranylik. Elvakultam, hízelgő ellenérv igazam áldozta le napnyugtával. S kenyeret majszolok zakuszkával.</td>\n",
       "      <td>https://poet.hu/vers/392511</td>\n",
       "      <td>0</td>\n",
       "    </tr>\n",
       "    <tr>\n",
       "      <th>96</th>\n",
       "      <td>neg</td>\n",
       "      <td>Yelchowt Elisabeth</td>\n",
       "      <td>Beléd égtem</td>\n",
       "      <td>Szemerkélő esőben állunk kint kettesben. Esernyőnket nem nyitjuk, s a naplementét csodáljuk. Egymást nem is sajnáljuk, hagyva a szót, hadd szálljon. Nem kell tovább váratnod, ítéletét elhagytuk. Komolytalan arcodon, komolyságod láthatom. Ártatlanul pislogsz most, bár ajkad élve tépne húst. Kegyetlenség árad szét, de fájdalmasan jó e kép. Elfelejtett igaz lét, kegyelmes vagy, nem kérdés.</td>\n",
       "      <td>https://poet.hu/vers/393517</td>\n",
       "      <td>1</td>\n",
       "    </tr>\n",
       "    <tr>\n",
       "      <th>23</th>\n",
       "      <td>poz</td>\n",
       "      <td>Szabó László (szli)</td>\n",
       "      <td>Drága Anikó!</td>\n",
       "      <td>Csendes kis utcában rendes házikó, Itt szerelmünk a legfontosabb lakó. Nagyvilágban züllött, bűnös a dáridó, A mi udvarunkon énekel a fekete rigó. Élj 100 évig, csak azt kívánom neked, Amíg csak élek, legyen áldott a neved. Mai napon néked minden jót kívánok, Ahova csak nézel, ott nyíljanak virágok. Legyen forróság, vagy szakadjon a hó, Veled elbújni együtt mindig nagyon jó. Tudom, már hajam ritka, fehér és fakó, Úgy nézek már ki, mint egy öreg manó. De te megmaradtál fiatal és csillogó, Még mindig szép, mosolygó és izgató. Egy mosolygós démon, pajkos csábító. Nem engedlek el soha én, drága Anikó. Ha majd belepi emlékemet a fehér hó, Tőled hullámzik majd a szerelemfolyó. Ha megfeneklik majd ez a drága hajó, Akkor is szeretlek téged, drága Anikó!</td>\n",
       "      <td>https://poet.hu/vers/393409</td>\n",
       "      <td>0</td>\n",
       "    </tr>\n",
       "    <tr>\n",
       "      <th>82</th>\n",
       "      <td>poz</td>\n",
       "      <td>Voodoo</td>\n",
       "      <td>Szíveddel dobban</td>\n",
       "      <td>Minden versed kotta, hullámzó dallam, amitől sötét egem lángra lobban, hallom szívdobbanásod, lüktet lassan, mintha itt tartanálak a karomban. Lejátszom újra és újra, hogy halljam, ott lebeg halkan mindegyik dalomban, játszom napfényben, esőben és fagyban, szívem szíveddel dobban mellkasomban. Távol vagy, de sohasem hagysz egyedül, a széllel üzensz, most is épp hegedül, veled alszik el, s veled ébred a fény. Zenémben, nem titok, ott él a remény, néha elkerül, de mindig visszatér... Leül melléd, rád mosolyog, s elrepül...</td>\n",
       "      <td>https://poet.hu/vers/389955</td>\n",
       "      <td>0</td>\n",
       "    </tr>\n",
       "    <tr>\n",
       "      <th>51</th>\n",
       "      <td>poz</td>\n",
       "      <td>Szajkó István</td>\n",
       "      <td>A Boldogság Titkai</td>\n",
       "      <td>Volt egyszer egy érzés, lágy, mint reggeli fény, Nem harsány szó, nem vakító, csak csendes, tiszta remény. Nem mérhető pénzben, sem hírnév súlyában, De ott lakozik minden szív kis zugában. A boldogság néha egy csésze tea, Ha csendben kortyolod, s békéd megtalálja. Máskor egy mosoly, mit rég nem vártál, Egy pillantás, amitől lelkedbe nyár száll. Ott van az első harapásban, mikor otthon ízét érzed, Vagy egy régi dallamban, amit együtt énekeltél régen. Ott van a sétában, ha a szél arcodba kap, S a világ hirtelen megszűnik zűrzavarosnak. Boldogság az is, ha már nem félsz, Ha megérted, mi fontos, és mi, ami csak dísz. Ha nem rohanás az élet, hanem lépés, ami számít, Észreveszed a színeket, a halk neszeket, bármit. Lehet egy ölelés, egy baráti szó, Egy gondolat, mi elindít, mint hegy tetején a hó. A boldogság nem cél, mit el kell érni, Hanem út, amin érdemes végigmenni, s élni. S ha néha el is tűnik, mint álom hajnalban, Megtalálhatod újra egy gyermek kacajában. Mert mindig ott lesz, ha keresed szíveddel, A boldogság nem messze van - benned él csendesen.</td>\n",
       "      <td>https://poet.hu/vers/392282</td>\n",
       "      <td>0</td>\n",
       "    </tr>\n",
       "  </tbody>\n",
       "</table>\n",
       "</div>"
      ],
      "text/plain": [
       "   tipus               szerzo                 cim  \\\n",
       "63   poz       T. Jósa Miklós      Déli harangszó   \n",
       "96   neg   Yelchowt Elisabeth         Beléd égtem   \n",
       "23   poz  Szabó László (szli)        Drága Anikó!   \n",
       "82   poz               Voodoo    Szíveddel dobban   \n",
       "51   poz        Szajkó István  A Boldogság Titkai   \n",
       "\n",
       "                                                                                                                                                                                                                                                                                                                                                                                                                                                                                                                                                                                                                                                                                                                                                                                                                                                                                                                                                                                                                                                                                                        vers  \\\n",
       "63                                                                                                                                                                                                                                                                                                                                                                                                                                                                                                                                                                                                            Déli harang, hintánk újra megáll; bozóttűzben megtisztult már az éhség; bemutatja ég felé áldozatát. Hittel ebédelni jó, semmi kétség. Pehelysúlyú szalmakalap alatt örökzöld a fennkölt gondolat, áldás. Jó ember - rímek belsejét faragd. Szereld be, mit egy szókép odapányváz. Ah, érzelmek korlátja, tüzes érv, szaladni készül, lángja holt, kialszik meggyújtás előtt; csalfán aranylik. Elvakultam, hízelgő ellenérv igazam áldozta le napnyugtával. S kenyeret majszolok zakuszkával.   \n",
       "96                                                                                                                                                                                                                                                                                                                                                                                                                                                                                                                                                                                                                                                                                                     Szemerkélő esőben állunk kint kettesben. Esernyőnket nem nyitjuk, s a naplementét csodáljuk. Egymást nem is sajnáljuk, hagyva a szót, hadd szálljon. Nem kell tovább váratnod, ítéletét elhagytuk. Komolytalan arcodon, komolyságod láthatom. Ártatlanul pislogsz most, bár ajkad élve tépne húst. Kegyetlenség árad szét, de fájdalmasan jó e kép. Elfelejtett igaz lét, kegyelmes vagy, nem kérdés.   \n",
       "23                                                                                                                                                                                                                                                                                                                       Csendes kis utcában rendes házikó, Itt szerelmünk a legfontosabb lakó. Nagyvilágban züllött, bűnös a dáridó, A mi udvarunkon énekel a fekete rigó. Élj 100 évig, csak azt kívánom neked, Amíg csak élek, legyen áldott a neved. Mai napon néked minden jót kívánok, Ahova csak nézel, ott nyíljanak virágok. Legyen forróság, vagy szakadjon a hó, Veled elbújni együtt mindig nagyon jó. Tudom, már hajam ritka, fehér és fakó, Úgy nézek már ki, mint egy öreg manó. De te megmaradtál fiatal és csillogó, Még mindig szép, mosolygó és izgató. Egy mosolygós démon, pajkos csábító. Nem engedlek el soha én, drága Anikó. Ha majd belepi emlékemet a fehér hó, Tőled hullámzik majd a szerelemfolyó. Ha megfeneklik majd ez a drága hajó, Akkor is szeretlek téged, drága Anikó!   \n",
       "82                                                                                                                                                                                                                                                                                                                                                                                                                                                                                                                                                            Minden versed kotta, hullámzó dallam, amitől sötét egem lángra lobban, hallom szívdobbanásod, lüktet lassan, mintha itt tartanálak a karomban. Lejátszom újra és újra, hogy halljam, ott lebeg halkan mindegyik dalomban, játszom napfényben, esőben és fagyban, szívem szíveddel dobban mellkasomban. Távol vagy, de sohasem hagysz egyedül, a széllel üzensz, most is épp hegedül, veled alszik el, s veled ébred a fény. Zenémben, nem titok, ott él a remény, néha elkerül, de mindig visszatér... Leül melléd, rád mosolyog, s elrepül...   \n",
       "51  Volt egyszer egy érzés, lágy, mint reggeli fény, Nem harsány szó, nem vakító, csak csendes, tiszta remény. Nem mérhető pénzben, sem hírnév súlyában, De ott lakozik minden szív kis zugában. A boldogság néha egy csésze tea, Ha csendben kortyolod, s békéd megtalálja. Máskor egy mosoly, mit rég nem vártál, Egy pillantás, amitől lelkedbe nyár száll. Ott van az első harapásban, mikor otthon ízét érzed, Vagy egy régi dallamban, amit együtt énekeltél régen. Ott van a sétában, ha a szél arcodba kap, S a világ hirtelen megszűnik zűrzavarosnak. Boldogság az is, ha már nem félsz, Ha megérted, mi fontos, és mi, ami csak dísz. Ha nem rohanás az élet, hanem lépés, ami számít, Észreveszed a színeket, a halk neszeket, bármit. Lehet egy ölelés, egy baráti szó, Egy gondolat, mi elindít, mint hegy tetején a hó. A boldogság nem cél, mit el kell érni, Hanem út, amin érdemes végigmenni, s élni. S ha néha el is tűnik, mint álom hajnalban, Megtalálhatod újra egy gyermek kacajában. Mert mindig ott lesz, ha keresed szíveddel, A boldogság nem messze van - benned él csendesen.   \n",
       "\n",
       "                           link  label  \n",
       "63  https://poet.hu/vers/392511      0  \n",
       "96  https://poet.hu/vers/393517      1  \n",
       "23  https://poet.hu/vers/393409      0  \n",
       "82  https://poet.hu/vers/389955      0  \n",
       "51  https://poet.hu/vers/392282      0  "
      ]
     },
     "execution_count": 23,
     "metadata": {},
     "output_type": "execute_result"
    }
   ],
   "source": [
    "test_df.head()"
   ]
  },
  {
   "cell_type": "code",
   "execution_count": 24,
   "metadata": {},
   "outputs": [],
   "source": [
    "test_df_poz = test_df[test_df['tipus'] == 'poz'].copy()"
   ]
  },
  {
   "cell_type": "code",
   "execution_count": 25,
   "metadata": {},
   "outputs": [
    {
     "data": {
      "text/plain": [
       "(18, 6)"
      ]
     },
     "execution_count": 25,
     "metadata": {},
     "output_type": "execute_result"
    }
   ],
   "source": [
    "test_df_poz.shape"
   ]
  },
  {
   "cell_type": "code",
   "execution_count": 26,
   "metadata": {
    "colab": {
     "base_uri": "https://localhost:8080/",
     "height": 269,
     "referenced_widgets": [
      "43590adc4b3f4eef9cb063741e84eb83",
      "831946b2d91844d498a551196d7c2d69",
      "bf6b1450b0854e00ace6106b7e4f68cc",
      "d414c7a8c2234555a37027edf38d48f9",
      "5a27b0521e034b43bbc651b53867b1c4",
      "e4c6b047c16c4b01b310471695d832f0",
      "bfae4a42994345e5ae1b00d914264fb2",
      "b2fed638eae14119837df90b59084faa",
      "e692730839f24d6894357ac7cc44b2d5",
      "e5b83e3ace144a4191a58f15aa2ec3eb",
      "2cb5e0232dfb4f4f99ac7fa11c655658",
      "22710f28b5c7414982852739479c6002",
      "d662b6279ac344c5902606cac5878abb",
      "6ebf9c9991f845aaabd42bad7a96be62",
      "c8134dd2b03646e986f5b313707ef631",
      "c65e78a9e6ca446a80fc6b7e97777e14",
      "9bf8d147f79b4410b0005de9e5a38fc1",
      "6de262db345e49099b26e47949700345",
      "ecb410f610894ea0a18327955640838b",
      "eaabed506f124ad1afa603045700b5bf",
      "904ca775e19f4fe4a6cef0d60680a7d4",
      "f79ae5bdb7834a7bbbc7c1202bc46340",
      "ccefb78134904b7aa2321cadcc62da48",
      "63a5319167364abea5985d23fe115186",
      "67eedb4a0143494898244fb15ce8694d",
      "594135cb6c1647049dbb88db83b16ee4",
      "02d1850f562e4a0faa2757d14b051d88",
      "2f35934c31b645358e34500ce3bcc062",
      "e2b3d3e406cd48edb9ad98eeee0ae3d3",
      "a695b38bed2c4bce89debde7b635f995",
      "4fd8097b3388473d8c3fa79260801bdc",
      "108ccd8cec4a4b4b8da019a5737b70cb",
      "ba664f312ea7420790e8dc2531757544",
      "fd3a8c606ed741bfa535890f039a3a77",
      "477357c1f0ab49a6b3f9af46127adefe",
      "0ead3748dcd749d9b424bd0502739b20",
      "7a6831ad159a48a8989c4ccd24a707c3",
      "a74f2f91f90a43a7bf94ad0c3581e86c",
      "7c165b1d9f3343ee9f0ea3e752cb93a0",
      "16ad6e6ffecf4fc9a5b71503bc567ccf",
      "acfdd1cee58142248e137f48c38f6b3e",
      "2c6057b6352a45efb2262c90d47b7d97",
      "a8f65015b3c648fa8b709f31132f938b",
      "f2efcc3649b54a8aadcfa8494da12aaa"
     ]
    },
    "executionInfo": {
     "elapsed": 2357,
     "status": "ok",
     "timestamp": 1754826394259,
     "user": {
      "displayName": "runner jogi",
      "userId": "17090129783586980987"
     },
     "user_tz": -120
    },
    "id": "1eDLTvgnI8Fe",
    "outputId": "a5bfb7be-31cb-4454-ca7b-cee7a2e376ee"
   },
   "outputs": [],
   "source": [
    "# ===== 3. Tokenizer betöltése =====\n",
    "tokenizer = AutoTokenizer.from_pretrained(\"SZTAKI-HLT/hubert-base-cc\")"
   ]
  },
  {
   "cell_type": "code",
   "execution_count": 27,
   "metadata": {
    "executionInfo": {
     "elapsed": 8,
     "status": "ok",
     "timestamp": 1754826394276,
     "user": {
      "displayName": "runner jogi",
      "userId": "17090129783586980987"
     },
     "user_tz": -120
    },
    "id": "dKuVqHJ5JA82"
   },
   "outputs": [],
   "source": [
    "# ===== 4. Tokenizáló függvény =====\n",
    "def tokenize_function(examples):\n",
    "    return tokenizer(\n",
    "        examples[\"vers\"],\n",
    "        truncation=True,\n",
    "        padding=\"max_length\",\n",
    "        max_length=128\n",
    "    )"
   ]
  },
  {
   "cell_type": "code",
   "execution_count": 28,
   "metadata": {
    "colab": {
     "base_uri": "https://localhost:8080/",
     "height": 81,
     "referenced_widgets": [
      "b6ac00dfdc3e41c89ab6f6493823e2eb",
      "4db36b38c777408bb2583cf571194a5d",
      "7567ed796c69403aa0bdf04a8b6a2d37",
      "faed51d592414032a54260370198e235",
      "28b8b53906d9423192345bde94242dea",
      "ff78f60d97bb4aeba522b87946d3802a",
      "e1d16a0d5a194116ae53997d65761dad",
      "1116abf45f594289b196148a63870211",
      "efbb859454994fd1836a2c44867e4bbd",
      "7047cbcb089144ef9801ac70d2fc41cc",
      "53dbc9560cd24e08befbab1c1440fc80",
      "f569f802f18743de99cb6d2512ac1098",
      "aac337dd018647c68f06444350904a3b",
      "657a91130f1841e8b43da7921119f300",
      "8c7f12eadeb943909a6b9ddd11fe0b5d",
      "6835a1e22a614f92a3401fde2e492fc7",
      "e7267bd6cbcb4ef690f048df00c25478",
      "0572526e4ec246e09ecfd55795331fe3",
      "77ecf74a6d9c4a7b9395445a40e71d69",
      "0cd6e650b1d84d87a19e0c531e8cd546",
      "e2908d2a708f4f9595290af2e3003e9c",
      "6a79e9a942bc49879ece2a281a4f0707"
     ]
    },
    "executionInfo": {
     "elapsed": 356,
     "status": "ok",
     "timestamp": 1754826394641,
     "user": {
      "displayName": "runner jogi",
      "userId": "17090129783586980987"
     },
     "user_tz": -120
    },
    "id": "Xcu6YF9GJKhT",
    "outputId": "7a45a79a-c9e6-420f-cff1-333b91a7385c"
   },
   "outputs": [
    {
     "data": {
      "application/vnd.jupyter.widget-view+json": {
       "model_id": "b0c16d9583bf4316bc739f54342ccf6e",
       "version_major": 2,
       "version_minor": 0
      },
      "text/plain": [
       "Map:   0%|          | 0/140 [00:00<?, ? examples/s]"
      ]
     },
     "metadata": {},
     "output_type": "display_data"
    },
    {
     "data": {
      "application/vnd.jupyter.widget-view+json": {
       "model_id": "49a19f45aca349e19431d35a6ebc3e1a",
       "version_major": 2,
       "version_minor": 0
      },
      "text/plain": [
       "Map:   0%|          | 0/36 [00:00<?, ? examples/s]"
      ]
     },
     "metadata": {},
     "output_type": "display_data"
    }
   ],
   "source": [
    "# ===== 5. Dataset-ek létrehozása =====\n",
    "train_dataset = Dataset.from_pandas(train_df[[\"vers\", \"label\"]])\n",
    "test_dataset = Dataset.from_pandas(test_df[[\"vers\", \"label\"]])\n",
    "\n",
    "\n",
    "train_tokenized_dataset = train_dataset.map(tokenize_function, batched=True)\n",
    "test_tokenized_dataset = test_dataset.map(tokenize_function, batched=True)"
   ]
  },
  {
   "cell_type": "code",
   "execution_count": 29,
   "metadata": {
    "colab": {
     "base_uri": "https://localhost:8080/"
    },
    "executionInfo": {
     "elapsed": 22,
     "status": "ok",
     "timestamp": 1754826394673,
     "user": {
      "displayName": "runner jogi",
      "userId": "17090129783586980987"
     },
     "user_tz": -120
    },
    "id": "2AYl9ayVMZzT",
    "outputId": "08dc54c4-5128-4739-f20d-1ef9029a6d6e"
   },
   "outputs": [
    {
     "data": {
      "text/plain": [
       "Dataset({\n",
       "    features: ['vers', 'label', '__index_level_0__'],\n",
       "    num_rows: 140\n",
       "})"
      ]
     },
     "execution_count": 29,
     "metadata": {},
     "output_type": "execute_result"
    }
   ],
   "source": [
    "train_dataset"
   ]
  },
  {
   "cell_type": "code",
   "execution_count": 30,
   "metadata": {},
   "outputs": [
    {
     "data": {
      "text/plain": [
       "Dataset({\n",
       "    features: ['vers', 'label', '__index_level_0__'],\n",
       "    num_rows: 36\n",
       "})"
      ]
     },
     "execution_count": 30,
     "metadata": {},
     "output_type": "execute_result"
    }
   ],
   "source": [
    "test_dataset"
   ]
  },
  {
   "cell_type": "markdown",
   "metadata": {
    "id": "59_1ZvQNTtZu"
   },
   "source": [
    "# Dropout működése\n",
    "* A tanítás során véletlenszerűen \"kikapcsol\" (azaz nulláz) egy előre meghatározott arányban (pl. 10%, 30%) neuronokat az idegháló egy adott rétegében.\n",
    "\n",
    "* Ezáltal a hálózat nem tud túlzottan \"rászokni\" bizonyos jellemzőkre, mert mindig más részek működnek aktívan.\n",
    "\n",
    "* Ez segít, hogy a modell általánosabb megoldást tanuljon, ne csak a tanító adat mintáit."
   ]
  },
  {
   "cell_type": "code",
   "execution_count": 31,
   "metadata": {
    "colab": {
     "base_uri": "https://localhost:8080/",
     "height": 104,
     "referenced_widgets": [
      "ce210e5db6c14a48bd0cf3abbedc7225",
      "1dc1a7161157452fb1cd0df01453f0f5",
      "4e01cd3098da436e8cfd856f28dc7b7f",
      "40afa4110ecf428daf5e7dce5e94d395",
      "f0ba1fbf556e4d50b16237756f0113d9",
      "5f0a23e68d1c4a54841b5bd89db674e4",
      "4b7c5b21e4a043e9a1d4402862239476",
      "1b77566b241f4781a6194b05f5e841c9",
      "cf4f0f955f964f43a00f82f37012e7c9",
      "b7772789dc784adeb6385aac9dae21be",
      "6ef7ece3a01b406c8011f461fdf90c1f"
     ]
    },
    "executionInfo": {
     "elapsed": 8107,
     "status": "ok",
     "timestamp": 1754826402788,
     "user": {
      "displayName": "runner jogi",
      "userId": "17090129783586980987"
     },
     "user_tz": -120
    },
    "id": "6ayWppVSJSX7",
    "outputId": "a6c4b810-ac99-4e98-b4e5-c9bc482df220"
   },
   "outputs": [
    {
     "name": "stderr",
     "output_type": "stream",
     "text": [
      "Some weights of BertForSequenceClassification were not initialized from the model checkpoint at SZTAKI-HLT/hubert-base-cc and are newly initialized: ['classifier.bias', 'classifier.weight']\n",
      "You should probably TRAIN this model on a down-stream task to be able to use it for predictions and inference.\n"
     ]
    }
   ],
   "source": [
    "\n",
    "# ===== 6. Modell betöltése =====\n",
    "'''\n",
    "model = BertForSequenceClassification.from_pretrained(\n",
    "    \"SZTAKI-HLT/hubert-base-cc\",\n",
    "    num_labels=2  # pozitív / negatív\n",
    ")\n",
    "'''\n",
    "# Dropout növelése\n",
    "model = BertForSequenceClassification.from_pretrained(\n",
    "    \"SZTAKI-HLT/hubert-base-cc\",\n",
    "    num_labels=2,  # pozitív / negatív\n",
    "    hidden_dropout_prob=0.3,  # alap 0.1 → növelve\n",
    "    attention_probs_dropout_prob=0.3\n",
    ")\n"
   ]
  },
  {
   "cell_type": "code",
   "execution_count": 32,
   "metadata": {
    "executionInfo": {
     "elapsed": 3822,
     "status": "ok",
     "timestamp": 1754826406605,
     "user": {
      "displayName": "runner jogi",
      "userId": "17090129783586980987"
     },
     "user_tz": -120
    },
    "id": "zysdKTc8JXgq"
   },
   "outputs": [
    {
     "name": "stderr",
     "output_type": "stream",
     "text": [
      "huggingface/tokenizers: The current process just got forked, after parallelism has already been used. Disabling parallelism to avoid deadlocks...\n",
      "To disable this warning, you can either:\n",
      "\t- Avoid using `tokenizers` before the fork if possible\n",
      "\t- Explicitly set the environment variable TOKENIZERS_PARALLELISM=(true | false)\n"
     ]
    }
   ],
   "source": [
    "# ===== 7. Tanítási beállítások =====\n",
    "training_args = TrainingArguments(\n",
    "    output_dir=\"./bert_vers_hangulat\",\n",
    "    #evaluation_strategy=\"epoch\",\n",
    "    eval_strategy=\"epoch\",\n",
    "    save_strategy=\"epoch\",\n",
    "    #num_train_epochs=10, # túltanul\n",
    "    num_train_epochs=6, # itt még csökkent a validation_loss\n",
    "    per_device_train_batch_size=4,\n",
    "    #learning_rate=1e-5,\n",
    "    #Ha túl nagy a learning rate, a modell paraméterei \"túl nagyot ugranak\", és nem tud stabilan konvergálni.\n",
    "    learning_rate=5e-6,  # fele akkora\n",
    "    logging_dir=\"./logs\",\n",
    "    logging_steps=10\n",
    ")"
   ]
  },
  {
   "cell_type": "code",
   "execution_count": 33,
   "metadata": {
    "executionInfo": {
     "elapsed": 7,
     "status": "ok",
     "timestamp": 1754826406697,
     "user": {
      "displayName": "runner jogi",
      "userId": "17090129783586980987"
     },
     "user_tz": -120
    },
    "id": "JByTpJdrKR3i"
   },
   "outputs": [],
   "source": [
    "import numpy as np\n",
    "from sklearn.metrics import accuracy_score, classification_report\n",
    "\n",
    "# ===== 12. Pontosság kiértékelő függvény =====\n",
    "def compute_metrics(pred):\n",
    "    labels = pred.label_ids\n",
    "    preds = np.argmax(pred.predictions, axis=-1)\n",
    "    acc = accuracy_score(labels, preds)\n",
    "    return {\"accuracy\": acc}"
   ]
  },
  {
   "cell_type": "code",
   "execution_count": 34,
   "metadata": {
    "colab": {
     "base_uri": "https://localhost:8080/"
    },
    "executionInfo": {
     "elapsed": 732,
     "status": "ok",
     "timestamp": 1754826407451,
     "user": {
      "displayName": "runner jogi",
      "userId": "17090129783586980987"
     },
     "user_tz": -120
    },
    "id": "cQub9AfhKKMz",
    "outputId": "00403b46-46c2-4bed-b2c6-e9f1b0c3599a"
   },
   "outputs": [
    {
     "name": "stderr",
     "output_type": "stream",
     "text": [
      "/tmp/ipykernel_41044/2982156493.py:2: FutureWarning: `tokenizer` is deprecated and will be removed in version 5.0.0 for `Trainer.__init__`. Use `processing_class` instead.\n",
      "  trainer = Trainer(\n"
     ]
    }
   ],
   "source": [
    "# ===== 13. Trainer újradefiniálása metric-kel =====\n",
    "trainer = Trainer(\n",
    "    model=model,\n",
    "    args=training_args,\n",
    "    train_dataset=train_tokenized_dataset,\n",
    "    eval_dataset=test_tokenized_dataset,\n",
    "    tokenizer=tokenizer,\n",
    "    compute_metrics=compute_metrics\n",
    ")"
   ]
  },
  {
   "cell_type": "markdown",
   "metadata": {
    "id": "LR49dZsP-cFy"
   },
   "source": [
    "## A wandb.ai (Weights & Biases) egy AI fejlesztői platform\n",
    "A wandb.ai egy átfogó, sokoldalú eszközkészlet, amely segít a gépi tanulási modellek fejlesztésének, finomhangolásának, megosztásának és monitorozásának egyszerűsítésében és skálázásában."
   ]
  },
  {
   "cell_type": "markdown",
   "metadata": {
    "id": "8WKOdcMf90CK"
   },
   "source": [
    "API kulcs innen regisztráció után:\n",
    "https://wandb.ai/authorize?ref=models"
   ]
  },
  {
   "cell_type": "markdown",
   "metadata": {},
   "source": [
    "# Train tapasztalatok\n",
    "\n",
    "* num_train_epochs=6, Pontosság: 83.3%\n",
    "* num_train_epochs=7, Pontosság: 80%\n",
    "* num_train_epochs=5, Pontosság: 76.8%"
   ]
  },
  {
   "cell_type": "code",
   "execution_count": 35,
   "metadata": {
    "colab": {
     "base_uri": "https://localhost:8080/",
     "height": 541
    },
    "executionInfo": {
     "elapsed": 1516615,
     "status": "ok",
     "timestamp": 1754827924063,
     "user": {
      "displayName": "runner jogi",
      "userId": "17090129783586980987"
     },
     "user_tz": -120
    },
    "id": "sqXw411YJu4n",
    "outputId": "15a5614f-f83a-4114-a060-be230bc22bb0"
   },
   "outputs": [
    {
     "data": {
      "text/html": [
       "\n",
       "    <div>\n",
       "      \n",
       "      <progress value='210' max='210' style='width:300px; height:20px; vertical-align: middle;'></progress>\n",
       "      [210/210 00:48, Epoch 6/6]\n",
       "    </div>\n",
       "    <table border=\"1\" class=\"dataframe\">\n",
       "  <thead>\n",
       " <tr style=\"text-align: left;\">\n",
       "      <th>Epoch</th>\n",
       "      <th>Training Loss</th>\n",
       "      <th>Validation Loss</th>\n",
       "      <th>Accuracy</th>\n",
       "    </tr>\n",
       "  </thead>\n",
       "  <tbody>\n",
       "    <tr>\n",
       "      <td>1</td>\n",
       "      <td>0.639100</td>\n",
       "      <td>0.630675</td>\n",
       "      <td>0.611111</td>\n",
       "    </tr>\n",
       "    <tr>\n",
       "      <td>2</td>\n",
       "      <td>0.649400</td>\n",
       "      <td>0.613415</td>\n",
       "      <td>0.722222</td>\n",
       "    </tr>\n",
       "    <tr>\n",
       "      <td>3</td>\n",
       "      <td>0.584400</td>\n",
       "      <td>0.551198</td>\n",
       "      <td>0.805556</td>\n",
       "    </tr>\n",
       "    <tr>\n",
       "      <td>4</td>\n",
       "      <td>0.534000</td>\n",
       "      <td>0.467326</td>\n",
       "      <td>0.861111</td>\n",
       "    </tr>\n",
       "    <tr>\n",
       "      <td>5</td>\n",
       "      <td>0.415400</td>\n",
       "      <td>0.458046</td>\n",
       "      <td>0.833333</td>\n",
       "    </tr>\n",
       "    <tr>\n",
       "      <td>6</td>\n",
       "      <td>0.454100</td>\n",
       "      <td>0.446032</td>\n",
       "      <td>0.833333</td>\n",
       "    </tr>\n",
       "  </tbody>\n",
       "</table><p>"
      ],
      "text/plain": [
       "<IPython.core.display.HTML object>"
      ]
     },
     "metadata": {},
     "output_type": "display_data"
    },
    {
     "data": {
      "text/plain": [
       "TrainOutput(global_step=210, training_loss=0.5628577186947777, metrics={'train_runtime': 48.8321, 'train_samples_per_second': 17.202, 'train_steps_per_second': 4.3, 'total_flos': 55253321625600.0, 'train_loss': 0.5628577186947777, 'epoch': 6.0})"
      ]
     },
     "execution_count": 35,
     "metadata": {},
     "output_type": "execute_result"
    }
   ],
   "source": [
    "# ===== 9. Modell tanítása =====\n",
    "trainer.train()"
   ]
  },
  {
   "cell_type": "code",
   "execution_count": 36,
   "metadata": {
    "executionInfo": {
     "elapsed": 7,
     "status": "ok",
     "timestamp": 1754827924121,
     "user": {
      "displayName": "runner jogi",
      "userId": "17090129783586980987"
     },
     "user_tz": -120
    },
    "id": "PJLDsmN75T0g"
   },
   "outputs": [],
   "source": [
    "kimenet_versek =[]"
   ]
  },
  {
   "cell_type": "code",
   "execution_count": 37,
   "metadata": {
    "executionInfo": {
     "elapsed": 24,
     "status": "ok",
     "timestamp": 1754827924151,
     "user": {
      "displayName": "runner jogi",
      "userId": "17090129783586980987"
     },
     "user_tz": -120
    },
    "id": "TsmHdZOAf0f4"
   },
   "outputs": [],
   "source": [
    "# ===== 10. Függvény új versek értékelésére =====\n",
    "def predikcio(uj_df):\n",
    "\n",
    "    global model, tokenizer, label_map \n",
    "\n",
    "    uj_versek = uj_df[\"vers\"].tolist()\n",
    "\n",
    "    label_map = {\"poz\": 0, \"neg\": 1}\n",
    "    uj_df[\"tipus\"] = uj_df[\"tipus\"].map(label_map)\n",
    "    true_labels = uj_df[\"tipus\"].values  # string címkék\n",
    "\n",
    "\n",
    "    model.eval()\n",
    "\n",
    "    #A tokenizer(...) után a bemeneti tensort is ugyanarra az eszközre kell rakni, ahol a model van.\n",
    "    device = torch.device(\"cuda\" if torch.cuda.is_available() else \"cpu\")\n",
    "    model = model.to(device)\n",
    "    \n",
    "    inputs = tokenizer(uj_versek, truncation=True, padding=True, max_length=128, return_tensors=\"pt\").to(device)  # <-- fontos: ide is to(device)\n",
    "    with torch.no_grad():\n",
    "        outputs = model(**inputs)\n",
    "        logits = outputs.logits\n",
    "        predictions = torch.argmax(logits, dim=-1).cpu().numpy()  # CPU-ra vissza, ha numpy kell\n",
    "\n",
    "    # Pontosság számítása\n",
    "    acc = accuracy_score(true_labels, predictions)\n",
    "    print(f\"Pontosság az új verseken: {acc*100:.2f}%\")\n",
    "\n",
    "    inverse_label_map = {0: \"poz (pozitív)\", 1: \"neg (negatív)\"}\n",
    "\n",
    "    for szerzo, cim,  vers, link, pred, valodi in zip(uj_df[\"szerzo\"] , uj_df[\"cim\"], uj_df[\"vers\"], uj_df[\"link\"], predictions, true_labels):\n",
    "        print(f\"Vers: {vers[:40]}... Predikció: {inverse_label_map[pred]} | Valódi: {inverse_label_map[valodi]}\")\n",
    "        adat = {\n",
    "            \"szerzo\": szerzo,\n",
    "            \"cim\": cim,\n",
    "            \"vers\": vers,\n",
    "            \"link\" : link,\n",
    "            \"valodi\": inverse_label_map[valodi],\n",
    "            \"predikcio\": inverse_label_map[pred]\n",
    "        }\n",
    "        kimenet_versek.append(adat)\n"
   ]
  },
  {
   "cell_type": "code",
   "execution_count": 38,
   "metadata": {
    "executionInfo": {
     "elapsed": 26,
     "status": "ok",
     "timestamp": 1754827924158,
     "user": {
      "displayName": "runner jogi",
      "userId": "17090129783586980987"
     },
     "user_tz": -120
    },
    "id": "d6Eivw93hfjH"
   },
   "outputs": [],
   "source": [
    "# ===== Új CSV beolvasása =====\n",
    "\n",
    "uj_versek = pd.read_csv(\"ellenorzo_vers_adatok.csv\", encoding=\"utf-8\")  # tipus, vers oszlopok\n",
    "\n"
   ]
  },
  {
   "cell_type": "markdown",
   "metadata": {},
   "source": [
    "# Biztonsági ellenőrzés, hogy vannak-e azonos versek"
   ]
  },
  {
   "cell_type": "code",
   "execution_count": 39,
   "metadata": {},
   "outputs": [
    {
     "data": {
      "text/html": [
       "<div>\n",
       "<style scoped>\n",
       "    .dataframe tbody tr th:only-of-type {\n",
       "        vertical-align: middle;\n",
       "    }\n",
       "\n",
       "    .dataframe tbody tr th {\n",
       "        vertical-align: top;\n",
       "    }\n",
       "\n",
       "    .dataframe thead th {\n",
       "        text-align: right;\n",
       "    }\n",
       "</style>\n",
       "<table border=\"1\" class=\"dataframe\">\n",
       "  <thead>\n",
       "    <tr style=\"text-align: right;\">\n",
       "      <th></th>\n",
       "      <th>tipus_x</th>\n",
       "      <th>szerzo</th>\n",
       "      <th>cim</th>\n",
       "      <th>vers_x</th>\n",
       "      <th>link_x</th>\n",
       "      <th>label</th>\n",
       "      <th>tipus_y</th>\n",
       "      <th>vers_y</th>\n",
       "      <th>link_y</th>\n",
       "    </tr>\n",
       "  </thead>\n",
       "  <tbody>\n",
       "  </tbody>\n",
       "</table>\n",
       "</div>"
      ],
      "text/plain": [
       "Empty DataFrame\n",
       "Columns: [tipus_x, szerzo, cim, vers_x, link_x, label, tipus_y, vers_y, link_y]\n",
       "Index: []"
      ]
     },
     "execution_count": 39,
     "metadata": {},
     "output_type": "execute_result"
    }
   ],
   "source": [
    "\n",
    "\n",
    "kozos_cimek_szerzok = pd.merge(df, uj_versek, on=['cim', 'szerzo'])\n",
    "kozos_cimek_szerzok"
   ]
  },
  {
   "cell_type": "code",
   "execution_count": 40,
   "metadata": {
    "colab": {
     "base_uri": "https://localhost:8080/",
     "height": 321
    },
    "executionInfo": {
     "elapsed": 187,
     "status": "error",
     "timestamp": 1754828076507,
     "user": {
      "displayName": "runner jogi",
      "userId": "17090129783586980987"
     },
     "user_tz": -120
    },
    "id": "ZmL582ifhVNB",
    "outputId": "46f5069c-e83a-4b5e-a415-6fc0d8bed978"
   },
   "outputs": [
    {
     "name": "stdout",
     "output_type": "stream",
     "text": [
      "Pontosság az új verseken: 76.47%\n",
      "Vers: Tanulj meg igazán szeretni, szomorú könn... Predikció: poz (pozitív) | Valódi: poz (pozitív)\n",
      "Vers: Nem mondtuk ki, mégis tudtuk, szem a sze... Predikció: neg (negatív) | Valódi: poz (pozitív)\n",
      "Vers: Van egy szó, a széthúzás, vagy én, vagy ... Predikció: poz (pozitív) | Valódi: poz (pozitív)\n",
      "Vers: Apró cipőcskéd cipőfűzői Úgy fonták át l... Predikció: poz (pozitív) | Valódi: poz (pozitív)\n",
      "Vers: Az ember azt hiszi, a szeretet olyan, ak... Predikció: neg (negatív) | Valódi: poz (pozitív)\n",
      "Vers: Egy kertben ültem halk fák alatt, Lágy s... Predikció: poz (pozitív) | Valódi: poz (pozitív)\n",
      "Vers: Alap, mit mindenki ért, az élet, az otth... Predikció: poz (pozitív) | Valódi: poz (pozitív)\n",
      "Vers: Az igaz szeretet sosem hangos... S az se... Predikció: poz (pozitív) | Valódi: poz (pozitív)\n",
      "Vers: Öleld át a sok-sok megfáradtat, Hisz a s... Predikció: poz (pozitív) | Valódi: poz (pozitív)\n",
      "Vers: Előzmény: Életem - 4. részlet Elballagtu... Predikció: neg (negatív) | Valódi: poz (pozitív)\n",
      "Vers: \"Itt születtem én ezen a tájon\", lankás-... Predikció: poz (pozitív) | Valódi: poz (pozitív)\n",
      "Vers: Nem tudom, melyik pillanatban váltott a ... Predikció: neg (negatív) | Valódi: poz (pozitív)\n",
      "Vers: Hónapok teltek el, S mesébe megfelel. Sz... Predikció: neg (negatív) | Valódi: poz (pozitív)\n",
      "Vers: Megpillantom a fát, mely hullajtja gyöny... Predikció: poz (pozitív) | Valódi: poz (pozitív)\n",
      "Vers: Miért vagyok inkább Optimista és vidám? ... Predikció: poz (pozitív) | Valódi: poz (pozitív)\n",
      "Vers: Hol rozsdás fények közt zörögnek, Hördül... Predikció: neg (negatív) | Valódi: poz (pozitív)\n",
      "Vers: Már nincs semmi más, Csak te vagy, aki v... Predikció: poz (pozitív) | Valódi: poz (pozitív)\n",
      "Vers: Hallgasd, hogy dobog, Kebledben kopog, M... Predikció: poz (pozitív) | Valódi: poz (pozitív)\n",
      "Vers: Egy bálna gyomrában ragadtam... Mit raga... Predikció: neg (negatív) | Valódi: poz (pozitív)\n",
      "Vers: Micsoda csoda ez a kislabda, Pattan, ját... Predikció: poz (pozitív) | Valódi: poz (pozitív)\n",
      "Vers: Ciklámenszín tintával kell Írnom most a ... Predikció: poz (pozitív) | Valódi: poz (pozitív)\n",
      "Vers: Előzmény: Balatoni sétány - Innen minden... Predikció: poz (pozitív) | Valódi: poz (pozitív)\n",
      "Vers: Egy halk fuvallat érinti meg arcod, mess... Predikció: poz (pozitív) | Valódi: poz (pozitív)\n",
      "Vers: Elhinteni a magot, Elmondani egy rövid m... Predikció: poz (pozitív) | Valódi: poz (pozitív)\n",
      "Vers: Előbb legyél otthon saját lelkedben, S c... Predikció: poz (pozitív) | Valódi: poz (pozitív)\n",
      "Vers: Gondosságod olyan élmény, árad, s jő a s... Predikció: poz (pozitív) | Valódi: poz (pozitív)\n",
      "Vers: Egyetlen percedben... Van úgy, hogy várs... Predikció: poz (pozitív) | Valódi: poz (pozitív)\n",
      "Vers: Mint megfagyott csillagok, úgy ragyognak... Predikció: neg (negatív) | Valódi: poz (pozitív)\n",
      "Vers: Szívem alatt csillag alszik csendben, Ál... Predikció: poz (pozitív) | Valódi: poz (pozitív)\n",
      "Vers: Mint aprócska porszemek Úgy kavargunk eg... Predikció: poz (pozitív) | Valódi: poz (pozitív)\n",
      "Vers: Felvillannak néha régi emlékképek - Ring... Predikció: poz (pozitív) | Valódi: poz (pozitív)\n",
      "Vers: Június tizenhét Szabadságom napja. Nem v... Predikció: poz (pozitív) | Valódi: poz (pozitív)\n",
      "Vers: Szívem még mindig sajog, miattad darabok... Predikció: neg (negatív) | Valódi: poz (pozitív)\n",
      "Vers: A Hold csak parányi labda az égen, ha az... Predikció: poz (pozitív) | Valódi: poz (pozitív)\n",
      "Vers: Engem ne korholjon senki ártatlanul érte... Predikció: neg (negatív) | Valódi: poz (pozitív)\n",
      "Vers: Te, tésztalevélbe burkolt szeretet, mitö... Predikció: poz (pozitív) | Valódi: poz (pozitív)\n",
      "Vers: Semmiben a lét tégláit rakosgatja a szán... Predikció: neg (negatív) | Valódi: poz (pozitív)\n",
      "Vers: Ím, agg csermelyek közelednek, lázas ifj... Predikció: poz (pozitív) | Valódi: poz (pozitív)\n",
      "Vers: Akkor is számítottam rád, amikor jót vag... Predikció: neg (negatív) | Valódi: poz (pozitív)\n",
      "Vers: Még mindig mosolyt csal arcomra, mikor e... Predikció: poz (pozitív) | Valódi: poz (pozitív)\n",
      "Vers: Hogyan tudnám elmesélni, Hogy milyen újr... Predikció: poz (pozitív) | Valódi: poz (pozitív)\n",
      "Vers: Látlak, mert látszani Látszol. Látom, ho... Predikció: poz (pozitív) | Valódi: poz (pozitív)\n",
      "Vers: Az éj sötétje csendben ölel át, Szíved d... Predikció: poz (pozitív) | Valódi: poz (pozitív)\n",
      "Vers: Anya, apa, úgy örülök, hogy ma mind együ... Predikció: poz (pozitív) | Valódi: poz (pozitív)\n",
      "Vers: A szerelem megtanít látni, élettel tölti... Predikció: poz (pozitív) | Valódi: poz (pozitív)\n",
      "Vers: Ha el is indultál, meg soha nem érkeztél... Predikció: neg (negatív) | Valódi: poz (pozitív)\n",
      "Vers: Rózsafa nyílt a szívedből csendben, mint... Predikció: poz (pozitív) | Valódi: poz (pozitív)\n",
      "Vers: Mi ez az érthetetlen, pillangós gyomorál... Predikció: neg (negatív) | Valódi: poz (pozitív)\n",
      "Vers: Azt mondják, az idő minden vágyat kiolt,... Predikció: poz (pozitív) | Valódi: poz (pozitív)\n",
      "Vers: Boldog az az ember, aki kedves és önzetl... Predikció: poz (pozitív) | Valódi: poz (pozitív)\n",
      "Vers: Tudsz-e már karok nélkül is ölelni? Láng... Predikció: poz (pozitív) | Valódi: poz (pozitív)\n",
      "Vers: Szentélye reménynek, mennynek földi part... Predikció: poz (pozitív) | Valódi: poz (pozitív)\n",
      "Vers: Ne várd, hogy felnőtt legyél, a gyermeké... Predikció: poz (pozitív) | Valódi: poz (pozitív)\n",
      "Vers: Az életet jelented, drágám, sötétségben ... Predikció: neg (negatív) | Valódi: poz (pozitív)\n",
      "Vers: Mint viharos szélből szabadult pihe, Mos... Predikció: poz (pozitív) | Valódi: poz (pozitív)\n",
      "Vers: Tudod, Nincsenek arra szavak, Miket felé... Predikció: poz (pozitív) | Valódi: poz (pozitív)\n",
      "Vers: Valamikor, réges régen éltünk ketten erd... Predikció: poz (pozitív) | Valódi: poz (pozitív)\n",
      "Vers: Mosolyogj minden nap, mert ez az élet ti... Predikció: poz (pozitív) | Valódi: poz (pozitív)\n",
      "Vers: Amikor a csend beszél, szavak nélkül, ér... Predikció: poz (pozitív) | Valódi: poz (pozitív)\n",
      "Vers: Felnézek a magas égbe, \"nem kapom el a t... Predikció: poz (pozitív) | Valódi: poz (pozitív)\n",
      "Vers: Ki ez a bátor, akit viharomban látok? Ak... Predikció: poz (pozitív) | Valódi: poz (pozitív)\n",
      "Vers: Kinyitom szemem egy virradó reggelen, Mi... Predikció: neg (negatív) | Valódi: poz (pozitív)\n",
      "Vers: Hallod lágy hangját füledben, Mint cseng... Predikció: poz (pozitív) | Valódi: poz (pozitív)\n",
      "Vers: Felfedezhetnétek már! Nincs sok időm. Cs... Predikció: neg (negatív) | Valódi: poz (pozitív)\n",
      "Vers: Legyen házasság, vagy magány? A vágyakoz... Predikció: poz (pozitív) | Valódi: poz (pozitív)\n",
      "Vers: Gyere, lépj egy kicsit közelebb a lelkem... Predikció: poz (pozitív) | Valódi: poz (pozitív)\n",
      "Vers: Úgy érzem, otthon vagyok. Otthon vagyok ... Predikció: poz (pozitív) | Valódi: poz (pozitív)\n",
      "Vers: Szemem az igazi fényt követi, minden nap... Predikció: poz (pozitív) | Valódi: poz (pozitív)\n",
      "Vers: Bár elérhetnélek, majd kifutok szívemből... Predikció: poz (pozitív) | Valódi: poz (pozitív)\n",
      "Vers: Kimondatlanul alakoskodik itt belül ez a... Predikció: neg (negatív) | Valódi: poz (pozitív)\n",
      "Vers: Inkább nekem, Mint neked legyél. De ha n... Predikció: poz (pozitív) | Valódi: poz (pozitív)\n",
      "Vers: éjt nappá tettél mályvamélygyökerekkel p... Predikció: poz (pozitív) | Valódi: poz (pozitív)\n",
      "Vers: Kövekre koppanó fémek faragják az időt! ... Predikció: poz (pozitív) | Valódi: poz (pozitív)\n",
      "Vers: Mi a titok? Egy valóságos rémálom. Befér... Predikció: neg (negatív) | Valódi: poz (pozitív)\n",
      "Vers: Sóval szórják A bizalmasság egykori meze... Predikció: neg (negatív) | Valódi: poz (pozitív)\n",
      "Vers: Öleld belőlem Ki az égő fájdalmakat, Leg... Predikció: neg (negatív) | Valódi: poz (pozitív)\n",
      "Vers: Tarka belső valóddal színtelenül oldódsz... Predikció: poz (pozitív) | Valódi: poz (pozitív)\n",
      "Vers: Repedező, nagy bástyák, Közepesek és kic... Predikció: neg (negatív) | Valódi: poz (pozitív)\n",
      "Vers: Voltam már vesztes, de legyőzött nem, vo... Predikció: neg (negatív) | Valódi: poz (pozitív)\n",
      "Vers: Volt egyszer egy kismadár, Ki egy nap az... Predikció: poz (pozitív) | Valódi: poz (pozitív)\n",
      "Vers: Döcögve indult a táncunk, Pont, mint a s... Predikció: poz (pozitív) | Valódi: poz (pozitív)\n",
      "Vers: ezer kiáltás a szélben meztelen lelkek z... Predikció: neg (negatív) | Valódi: poz (pozitív)\n",
      "Vers: Szívmelengető látvány egy születés ki ma... Predikció: poz (pozitív) | Valódi: poz (pozitív)\n",
      "Vers: Még ne tépd le szárnyaim ha törött tolla... Predikció: neg (negatív) | Valódi: poz (pozitív)\n",
      "Vers: Mondd, bácsi, az ember tud az űrben járn... Predikció: neg (negatív) | Valódi: poz (pozitív)\n",
      "Vers: Megannyi csillag ragyog fent az égen, Me... Predikció: poz (pozitív) | Valódi: poz (pozitív)\n",
      "Vers: Telnek a napok, az évek. Rohanó világban... Predikció: poz (pozitív) | Valódi: poz (pozitív)\n",
      "Vers: Ha a vers nyers néha, a költő meg léha, ... Predikció: poz (pozitív) | Valódi: poz (pozitív)\n",
      "Vers: Hol boszorkány van, ott boszorkány van, ... Predikció: neg (negatív) | Valódi: poz (pozitív)\n",
      "Vers: Szeretem a filozófiát, csak az a baj vel... Predikció: neg (negatív) | Valódi: poz (pozitív)\n",
      "Vers: Földre hullt a bánat, Nem keresek vádat,... Predikció: neg (negatív) | Valódi: poz (pozitív)\n",
      "Vers: mindig mosolyogsz gyönyörű a fenyőfa sze... Predikció: poz (pozitív) | Valódi: poz (pozitív)\n",
      "Vers: Van a Lelkednek egy parányi szeglete, él... Predikció: poz (pozitív) | Valódi: poz (pozitív)\n",
      "Vers: Egyszer csak felhangzott az ének, Nap su... Predikció: poz (pozitív) | Valódi: poz (pozitív)\n",
      "Vers: Virágot nem adhatok itt, csak szóvirágot... Predikció: poz (pozitív) | Valódi: poz (pozitív)\n",
      "Vers: Nő. Napi köszöntő. Mindörökké. Férfiöröm... Predikció: poz (pozitív) | Valódi: poz (pozitív)\n",
      "Vers: Sodródom ismét az árral Hibáim dobálnak ... Predikció: neg (negatív) | Valódi: poz (pozitív)\n",
      "Vers: Menhelyükön egy csoportban éldegélnek bu... Predikció: poz (pozitív) | Valódi: poz (pozitív)\n",
      "Vers: Jó lehet a hóembernek, szereti őt felnőt... Predikció: poz (pozitív) | Valódi: poz (pozitív)\n",
      "Vers: Borcsi már tini leááány! Mindenkit megre... Predikció: poz (pozitív) | Valódi: poz (pozitív)\n",
      "Vers: Télűzőnek vidámság a farsangi mulatság. ... Predikció: poz (pozitív) | Valódi: poz (pozitív)\n",
      "Vers: Szikár soraidat olvasva - mint végső ost... Predikció: poz (pozitív) | Valódi: poz (pozitív)\n",
      "Vers: Kívánságom jövő évre, legyen végre világ... Predikció: poz (pozitív) | Valódi: poz (pozitív)\n",
      "Vers: Tegnap egy hóembert készítettem, gondolt... Predikció: poz (pozitív) | Valódi: poz (pozitív)\n",
      "Vers: Igazolja a pengén, habon spórolt vagyon(... Predikció: poz (pozitív) | Valódi: poz (pozitív)\n",
      "Vers: Megrázta felhődunyháját a jó öreg tél. A... Predikció: poz (pozitív) | Valódi: poz (pozitív)\n",
      "Vers: Hontalan volt minden, hontalan a lelkem,... Predikció: neg (negatív) | Valódi: poz (pozitív)\n",
      "Vers: Egész lényemet borzongás járja át. Fenek... Predikció: poz (pozitív) | Valódi: poz (pozitív)\n",
      "Vers: Te vagy fénye ruhatárnak, A szekrényem f... Predikció: poz (pozitív) | Valódi: poz (pozitív)\n",
      "Vers: Ha lehetnék Zoligarcha - ragyogna az arc... Predikció: poz (pozitív) | Valódi: poz (pozitív)\n",
      "Vers: A mi cicánk panaszkodik: \"Nyau! Nyau! Na... Predikció: neg (negatív) | Valódi: poz (pozitív)\n",
      "Vers: A csók lelkileg és orvosilag ajánlott. S... Predikció: poz (pozitív) | Valódi: poz (pozitív)\n",
      "Vers: Terjeszkedő pókok tegnapról a mára szőne... Predikció: neg (negatív) | Valódi: poz (pozitív)\n",
      "Vers: Lestrapáltan, hibernáltan bizonytalan - ... Predikció: neg (negatív) | Valódi: poz (pozitív)\n",
      "Vers: Álomra hajtom a fejem, Mellettem horkol ... Predikció: neg (negatív) | Valódi: poz (pozitív)\n",
      "Vers: Ezüst napfényben vezettek útjaink. Lepké... Predikció: poz (pozitív) | Valódi: poz (pozitív)\n",
      "Vers: Százmilliós kégli kéne? Nem reális, csak... Predikció: neg (negatív) | Valódi: poz (pozitív)\n",
      "Vers: Mereven állok meztelen testtel, A teremb... Predikció: neg (negatív) | Valódi: neg (negatív)\n",
      "Vers: Újra itt a busz - súg a néma, üres a tér... Predikció: neg (negatív) | Valódi: neg (negatív)\n",
      "Vers: Vajon hiányzom neked? S rám gondolsz, mi... Predikció: poz (pozitív) | Valódi: neg (negatív)\n",
      "Vers: Lelkem falán árnyak járnak, álruhában go... Predikció: neg (negatív) | Valódi: neg (negatív)\n",
      "Vers: Bárcsak hallanák a szavaim, mennyi minde... Predikció: poz (pozitív) | Valódi: neg (negatív)\n",
      "Vers: Zöld szemű sejtés szőtte körbe szívemet ... Predikció: poz (pozitív) | Valódi: neg (negatív)\n",
      "Vers: Szorongok... szorongok, egész álló nap ú... Predikció: neg (negatív) | Valódi: neg (negatív)\n",
      "Vers: Ígérem, jó leszek, Ha kell, több terhet ... Predikció: neg (negatív) | Valódi: neg (negatív)\n",
      "Vers: Elhamarkodott érzés, Megtestesült látomá... Predikció: neg (negatív) | Valódi: neg (negatív)\n",
      "Vers: Valami motoz legbelül, szólni kéne ma em... Predikció: neg (negatív) | Valódi: neg (negatív)\n",
      "Vers: szép lenne a sikerrel futni elhagyni mit... Predikció: neg (negatív) | Valódi: neg (negatív)\n",
      "Vers: Pocsék egy adok-kapok, hát ez meg mire j... Predikció: neg (negatív) | Valódi: neg (negatív)\n",
      "Vers: Hevesen ver a szívem, remeg az egész tes... Predikció: neg (negatív) | Valódi: neg (negatív)\n",
      "Vers: Teltek az évek, S a kislány felcseperede... Predikció: neg (negatív) | Valódi: neg (negatív)\n",
      "Vers: Mesél a táj, tán utat talál. Elbújik mes... Predikció: neg (negatív) | Valódi: neg (negatív)\n",
      "Vers: Elhiszed gondolatom, Hogy elmém kivetülé... Predikció: neg (negatív) | Valódi: neg (negatív)\n",
      "Vers: A félelem félelmetesen félelmetes, Mert ... Predikció: neg (negatív) | Valódi: neg (negatív)\n",
      "Vers: Miként lelkem kétségbeesetten rakom össz... Predikció: neg (negatív) | Valódi: neg (negatív)\n",
      "Vers: Csak egy gyerek voltam és ártatlan. Azt ... Predikció: neg (negatív) | Valódi: neg (negatív)\n",
      "Vers: félelem bújik a szívben báj az arcon rag... Predikció: poz (pozitív) | Valódi: neg (negatív)\n",
      "Vers: Ha nem becsülöd, csak elpusztítasz minde... Predikció: neg (negatív) | Valódi: neg (negatív)\n",
      "Vers: Azt gondoltam, együtt megyünk, S hagyunk... Predikció: neg (negatív) | Valódi: neg (negatív)\n",
      "Vers: A konyhai ablakon gyermeki nevetésként v... Predikció: neg (negatív) | Valódi: neg (negatív)\n",
      "Vers: Megérkezett a kikelet! Sok-sok madár csi... Predikció: neg (negatív) | Valódi: neg (negatív)\n",
      "Vers: Hallod a kürtöt, mi a temető felől száll... Predikció: neg (negatív) | Valódi: neg (negatív)\n",
      "Vers: Nem tudom, hol vagy, és mit csinálsz, Ki... Predikció: neg (negatív) | Valódi: neg (negatív)\n",
      "Vers: Milyen világ az, Ahol élünk, emberek? Ah... Predikció: neg (negatív) | Valódi: neg (negatív)\n",
      "Vers: Ősz szele magára kapja barna levélruhájá... Predikció: neg (negatív) | Valódi: neg (negatív)\n",
      "Vers: Néha felkelek, és az utcán találom magam... Predikció: neg (negatív) | Valódi: neg (negatív)\n",
      "Vers: Nyakamig rombol, Vállamig tombol, Szívem... Predikció: neg (negatív) | Valódi: neg (negatív)\n",
      "Vers: Nem kellene több, Csak néhány kósza csöp... Predikció: neg (negatív) | Valódi: neg (negatív)\n",
      "Vers: sötét van, de az ünnepi fények még halov... Predikció: neg (negatív) | Valódi: neg (negatív)\n",
      "Vers: útnak indultak folyton folynak végigázta... Predikció: poz (pozitív) | Valódi: neg (negatív)\n",
      "Vers: Lelkem vize, gyere, Nyisd a gátat, Rohan... Predikció: poz (pozitív) | Valódi: neg (negatív)\n",
      "Vers: Farakás mögött lapulva, hogy került az u... Predikció: poz (pozitív) | Valódi: neg (negatív)\n",
      "Vers: Csurran, cseppen, megbújik csendben. Arc... Predikció: poz (pozitív) | Valódi: neg (negatív)\n",
      "Vers: Annyiszor úsztam már Könnyeim tengerében... Predikció: neg (negatív) | Valódi: neg (negatív)\n",
      "Vers: Úgy éreztem begyógyultak a sebek Ezért ú... Predikció: neg (negatív) | Valódi: neg (negatív)\n",
      "Vers: Szeretnék újra sírni, ismét zokogni, Köv... Predikció: neg (negatív) | Valódi: neg (negatív)\n",
      "Vers: Csak egy emlék, egy emlék maradt nekem, ... Predikció: neg (negatív) | Valódi: neg (negatív)\n",
      "Vers: Temetőkben sorra pislákol a láng, Mécses... Predikció: neg (negatív) | Valódi: neg (negatív)\n",
      "Vers: Az idő csupa szeszély, újra véreső szitá... Predikció: neg (negatív) | Valódi: neg (negatív)\n",
      "Vers: A legjobban az az érzés tud becsapni, ho... Predikció: neg (negatív) | Valódi: neg (negatív)\n",
      "Vers: Belül szorított a szívem, hogy mit vétet... Predikció: neg (negatív) | Valódi: neg (negatív)\n",
      "Vers: Nem a tengertől sós az arcom, Nem az mar... Predikció: neg (negatív) | Valódi: neg (negatív)\n",
      "Vers: Mi ez a robaj, csattanó villámcsapás. Fe... Predikció: neg (negatív) | Valódi: neg (negatív)\n",
      "Vers: Elkap megint az érzés, nem akarok vissza... Predikció: neg (negatív) | Valódi: neg (negatív)\n",
      "Vers: Könny csorog arcomon, S nincs, ki letörö... Predikció: neg (negatív) | Valódi: neg (negatív)\n",
      "Vers: Már két napja lakásomból ki sem mozdulta... Predikció: neg (negatív) | Valódi: neg (negatív)\n",
      "Vers: Vajon honnan ered bánatnak könnye? Szíve... Predikció: neg (negatív) | Valódi: neg (negatív)\n",
      "Vers: Látom, már boldog vagy nélkülem, Ezért m... Predikció: poz (pozitív) | Valódi: neg (negatív)\n",
      "Vers: Ha édes a sors, keserű vagy savanyú, akk... Predikció: poz (pozitív) | Valódi: neg (negatív)\n",
      "Vers: Aranyszemű fiú átölelt az éjjel, Elhódít... Predikció: neg (negatív) | Valódi: neg (negatív)\n",
      "Vers: Mit én szavakba öntöttem, Te eldobtad, M... Predikció: neg (negatív) | Valódi: neg (negatív)\n",
      "Vers: Hát mi az, ami visszatart, hogy megtudja... Predikció: neg (negatív) | Valódi: neg (negatív)\n",
      "Vers: A macskám sír, Sír a macskám, Mindig sír... Predikció: neg (negatív) | Valódi: neg (negatív)\n",
      "Vers: A magányos vándor elfáradt a hosszú úton... Predikció: neg (negatív) | Valódi: neg (negatív)\n",
      "Vers: Kitárt karjaimmal ölelem a semmit, Nem é... Predikció: poz (pozitív) | Valódi: neg (negatív)\n",
      "Vers: Sohaországban van egy kiszáradt folyó, m... Predikció: neg (negatív) | Valódi: neg (negatív)\n",
      "Vers: Szerelmes voltam belé, Nem volt elég, ho... Predikció: neg (negatív) | Valódi: neg (negatív)\n",
      "Vers: Jön az érzés, hagyom. Igazi, vagy hazugs... Predikció: poz (pozitív) | Valódi: neg (negatív)\n",
      "Vers: Elmegyek én, elmegyek. Visszatekintek rö... Predikció: neg (negatív) | Valódi: neg (negatív)\n",
      "Vers: Van, hogy mellkasomra ül a maró fájdalom... Predikció: poz (pozitív) | Valódi: neg (negatív)\n",
      "Vers: Valaha mindenem kellett, Most az életem ... Predikció: neg (negatív) | Valódi: neg (negatív)\n",
      "Vers: Ébredés egy álomból, Ami tán sose volt. ... Predikció: poz (pozitív) | Valódi: neg (negatív)\n",
      "Vers: Néma csend lelkemben és a szobámban. Han... Predikció: neg (negatív) | Valódi: neg (negatív)\n",
      "Vers: Gyászruhát ölt a méla lét, szirmok halód... Predikció: neg (negatív) | Valódi: neg (negatív)\n",
      "Vers: Néha úgy érzem, csak porszem vagyok, Ki ... Predikció: neg (negatív) | Valódi: neg (negatív)\n",
      "Vers: Mintha mindennap ugyanaz lenne, és a nap... Predikció: neg (negatív) | Valódi: neg (negatív)\n",
      "Vers: Azt hittem, a testem a boldogságtól vált... Predikció: neg (negatív) | Valódi: neg (negatív)\n",
      "Vers: Minden lépés éles nyilallás, gerincemen ... Predikció: neg (negatív) | Valódi: neg (negatív)\n",
      "Vers: Lehajtott fejjel ment az utcán, de nem a... Predikció: neg (negatív) | Valódi: neg (negatív)\n",
      "Vers: Nem akarok hinni a szememnek! Tarrá vágo... Predikció: neg (negatív) | Valódi: neg (negatív)\n",
      "Vers: Ha kérdőre vonod alázó hangoddal tetteim... Predikció: neg (negatív) | Valódi: neg (negatív)\n",
      "Vers: Újra itt a busz - súg a néma, üres a tér... Predikció: neg (negatív) | Valódi: neg (negatív)\n",
      "Vers: Előzmény: Veszély a pincében Egy nő miér... Predikció: neg (negatív) | Valódi: neg (negatív)\n",
      "Vers: Saját magammal küzdök, nincs más, ki árt... Predikció: neg (negatív) | Valódi: neg (negatív)\n",
      "Vers: Sétálni a melegben Nem egyszerű dolog. H... Predikció: poz (pozitív) | Valódi: neg (negatív)\n",
      "Vers: Nem vagyok festő, mégis festek. Álnok ám... Predikció: neg (negatív) | Valódi: neg (negatív)\n",
      "Vers: Öt évesen ellopták, eladták szolgálólány... Predikció: neg (negatív) | Valódi: neg (negatív)\n",
      "Vers: Ülök a csendben, nincs se szó, se hang, ... Predikció: neg (negatív) | Valódi: neg (negatív)\n",
      "Vers: A depresszió népbetegségeink egyike, Bár... Predikció: neg (negatív) | Valódi: neg (negatív)\n",
      "Vers: Olyan, mint a méreg, Emberben lévő méreg... Predikció: neg (negatív) | Valódi: neg (negatív)\n",
      "Vers: Végig itt volt, De magától mindig eltolt... Predikció: neg (negatív) | Valódi: neg (negatív)\n",
      "Vers: Ha minden mulandó, én miért maradjak örö... Predikció: neg (negatív) | Valódi: neg (negatív)\n",
      "Vers: Majdnem egy hete volt a baleset, Azóta n... Predikció: neg (negatív) | Valódi: neg (negatív)\n",
      "Vers: Felszáll a HÉV-re a hajléktalan, kezében... Predikció: neg (negatív) | Valódi: neg (negatív)\n",
      "Vers: Lelkem nyugtalan, Lassan elhal, Testem e... Predikció: neg (negatív) | Valódi: neg (negatív)\n",
      "Vers: Egy kedves, szürke asszony áll a peronon... Predikció: neg (negatív) | Valódi: neg (negatív)\n",
      "Vers: Ígérem, jó leszek, Ha kell, több terhet ... Predikció: neg (negatív) | Valódi: neg (negatív)\n",
      "Vers: Kinéznék, de nem tehetem, valami gát van... Predikció: neg (negatív) | Valódi: neg (negatív)\n",
      "Vers: Mikor kint állsz a tetőn ugrani készen, ... Predikció: poz (pozitív) | Valódi: neg (negatív)\n",
      "Vers: Lelkem mélyén zúg az önpusztítás démona,... Predikció: neg (negatív) | Valódi: neg (negatív)\n",
      "Vers: Szólni nem tudok, némán állok, mint az a... Predikció: neg (negatív) | Valódi: neg (negatív)\n",
      "Vers: Villámok futnak végig a hátamon, Villámo... Predikció: neg (negatív) | Valódi: neg (negatív)\n",
      "Vers: Bánt ez a dolog engem, mégsem érti senki... Predikció: neg (negatív) | Valódi: neg (negatív)\n",
      "Vers: Hideg van. Érzem, sündörögsz körülöttem.... Predikció: neg (negatív) | Valódi: neg (negatív)\n",
      "Vers: Furcsa egy érzés, homályszagú, Törékeny ... Predikció: neg (negatív) | Valódi: neg (negatív)\n",
      "Vers: még a fény is sötétbe rohan a húsok ronc... Predikció: neg (negatív) | Valódi: neg (negatív)\n",
      "Vers: Döntés. Jó-rossz-tökmindegy. Az én hibám... Predikció: neg (negatív) | Valódi: neg (negatív)\n",
      "Vers: Szerettem a sötét és szűk helyeket, nem ... Predikció: neg (negatív) | Valódi: neg (negatív)\n",
      "Vers: Kisgyermek voltam, mikor nagyapám térdér... Predikció: neg (negatív) | Valódi: neg (negatív)\n",
      "Vers: A félelem felüvölt bennem, a fájdalom da... Predikció: neg (negatív) | Valódi: neg (negatív)\n",
      "Vers: Eső nem mossa, a nap se fénylik, De gyök... Predikció: neg (negatív) | Valódi: neg (negatív)\n"
     ]
    }
   ],
   "source": [
    "predikcio(uj_versek)"
   ]
  },
  {
   "cell_type": "code",
   "execution_count": 41,
   "metadata": {
    "executionInfo": {
     "elapsed": 1685192,
     "status": "aborted",
     "timestamp": 1754827924651,
     "user": {
      "displayName": "runner jogi",
      "userId": "17090129783586980987"
     },
     "user_tz": -120
    },
    "id": "_rNg_NVV7NBC"
   },
   "outputs": [],
   "source": [
    "# Lista → DataFrame\n",
    "kimenet_df = pd.DataFrame(kimenet_versek)"
   ]
  },
  {
   "cell_type": "code",
   "execution_count": 42,
   "metadata": {
    "executionInfo": {
     "elapsed": 1685193,
     "status": "aborted",
     "timestamp": 1754827924656,
     "user": {
      "displayName": "runner jogi",
      "userId": "17090129783586980987"
     },
     "user_tz": -120
    },
    "id": "en8Xm33DZ41P"
   },
   "outputs": [
    {
     "data": {
      "text/plain": [
       "(221, 6)"
      ]
     },
     "execution_count": 42,
     "metadata": {},
     "output_type": "execute_result"
    }
   ],
   "source": [
    "kimenet_df.shape\n"
   ]
  },
  {
   "cell_type": "code",
   "execution_count": 43,
   "metadata": {
    "executionInfo": {
     "elapsed": 1685191,
     "status": "aborted",
     "timestamp": 1754827924659,
     "user": {
      "displayName": "runner jogi",
      "userId": "17090129783586980987"
     },
     "user_tz": -120
    },
    "id": "AoNxyX-dag4g"
   },
   "outputs": [
    {
     "name": "stdout",
     "output_type": "stream",
     "text": [
      "Egyezések száma: 169\n"
     ]
    }
   ],
   "source": [
    "egyezesek_szama = (kimenet_df[\"valodi\"] == kimenet_df[\"predikcio\"]).sum()\n",
    "print(\"Egyezések száma:\", egyezesek_szama)"
   ]
  },
  {
   "cell_type": "code",
   "execution_count": 44,
   "metadata": {
    "executionInfo": {
     "elapsed": 1685192,
     "status": "aborted",
     "timestamp": 1754827924663,
     "user": {
      "displayName": "runner jogi",
      "userId": "17090129783586980987"
     },
     "user_tz": -120
    },
    "id": "6PG2jzZOatbY"
   },
   "outputs": [
    {
     "name": "stdout",
     "output_type": "stream",
     "text": [
      "Pontosság: 76.47%\n"
     ]
    }
   ],
   "source": [
    "egyezesek_szama = (kimenet_df[\"valodi\"] == kimenet_df[\"predikcio\"]).sum()\n",
    "pontossag = egyezesek_szama / kimenet_df.shape[0] * 100  # százalékos érték\n",
    "print(f\"Pontosság: {pontossag:.2f}%\")"
   ]
  },
  {
   "cell_type": "code",
   "execution_count": 45,
   "metadata": {
    "executionInfo": {
     "elapsed": 1685192,
     "status": "aborted",
     "timestamp": 1754827924667,
     "user": {
      "displayName": "runner jogi",
      "userId": "17090129783586980987"
     },
     "user_tz": -120
    },
    "id": "iPitXtW67WLi"
   },
   "outputs": [],
   "source": [
    "\n",
    "# Mentés CSV-be (UTF-8 kódolással)\n",
    "kimenet_df.to_csv(\"kimenet_versek.csv\", index=False, encoding=\"utf-8\")"
   ]
  },
  {
   "cell_type": "code",
   "execution_count": 49,
   "metadata": {
    "executionInfo": {
     "elapsed": 1685196,
     "status": "aborted",
     "timestamp": 1754827924674,
     "user": {
      "displayName": "runner jogi",
      "userId": "17090129783586980987"
     },
     "user_tz": -120
    },
    "id": "TfdqszUpZb_Q"
   },
   "outputs": [],
   "source": [
    "kimenet_df.to_excel(\"kimenet_versek.xlsx\", index=False)"
   ]
  },
  {
   "cell_type": "code",
   "execution_count": 47,
   "metadata": {
    "executionInfo": {
     "elapsed": 1685199,
     "status": "aborted",
     "timestamp": 1754827924680,
     "user": {
      "displayName": "runner jogi",
      "userId": "17090129783586980987"
     },
     "user_tz": -120
    },
    "id": "RJ7U5-nzMxSj"
   },
   "outputs": [
    {
     "data": {
      "text/html": [
       "\n",
       "    <div>\n",
       "      \n",
       "      <progress value='5' max='5' style='width:300px; height:20px; vertical-align: middle;'></progress>\n",
       "      [5/5 00:00]\n",
       "    </div>\n",
       "    "
      ],
      "text/plain": [
       "<IPython.core.display.HTML object>"
      ]
     },
     "metadata": {},
     "output_type": "display_data"
    },
    {
     "name": "stdout",
     "output_type": "stream",
     "text": [
      "Pontosság: 83.33%\n"
     ]
    }
   ],
   "source": [
    "# ===== 15. Validációs eredmények kiírása =====\n",
    "eval_result = trainer.evaluate()\n",
    "print(f\"Pontosság: {eval_result['eval_accuracy']*100:.2f}%\")"
   ]
  },
  {
   "cell_type": "markdown",
   "metadata": {
    "id": "s-LqtffRTaVy"
   },
   "source": [
    "Ha a validation_loss egy pont után emelkedik, az overfitting kezdete ott van → ott érdemes leállítani az epoch-okat."
   ]
  },
  {
   "cell_type": "code",
   "execution_count": 48,
   "metadata": {
    "executionInfo": {
     "elapsed": 1685202,
     "status": "aborted",
     "timestamp": 1754827924689,
     "user": {
      "displayName": "runner jogi",
      "userId": "17090129783586980987"
     },
     "user_tz": -120
    },
    "id": "4ajrKEkOTRBd"
   },
   "outputs": [
    {
     "data": {
      "image/png": "[encoded data removed]",
      "text/plain": [
       "<Figure size 800x500 with 1 Axes>"
      ]
     },
     "metadata": {},
     "output_type": "display_data"
    }
   ],
   "source": [
    "import pandas as pd\n",
    "import matplotlib.pyplot as plt\n",
    "import os\n",
    "\n",
    "# TensorBoard log mappa (training_args.logging_dir)\n",
    "log_dir = \"./logs\"\n",
    "\n",
    "# TensorBoard adatok betöltése\n",
    "# (A scalar fájlokból kiszedi az \"epoch\", \"train_loss\", \"eval_loss\" értékeket)\n",
    "def load_tb_logs(log_dir):\n",
    "    from tensorboard.backend.event_processing import event_accumulator\n",
    "    ea = event_accumulator.EventAccumulator(log_dir)\n",
    "    ea.Reload()\n",
    "\n",
    "    def extract_scalar(tag):\n",
    "        if tag in ea.Tags()[\"scalars\"]:\n",
    "            return [(s.step, s.value) for s in ea.Scalars(tag)]\n",
    "        return []\n",
    "\n",
    "    train_loss = extract_scalar(\"train/loss\")\n",
    "    eval_loss = extract_scalar(\"eval/loss\")\n",
    "\n",
    "    return train_loss, eval_loss\n",
    "\n",
    "train_loss, eval_loss = load_tb_logs(log_dir)\n",
    "\n",
    "# Adatok DataFrame-be\n",
    "df_train = pd.DataFrame(train_loss, columns=[\"step\", \"train_loss\"])\n",
    "df_eval = pd.DataFrame(eval_loss, columns=[\"step\", \"eval_loss\"])\n",
    "\n",
    "# Rajzolás\n",
    "plt.figure(figsize=(8,5))\n",
    "plt.plot(df_train[\"step\"], df_train[\"train_loss\"], label=\"Train Loss\")\n",
    "plt.plot(df_eval[\"step\"], df_eval[\"eval_loss\"], label=\"Validation Loss\")\n",
    "plt.xlabel(\"Step\")\n",
    "plt.ylabel(\"Loss\")\n",
    "plt.title(\"BERT tanítás - Train vs Validation Loss\")\n",
    "plt.legend()\n",
    "plt.grid(True)\n",
    "plt.show()\n"
   ]
  },
  {
   "cell_type": "code",
   "execution_count": null,
   "metadata": {},
   "outputs": [],
   "source": []
  },
  {
   "cell_type": "code",
   "execution_count": null,
   "metadata": {},
   "outputs": [],
   "source": []
  }
 ],
 "metadata": {
  "accelerator": "GPU",
  "colab": {
   "authorship_tag": "ABX9TyNKsSrgiioqedYrSK5IuS8a",
   "gpuType": "T4",
   "provenance": []
  },
  "kernelspec": {
   "display_name": "Python 3 (ipykernel)",
   "language": "python",
   "name": "python3"
  },
  "language_info": {
   "codemirror_mode": {
    "name": "ipython",
    "version": 3
   },
   "file_extension": ".py",
   "mimetype": "text/x-python",
   "name": "python",
   "nbconvert_exporter": "python",
   "pygments_lexer": "ipython3",
   "version": "3.9.21"
  },
  "widgets": {
   "application/vnd.jupyter.widget-state+json": {
    "02d1850f562e4a0faa2757d14b051d88": {
     "model_module": "@jupyter-widgets/base",
     "model_module_version": "1.2.0",
     "model_name": "LayoutModel",
     "state": {
      "_model_module": "@jupyter-widgets/base",
      "_model_module_version": "1.2.0",
      "_model_name": "LayoutModel",
      "_view_count": null,
      "_view_module": "@jupyter-widgets/base",
      "_view_module_version": "1.2.0",
      "_view_name": "LayoutView",
      "align_content": null,
      "align_items": null,
      "align_self": null,
      "border": null,
      "bottom": null,
      "display": null,
      "flex": null,
      "flex_flow": null,
      "grid_area": null,
      "grid_auto_columns": null,
      "grid_auto_flow": null,
      "grid_auto_rows": null,
      "grid_column": null,
      "grid_gap": null,
      "grid_row": null,
      "grid_template_areas": null,
      "grid_template_columns": null,
      "grid_template_rows": null,
      "height": null,
      "justify_content": null,
      "justify_items": null,
      "left": null,
      "margin": null,
      "max_height": null,
      "max_width": null,
      "min_height": null,
      "min_width": null,
      "object_fit": null,
      "object_position": null,
      "order": null,
      "overflow": null,
      "overflow_x": null,
      "overflow_y": null,
      "padding": null,
      "right": null,
      "top": null,
      "visibility": null,
      "width": null
     }
    },
    "0572526e4ec246e09ecfd55795331fe3": {
     "model_module": "@jupyter-widgets/controls",
     "model_module_version": "1.5.0",
     "model_name": "DescriptionStyleModel",
     "state": {
      "_model_module": "@jupyter-widgets/controls",
      "_model_module_version": "1.5.0",
      "_model_name": "DescriptionStyleModel",
      "_view_count": null,
      "_view_module": "@jupyter-widgets/base",
      "_view_module_version": "1.2.0",
      "_view_name": "StyleView",
      "description_width": ""
     }
    },
    "0cd6e650b1d84d87a19e0c531e8cd546": {
     "model_module": "@jupyter-widgets/controls",
     "model_module_version": "1.5.0",
     "model_name": "ProgressStyleModel",
     "state": {
      "_model_module": "@jupyter-widgets/controls",
      "_model_module_version": "1.5.0",
      "_model_name": "ProgressStyleModel",
      "_view_count": null,
      "_view_module": "@jupyter-widgets/base",
      "_view_module_version": "1.2.0",
      "_view_name": "StyleView",
      "bar_color": null,
      "description_width": ""
     }
    },
    "0ead3748dcd749d9b424bd0502739b20": {
     "model_module": "@jupyter-widgets/controls",
     "model_module_version": "1.5.0",
     "model_name": "FloatProgressModel",
     "state": {
      "_dom_classes": [],
      "_model_module": "@jupyter-widgets/controls",
      "_model_module_version": "1.5.0",
      "_model_name": "FloatProgressModel",
      "_view_count": null,
      "_view_module": "@jupyter-widgets/controls",
      "_view_module_version": "1.5.0",
      "_view_name": "ProgressView",
      "bar_style": "success",
      "description": "",
      "description_tooltip": null,
      "layout": "IPY_MODEL_acfdd1cee58142248e137f48c38f6b3e",
      "max": 112,
      "min": 0,
      "orientation": "horizontal",
      "style": "IPY_MODEL_2c6057b6352a45efb2262c90d47b7d97",
      "value": 112
     }
    },
    "108ccd8cec4a4b4b8da019a5737b70cb": {
     "model_module": "@jupyter-widgets/base",
     "model_module_version": "1.2.0",
     "model_name": "LayoutModel",
     "state": {
      "_model_module": "@jupyter-widgets/base",
      "_model_module_version": "1.2.0",
      "_model_name": "LayoutModel",
      "_view_count": null,
      "_view_module": "@jupyter-widgets/base",
      "_view_module_version": "1.2.0",
      "_view_name": "LayoutView",
      "align_content": null,
      "align_items": null,
      "align_self": null,
      "border": null,
      "bottom": null,
      "display": null,
      "flex": null,
      "flex_flow": null,
      "grid_area": null,
      "grid_auto_columns": null,
      "grid_auto_flow": null,
      "grid_auto_rows": null,
      "grid_column": null,
      "grid_gap": null,
      "grid_row": null,
      "grid_template_areas": null,
      "grid_template_columns": null,
      "grid_template_rows": null,
      "height": null,
      "justify_content": null,
      "justify_items": null,
      "left": null,
      "margin": null,
      "max_height": null,
      "max_width": null,
      "min_height": null,
      "min_width": null,
      "object_fit": null,
      "object_position": null,
      "order": null,
      "overflow": null,
      "overflow_x": null,
      "overflow_y": null,
      "padding": null,
      "right": null,
      "top": null,
      "visibility": null,
      "width": null
     }
    },
    "1116abf45f594289b196148a63870211": {
     "model_module": "@jupyter-widgets/base",
     "model_module_version": "1.2.0",
     "model_name": "LayoutModel",
     "state": {
      "_model_module": "@jupyter-widgets/base",
      "_model_module_version": "1.2.0",
      "_model_name": "LayoutModel",
      "_view_count": null,
      "_view_module": "@jupyter-widgets/base",
      "_view_module_version": "1.2.0",
      "_view_name": "LayoutView",
      "align_content": null,
      "align_items": null,
      "align_self": null,
      "border": null,
      "bottom": null,
      "display": null,
      "flex": null,
      "flex_flow": null,
      "grid_area": null,
      "grid_auto_columns": null,
      "grid_auto_flow": null,
      "grid_auto_rows": null,
      "grid_column": null,
      "grid_gap": null,
      "grid_row": null,
      "grid_template_areas": null,
      "grid_template_columns": null,
      "grid_template_rows": null,
      "height": null,
      "justify_content": null,
      "justify_items": null,
      "left": null,
      "margin": null,
      "max_height": null,
      "max_width": null,
      "min_height": null,
      "min_width": null,
      "object_fit": null,
      "object_position": null,
      "order": null,
      "overflow": null,
      "overflow_x": null,
      "overflow_y": null,
      "padding": null,
      "right": null,
      "top": null,
      "visibility": null,
      "width": null
     }
    },
    "16ad6e6ffecf4fc9a5b71503bc567ccf": {
     "model_module": "@jupyter-widgets/controls",
     "model_module_version": "1.5.0",
     "model_name": "DescriptionStyleModel",
     "state": {
      "_model_module": "@jupyter-widgets/controls",
      "_model_module_version": "1.5.0",
      "_model_name": "DescriptionStyleModel",
      "_view_count": null,
      "_view_module": "@jupyter-widgets/base",
      "_view_module_version": "1.2.0",
      "_view_name": "StyleView",
      "description_width": ""
     }
    },
    "1b77566b241f4781a6194b05f5e841c9": {
     "model_module": "@jupyter-widgets/base",
     "model_module_version": "1.2.0",
     "model_name": "LayoutModel",
     "state": {
      "_model_module": "@jupyter-widgets/base",
      "_model_module_version": "1.2.0",
      "_model_name": "LayoutModel",
      "_view_count": null,
      "_view_module": "@jupyter-widgets/base",
      "_view_module_version": "1.2.0",
      "_view_name": "LayoutView",
      "align_content": null,
      "align_items": null,
      "align_self": null,
      "border": null,
      "bottom": null,
      "display": null,
      "flex": null,
      "flex_flow": null,
      "grid_area": null,
      "grid_auto_columns": null,
      "grid_auto_flow": null,
      "grid_auto_rows": null,
      "grid_column": null,
      "grid_gap": null,
      "grid_row": null,
      "grid_template_areas": null,
      "grid_template_columns": null,
      "grid_template_rows": null,
      "height": null,
      "justify_content": null,
      "justify_items": null,
      "left": null,
      "margin": null,
      "max_height": null,
      "max_width": null,
      "min_height": null,
      "min_width": null,
      "object_fit": null,
      "object_position": null,
      "order": null,
      "overflow": null,
      "overflow_x": null,
      "overflow_y": null,
      "padding": null,
      "right": null,
      "top": null,
      "visibility": null,
      "width": null
     }
    },
    "1dc1a7161157452fb1cd0df01453f0f5": {
     "model_module": "@jupyter-widgets/controls",
     "model_module_version": "1.5.0",
     "model_name": "HTMLModel",
     "state": {
      "_dom_classes": [],
      "_model_module": "@jupyter-widgets/controls",
      "_model_module_version": "1.5.0",
      "_model_name": "HTMLModel",
      "_view_count": null,
      "_view_module": "@jupyter-widgets/controls",
      "_view_module_version": "1.5.0",
      "_view_name": "HTMLView",
      "description": "",
      "description_tooltip": null,
      "layout": "IPY_MODEL_5f0a23e68d1c4a54841b5bd89db674e4",
      "placeholder": "​",
      "style": "IPY_MODEL_4b7c5b21e4a043e9a1d4402862239476",
      "value": "model.safetensors: 100%"
     }
    },
    "22710f28b5c7414982852739479c6002": {
     "model_module": "@jupyter-widgets/controls",
     "model_module_version": "1.5.0",
     "model_name": "HBoxModel",
     "state": {
      "_dom_classes": [],
      "_model_module": "@jupyter-widgets/controls",
      "_model_module_version": "1.5.0",
      "_model_name": "HBoxModel",
      "_view_count": null,
      "_view_module": "@jupyter-widgets/controls",
      "_view_module_version": "1.5.0",
      "_view_name": "HBoxView",
      "box_style": "",
      "children": [
       "IPY_MODEL_d662b6279ac344c5902606cac5878abb",
       "IPY_MODEL_6ebf9c9991f845aaabd42bad7a96be62",
       "IPY_MODEL_c8134dd2b03646e986f5b313707ef631"
      ],
      "layout": "IPY_MODEL_c65e78a9e6ca446a80fc6b7e97777e14"
     }
    },
    "28b8b53906d9423192345bde94242dea": {
     "model_module": "@jupyter-widgets/base",
     "model_module_version": "1.2.0",
     "model_name": "LayoutModel",
     "state": {
      "_model_module": "@jupyter-widgets/base",
      "_model_module_version": "1.2.0",
      "_model_name": "LayoutModel",
      "_view_count": null,
      "_view_module": "@jupyter-widgets/base",
      "_view_module_version": "1.2.0",
      "_view_name": "LayoutView",
      "align_content": null,
      "align_items": null,
      "align_self": null,
      "border": null,
      "bottom": null,
      "display": null,
      "flex": null,
      "flex_flow": null,
      "grid_area": null,
      "grid_auto_columns": null,
      "grid_auto_flow": null,
      "grid_auto_rows": null,
      "grid_column": null,
      "grid_gap": null,
      "grid_row": null,
      "grid_template_areas": null,
      "grid_template_columns": null,
      "grid_template_rows": null,
      "height": null,
      "justify_content": null,
      "justify_items": null,
      "left": null,
      "margin": null,
      "max_height": null,
      "max_width": null,
      "min_height": null,
      "min_width": null,
      "object_fit": null,
      "object_position": null,
      "order": null,
      "overflow": null,
      "overflow_x": null,
      "overflow_y": null,
      "padding": null,
      "right": null,
      "top": null,
      "visibility": null,
      "width": null
     }
    },
    "2c6057b6352a45efb2262c90d47b7d97": {
     "model_module": "@jupyter-widgets/controls",
     "model_module_version": "1.5.0",
     "model_name": "ProgressStyleModel",
     "state": {
      "_model_module": "@jupyter-widgets/controls",
      "_model_module_version": "1.5.0",
      "_model_name": "ProgressStyleModel",
      "_view_count": null,
      "_view_module": "@jupyter-widgets/base",
      "_view_module_version": "1.2.0",
      "_view_name": "StyleView",
      "bar_color": null,
      "description_width": ""
     }
    },
    "2cb5e0232dfb4f4f99ac7fa11c655658": {
     "model_module": "@jupyter-widgets/controls",
     "model_module_version": "1.5.0",
     "model_name": "DescriptionStyleModel",
     "state": {
      "_model_module": "@jupyter-widgets/controls",
      "_model_module_version": "1.5.0",
      "_model_name": "DescriptionStyleModel",
      "_view_count": null,
      "_view_module": "@jupyter-widgets/base",
      "_view_module_version": "1.2.0",
      "_view_name": "StyleView",
      "description_width": ""
     }
    },
    "2f35934c31b645358e34500ce3bcc062": {
     "model_module": "@jupyter-widgets/base",
     "model_module_version": "1.2.0",
     "model_name": "LayoutModel",
     "state": {
      "_model_module": "@jupyter-widgets/base",
      "_model_module_version": "1.2.0",
      "_model_name": "LayoutModel",
      "_view_count": null,
      "_view_module": "@jupyter-widgets/base",
      "_view_module_version": "1.2.0",
      "_view_name": "LayoutView",
      "align_content": null,
      "align_items": null,
      "align_self": null,
      "border": null,
      "bottom": null,
      "display": null,
      "flex": null,
      "flex_flow": null,
      "grid_area": null,
      "grid_auto_columns": null,
      "grid_auto_flow": null,
      "grid_auto_rows": null,
      "grid_column": null,
      "grid_gap": null,
      "grid_row": null,
      "grid_template_areas": null,
      "grid_template_columns": null,
      "grid_template_rows": null,
      "height": null,
      "justify_content": null,
      "justify_items": null,
      "left": null,
      "margin": null,
      "max_height": null,
      "max_width": null,
      "min_height": null,
      "min_width": null,
      "object_fit": null,
      "object_position": null,
      "order": null,
      "overflow": null,
      "overflow_x": null,
      "overflow_y": null,
      "padding": null,
      "right": null,
      "top": null,
      "visibility": null,
      "width": null
     }
    },
    "40afa4110ecf428daf5e7dce5e94d395": {
     "model_module": "@jupyter-widgets/controls",
     "model_module_version": "1.5.0",
     "model_name": "HTMLModel",
     "state": {
      "_dom_classes": [],
      "_model_module": "@jupyter-widgets/controls",
      "_model_module_version": "1.5.0",
      "_model_name": "HTMLModel",
      "_view_count": null,
      "_view_module": "@jupyter-widgets/controls",
      "_view_module_version": "1.5.0",
      "_view_name": "HTMLView",
      "description": "",
      "description_tooltip": null,
      "layout": "IPY_MODEL_b7772789dc784adeb6385aac9dae21be",
      "placeholder": "​",
      "style": "IPY_MODEL_6ef7ece3a01b406c8011f461fdf90c1f",
      "value": " 445M/445M [00:07&lt;00:00, 111MB/s]"
     }
    },
    "43590adc4b3f4eef9cb063741e84eb83": {
     "model_module": "@jupyter-widgets/controls",
     "model_module_version": "1.5.0",
     "model_name": "HBoxModel",
     "state": {
      "_dom_classes": [],
      "_model_module": "@jupyter-widgets/controls",
      "_model_module_version": "1.5.0",
      "_model_name": "HBoxModel",
      "_view_count": null,
      "_view_module": "@jupyter-widgets/controls",
      "_view_module_version": "1.5.0",
      "_view_name": "HBoxView",
      "box_style": "",
      "children": [
       "IPY_MODEL_831946b2d91844d498a551196d7c2d69",
       "IPY_MODEL_bf6b1450b0854e00ace6106b7e4f68cc",
       "IPY_MODEL_d414c7a8c2234555a37027edf38d48f9"
      ],
      "layout": "IPY_MODEL_5a27b0521e034b43bbc651b53867b1c4"
     }
    },
    "477357c1f0ab49a6b3f9af46127adefe": {
     "model_module": "@jupyter-widgets/controls",
     "model_module_version": "1.5.0",
     "model_name": "HTMLModel",
     "state": {
      "_dom_classes": [],
      "_model_module": "@jupyter-widgets/controls",
      "_model_module_version": "1.5.0",
      "_model_name": "HTMLModel",
      "_view_count": null,
      "_view_module": "@jupyter-widgets/controls",
      "_view_module_version": "1.5.0",
      "_view_name": "HTMLView",
      "description": "",
      "description_tooltip": null,
      "layout": "IPY_MODEL_7c165b1d9f3343ee9f0ea3e752cb93a0",
      "placeholder": "​",
      "style": "IPY_MODEL_16ad6e6ffecf4fc9a5b71503bc567ccf",
      "value": "special_tokens_map.json: 100%"
     }
    },
    "4b7c5b21e4a043e9a1d4402862239476": {
     "model_module": "@jupyter-widgets/controls",
     "model_module_version": "1.5.0",
     "model_name": "DescriptionStyleModel",
     "state": {
      "_model_module": "@jupyter-widgets/controls",
      "_model_module_version": "1.5.0",
      "_model_name": "DescriptionStyleModel",
      "_view_count": null,
      "_view_module": "@jupyter-widgets/base",
      "_view_module_version": "1.2.0",
      "_view_name": "StyleView",
      "description_width": ""
     }
    },
    "4db36b38c777408bb2583cf571194a5d": {
     "model_module": "@jupyter-widgets/controls",
     "model_module_version": "1.5.0",
     "model_name": "HTMLModel",
     "state": {
      "_dom_classes": [],
      "_model_module": "@jupyter-widgets/controls",
      "_model_module_version": "1.5.0",
      "_model_name": "HTMLModel",
      "_view_count": null,
      "_view_module": "@jupyter-widgets/controls",
      "_view_module_version": "1.5.0",
      "_view_name": "HTMLView",
      "description": "",
      "description_tooltip": null,
      "layout": "IPY_MODEL_ff78f60d97bb4aeba522b87946d3802a",
      "placeholder": "​",
      "style": "IPY_MODEL_e1d16a0d5a194116ae53997d65761dad",
      "value": "Map: 100%"
     }
    },
    "4e01cd3098da436e8cfd856f28dc7b7f": {
     "model_module": "@jupyter-widgets/controls",
     "model_module_version": "1.5.0",
     "model_name": "FloatProgressModel",
     "state": {
      "_dom_classes": [],
      "_model_module": "@jupyter-widgets/controls",
      "_model_module_version": "1.5.0",
      "_model_name": "FloatProgressModel",
      "_view_count": null,
      "_view_module": "@jupyter-widgets/controls",
      "_view_module_version": "1.5.0",
      "_view_name": "ProgressView",
      "bar_style": "success",
      "description": "",
      "description_tooltip": null,
      "layout": "IPY_MODEL_1b77566b241f4781a6194b05f5e841c9",
      "max": 445003524,
      "min": 0,
      "orientation": "horizontal",
      "style": "IPY_MODEL_cf4f0f955f964f43a00f82f37012e7c9",
      "value": 445003524
     }
    },
    "4fd8097b3388473d8c3fa79260801bdc": {
     "model_module": "@jupyter-widgets/controls",
     "model_module_version": "1.5.0",
     "model_name": "ProgressStyleModel",
     "state": {
      "_model_module": "@jupyter-widgets/controls",
      "_model_module_version": "1.5.0",
      "_model_name": "ProgressStyleModel",
      "_view_count": null,
      "_view_module": "@jupyter-widgets/base",
      "_view_module_version": "1.2.0",
      "_view_name": "StyleView",
      "bar_color": null,
      "description_width": ""
     }
    },
    "53dbc9560cd24e08befbab1c1440fc80": {
     "model_module": "@jupyter-widgets/controls",
     "model_module_version": "1.5.0",
     "model_name": "DescriptionStyleModel",
     "state": {
      "_model_module": "@jupyter-widgets/controls",
      "_model_module_version": "1.5.0",
      "_model_name": "DescriptionStyleModel",
      "_view_count": null,
      "_view_module": "@jupyter-widgets/base",
      "_view_module_version": "1.2.0",
      "_view_name": "StyleView",
      "description_width": ""
     }
    },
    "594135cb6c1647049dbb88db83b16ee4": {
     "model_module": "@jupyter-widgets/controls",
     "model_module_version": "1.5.0",
     "model_name": "HTMLModel",
     "state": {
      "_dom_classes": [],
      "_model_module": "@jupyter-widgets/controls",
      "_model_module_version": "1.5.0",
      "_model_name": "HTMLModel",
      "_view_count": null,
      "_view_module": "@jupyter-widgets/controls",
      "_view_module_version": "1.5.0",
      "_view_name": "HTMLView",
      "description": "",
      "description_tooltip": null,
      "layout": "IPY_MODEL_108ccd8cec4a4b4b8da019a5737b70cb",
      "placeholder": "​",
      "style": "IPY_MODEL_ba664f312ea7420790e8dc2531757544",
      "value": " 272k/? [00:00&lt;00:00, 7.67MB/s]"
     }
    },
    "5a27b0521e034b43bbc651b53867b1c4": {
     "model_module": "@jupyter-widgets/base",
     "model_module_version": "1.2.0",
     "model_name": "LayoutModel",
     "state": {
      "_model_module": "@jupyter-widgets/base",
      "_model_module_version": "1.2.0",
      "_model_name": "LayoutModel",
      "_view_count": null,
      "_view_module": "@jupyter-widgets/base",
      "_view_module_version": "1.2.0",
      "_view_name": "LayoutView",
      "align_content": null,
      "align_items": null,
      "align_self": null,
      "border": null,
      "bottom": null,
      "display": null,
      "flex": null,
      "flex_flow": null,
      "grid_area": null,
      "grid_auto_columns": null,
      "grid_auto_flow": null,
      "grid_auto_rows": null,
      "grid_column": null,
      "grid_gap": null,
      "grid_row": null,
      "grid_template_areas": null,
      "grid_template_columns": null,
      "grid_template_rows": null,
      "height": null,
      "justify_content": null,
      "justify_items": null,
      "left": null,
      "margin": null,
      "max_height": null,
      "max_width": null,
      "min_height": null,
      "min_width": null,
      "object_fit": null,
      "object_position": null,
      "order": null,
      "overflow": null,
      "overflow_x": null,
      "overflow_y": null,
      "padding": null,
      "right": null,
      "top": null,
      "visibility": null,
      "width": null
     }
    },
    "5f0a23e68d1c4a54841b5bd89db674e4": {
     "model_module": "@jupyter-widgets/base",
     "model_module_version": "1.2.0",
     "model_name": "LayoutModel",
     "state": {
      "_model_module": "@jupyter-widgets/base",
      "_model_module_version": "1.2.0",
      "_model_name": "LayoutModel",
      "_view_count": null,
      "_view_module": "@jupyter-widgets/base",
      "_view_module_version": "1.2.0",
      "_view_name": "LayoutView",
      "align_content": null,
      "align_items": null,
      "align_self": null,
      "border": null,
      "bottom": null,
      "display": null,
      "flex": null,
      "flex_flow": null,
      "grid_area": null,
      "grid_auto_columns": null,
      "grid_auto_flow": null,
      "grid_auto_rows": null,
      "grid_column": null,
      "grid_gap": null,
      "grid_row": null,
      "grid_template_areas": null,
      "grid_template_columns": null,
      "grid_template_rows": null,
      "height": null,
      "justify_content": null,
      "justify_items": null,
      "left": null,
      "margin": null,
      "max_height": null,
      "max_width": null,
      "min_height": null,
      "min_width": null,
      "object_fit": null,
      "object_position": null,
      "order": null,
      "overflow": null,
      "overflow_x": null,
      "overflow_y": null,
      "padding": null,
      "right": null,
      "top": null,
      "visibility": null,
      "width": null
     }
    },
    "63a5319167364abea5985d23fe115186": {
     "model_module": "@jupyter-widgets/controls",
     "model_module_version": "1.5.0",
     "model_name": "HTMLModel",
     "state": {
      "_dom_classes": [],
      "_model_module": "@jupyter-widgets/controls",
      "_model_module_version": "1.5.0",
      "_model_name": "HTMLModel",
      "_view_count": null,
      "_view_module": "@jupyter-widgets/controls",
      "_view_module_version": "1.5.0",
      "_view_name": "HTMLView",
      "description": "",
      "description_tooltip": null,
      "layout": "IPY_MODEL_2f35934c31b645358e34500ce3bcc062",
      "placeholder": "​",
      "style": "IPY_MODEL_e2b3d3e406cd48edb9ad98eeee0ae3d3",
      "value": "vocab.txt: "
     }
    },
    "657a91130f1841e8b43da7921119f300": {
     "model_module": "@jupyter-widgets/controls",
     "model_module_version": "1.5.0",
     "model_name": "FloatProgressModel",
     "state": {
      "_dom_classes": [],
      "_model_module": "@jupyter-widgets/controls",
      "_model_module_version": "1.5.0",
      "_model_name": "FloatProgressModel",
      "_view_count": null,
      "_view_module": "@jupyter-widgets/controls",
      "_view_module_version": "1.5.0",
      "_view_name": "ProgressView",
      "bar_style": "success",
      "description": "",
      "description_tooltip": null,
      "layout": "IPY_MODEL_77ecf74a6d9c4a7b9395445a40e71d69",
      "max": 39,
      "min": 0,
      "orientation": "horizontal",
      "style": "IPY_MODEL_0cd6e650b1d84d87a19e0c531e8cd546",
      "value": 39
     }
    },
    "67eedb4a0143494898244fb15ce8694d": {
     "model_module": "@jupyter-widgets/controls",
     "model_module_version": "1.5.0",
     "model_name": "FloatProgressModel",
     "state": {
      "_dom_classes": [],
      "_model_module": "@jupyter-widgets/controls",
      "_model_module_version": "1.5.0",
      "_model_name": "FloatProgressModel",
      "_view_count": null,
      "_view_module": "@jupyter-widgets/controls",
      "_view_module_version": "1.5.0",
      "_view_name": "ProgressView",
      "bar_style": "success",
      "description": "",
      "description_tooltip": null,
      "layout": "IPY_MODEL_a695b38bed2c4bce89debde7b635f995",
      "max": 1,
      "min": 0,
      "orientation": "horizontal",
      "style": "IPY_MODEL_4fd8097b3388473d8c3fa79260801bdc",
      "value": 1
     }
    },
    "6835a1e22a614f92a3401fde2e492fc7": {
     "model_module": "@jupyter-widgets/base",
     "model_module_version": "1.2.0",
     "model_name": "LayoutModel",
     "state": {
      "_model_module": "@jupyter-widgets/base",
      "_model_module_version": "1.2.0",
      "_model_name": "LayoutModel",
      "_view_count": null,
      "_view_module": "@jupyter-widgets/base",
      "_view_module_version": "1.2.0",
      "_view_name": "LayoutView",
      "align_content": null,
      "align_items": null,
      "align_self": null,
      "border": null,
      "bottom": null,
      "display": null,
      "flex": null,
      "flex_flow": null,
      "grid_area": null,
      "grid_auto_columns": null,
      "grid_auto_flow": null,
      "grid_auto_rows": null,
      "grid_column": null,
      "grid_gap": null,
      "grid_row": null,
      "grid_template_areas": null,
      "grid_template_columns": null,
      "grid_template_rows": null,
      "height": null,
      "justify_content": null,
      "justify_items": null,
      "left": null,
      "margin": null,
      "max_height": null,
      "max_width": null,
      "min_height": null,
      "min_width": null,
      "object_fit": null,
      "object_position": null,
      "order": null,
      "overflow": null,
      "overflow_x": null,
      "overflow_y": null,
      "padding": null,
      "right": null,
      "top": null,
      "visibility": null,
      "width": null
     }
    },
    "6a79e9a942bc49879ece2a281a4f0707": {
     "model_module": "@jupyter-widgets/controls",
     "model_module_version": "1.5.0",
     "model_name": "DescriptionStyleModel",
     "state": {
      "_model_module": "@jupyter-widgets/controls",
      "_model_module_version": "1.5.0",
      "_model_name": "DescriptionStyleModel",
      "_view_count": null,
      "_view_module": "@jupyter-widgets/base",
      "_view_module_version": "1.2.0",
      "_view_name": "StyleView",
      "description_width": ""
     }
    },
    "6de262db345e49099b26e47949700345": {
     "model_module": "@jupyter-widgets/controls",
     "model_module_version": "1.5.0",
     "model_name": "DescriptionStyleModel",
     "state": {
      "_model_module": "@jupyter-widgets/controls",
      "_model_module_version": "1.5.0",
      "_model_name": "DescriptionStyleModel",
      "_view_count": null,
      "_view_module": "@jupyter-widgets/base",
      "_view_module_version": "1.2.0",
      "_view_name": "StyleView",
      "description_width": ""
     }
    },
    "6ebf9c9991f845aaabd42bad7a96be62": {
     "model_module": "@jupyter-widgets/controls",
     "model_module_version": "1.5.0",
     "model_name": "FloatProgressModel",
     "state": {
      "_dom_classes": [],
      "_model_module": "@jupyter-widgets/controls",
      "_model_module_version": "1.5.0",
      "_model_name": "FloatProgressModel",
      "_view_count": null,
      "_view_module": "@jupyter-widgets/controls",
      "_view_module_version": "1.5.0",
      "_view_name": "ProgressView",
      "bar_style": "success",
      "description": "",
      "description_tooltip": null,
      "layout": "IPY_MODEL_ecb410f610894ea0a18327955640838b",
      "max": 420,
      "min": 0,
      "orientation": "horizontal",
      "style": "IPY_MODEL_eaabed506f124ad1afa603045700b5bf",
      "value": 420
     }
    },
    "6ef7ece3a01b406c8011f461fdf90c1f": {
     "model_module": "@jupyter-widgets/controls",
     "model_module_version": "1.5.0",
     "model_name": "DescriptionStyleModel",
     "state": {
      "_model_module": "@jupyter-widgets/controls",
      "_model_module_version": "1.5.0",
      "_model_name": "DescriptionStyleModel",
      "_view_count": null,
      "_view_module": "@jupyter-widgets/base",
      "_view_module_version": "1.2.0",
      "_view_name": "StyleView",
      "description_width": ""
     }
    },
    "7047cbcb089144ef9801ac70d2fc41cc": {
     "model_module": "@jupyter-widgets/base",
     "model_module_version": "1.2.0",
     "model_name": "LayoutModel",
     "state": {
      "_model_module": "@jupyter-widgets/base",
      "_model_module_version": "1.2.0",
      "_model_name": "LayoutModel",
      "_view_count": null,
      "_view_module": "@jupyter-widgets/base",
      "_view_module_version": "1.2.0",
      "_view_name": "LayoutView",
      "align_content": null,
      "align_items": null,
      "align_self": null,
      "border": null,
      "bottom": null,
      "display": null,
      "flex": null,
      "flex_flow": null,
      "grid_area": null,
      "grid_auto_columns": null,
      "grid_auto_flow": null,
      "grid_auto_rows": null,
      "grid_column": null,
      "grid_gap": null,
      "grid_row": null,
      "grid_template_areas": null,
      "grid_template_columns": null,
      "grid_template_rows": null,
      "height": null,
      "justify_content": null,
      "justify_items": null,
      "left": null,
      "margin": null,
      "max_height": null,
      "max_width": null,
      "min_height": null,
      "min_width": null,
      "object_fit": null,
      "object_position": null,
      "order": null,
      "overflow": null,
      "overflow_x": null,
      "overflow_y": null,
      "padding": null,
      "right": null,
      "top": null,
      "visibility": null,
      "width": null
     }
    },
    "7567ed796c69403aa0bdf04a8b6a2d37": {
     "model_module": "@jupyter-widgets/controls",
     "model_module_version": "1.5.0",
     "model_name": "FloatProgressModel",
     "state": {
      "_dom_classes": [],
      "_model_module": "@jupyter-widgets/controls",
      "_model_module_version": "1.5.0",
      "_model_name": "FloatProgressModel",
      "_view_count": null,
      "_view_module": "@jupyter-widgets/controls",
      "_view_module_version": "1.5.0",
      "_view_name": "ProgressView",
      "bar_style": "success",
      "description": "",
      "description_tooltip": null,
      "layout": "IPY_MODEL_1116abf45f594289b196148a63870211",
      "max": 156,
      "min": 0,
      "orientation": "horizontal",
      "style": "IPY_MODEL_efbb859454994fd1836a2c44867e4bbd",
      "value": 156
     }
    },
    "77ecf74a6d9c4a7b9395445a40e71d69": {
     "model_module": "@jupyter-widgets/base",
     "model_module_version": "1.2.0",
     "model_name": "LayoutModel",
     "state": {
      "_model_module": "@jupyter-widgets/base",
      "_model_module_version": "1.2.0",
      "_model_name": "LayoutModel",
      "_view_count": null,
      "_view_module": "@jupyter-widgets/base",
      "_view_module_version": "1.2.0",
      "_view_name": "LayoutView",
      "align_content": null,
      "align_items": null,
      "align_self": null,
      "border": null,
      "bottom": null,
      "display": null,
      "flex": null,
      "flex_flow": null,
      "grid_area": null,
      "grid_auto_columns": null,
      "grid_auto_flow": null,
      "grid_auto_rows": null,
      "grid_column": null,
      "grid_gap": null,
      "grid_row": null,
      "grid_template_areas": null,
      "grid_template_columns": null,
      "grid_template_rows": null,
      "height": null,
      "justify_content": null,
      "justify_items": null,
      "left": null,
      "margin": null,
      "max_height": null,
      "max_width": null,
      "min_height": null,
      "min_width": null,
      "object_fit": null,
      "object_position": null,
      "order": null,
      "overflow": null,
      "overflow_x": null,
      "overflow_y": null,
      "padding": null,
      "right": null,
      "top": null,
      "visibility": null,
      "width": null
     }
    },
    "7a6831ad159a48a8989c4ccd24a707c3": {
     "model_module": "@jupyter-widgets/controls",
     "model_module_version": "1.5.0",
     "model_name": "HTMLModel",
     "state": {
      "_dom_classes": [],
      "_model_module": "@jupyter-widgets/controls",
      "_model_module_version": "1.5.0",
      "_model_name": "HTMLModel",
      "_view_count": null,
      "_view_module": "@jupyter-widgets/controls",
      "_view_module_version": "1.5.0",
      "_view_name": "HTMLView",
      "description": "",
      "description_tooltip": null,
      "layout": "IPY_MODEL_a8f65015b3c648fa8b709f31132f938b",
      "placeholder": "​",
      "style": "IPY_MODEL_f2efcc3649b54a8aadcfa8494da12aaa",
      "value": " 112/112 [00:00&lt;00:00, 4.24kB/s]"
     }
    },
    "7c165b1d9f3343ee9f0ea3e752cb93a0": {
     "model_module": "@jupyter-widgets/base",
     "model_module_version": "1.2.0",
     "model_name": "LayoutModel",
     "state": {
      "_model_module": "@jupyter-widgets/base",
      "_model_module_version": "1.2.0",
      "_model_name": "LayoutModel",
      "_view_count": null,
      "_view_module": "@jupyter-widgets/base",
      "_view_module_version": "1.2.0",
      "_view_name": "LayoutView",
      "align_content": null,
      "align_items": null,
      "align_self": null,
      "border": null,
      "bottom": null,
      "display": null,
      "flex": null,
      "flex_flow": null,
      "grid_area": null,
      "grid_auto_columns": null,
      "grid_auto_flow": null,
      "grid_auto_rows": null,
      "grid_column": null,
      "grid_gap": null,
      "grid_row": null,
      "grid_template_areas": null,
      "grid_template_columns": null,
      "grid_template_rows": null,
      "height": null,
      "justify_content": null,
      "justify_items": null,
      "left": null,
      "margin": null,
      "max_height": null,
      "max_width": null,
      "min_height": null,
      "min_width": null,
      "object_fit": null,
      "object_position": null,
      "order": null,
      "overflow": null,
      "overflow_x": null,
      "overflow_y": null,
      "padding": null,
      "right": null,
      "top": null,
      "visibility": null,
      "width": null
     }
    },
    "831946b2d91844d498a551196d7c2d69": {
     "model_module": "@jupyter-widgets/controls",
     "model_module_version": "1.5.0",
     "model_name": "HTMLModel",
     "state": {
      "_dom_classes": [],
      "_model_module": "@jupyter-widgets/controls",
      "_model_module_version": "1.5.0",
      "_model_name": "HTMLModel",
      "_view_count": null,
      "_view_module": "@jupyter-widgets/controls",
      "_view_module_version": "1.5.0",
      "_view_name": "HTMLView",
      "description": "",
      "description_tooltip": null,
      "layout": "IPY_MODEL_e4c6b047c16c4b01b310471695d832f0",
      "placeholder": "​",
      "style": "IPY_MODEL_bfae4a42994345e5ae1b00d914264fb2",
      "value": "tokenizer_config.json: 100%"
     }
    },
    "8c7f12eadeb943909a6b9ddd11fe0b5d": {
     "model_module": "@jupyter-widgets/controls",
     "model_module_version": "1.5.0",
     "model_name": "HTMLModel",
     "state": {
      "_dom_classes": [],
      "_model_module": "@jupyter-widgets/controls",
      "_model_module_version": "1.5.0",
      "_model_name": "HTMLModel",
      "_view_count": null,
      "_view_module": "@jupyter-widgets/controls",
      "_view_module_version": "1.5.0",
      "_view_name": "HTMLView",
      "description": "",
      "description_tooltip": null,
      "layout": "IPY_MODEL_e2908d2a708f4f9595290af2e3003e9c",
      "placeholder": "​",
      "style": "IPY_MODEL_6a79e9a942bc49879ece2a281a4f0707",
      "value": " 39/39 [00:00&lt;00:00, 491.41 examples/s]"
     }
    },
    "904ca775e19f4fe4a6cef0d60680a7d4": {
     "model_module": "@jupyter-widgets/base",
     "model_module_version": "1.2.0",
     "model_name": "LayoutModel",
     "state": {
      "_model_module": "@jupyter-widgets/base",
      "_model_module_version": "1.2.0",
      "_model_name": "LayoutModel",
      "_view_count": null,
      "_view_module": "@jupyter-widgets/base",
      "_view_module_version": "1.2.0",
      "_view_name": "LayoutView",
      "align_content": null,
      "align_items": null,
      "align_self": null,
      "border": null,
      "bottom": null,
      "display": null,
      "flex": null,
      "flex_flow": null,
      "grid_area": null,
      "grid_auto_columns": null,
      "grid_auto_flow": null,
      "grid_auto_rows": null,
      "grid_column": null,
      "grid_gap": null,
      "grid_row": null,
      "grid_template_areas": null,
      "grid_template_columns": null,
      "grid_template_rows": null,
      "height": null,
      "justify_content": null,
      "justify_items": null,
      "left": null,
      "margin": null,
      "max_height": null,
      "max_width": null,
      "min_height": null,
      "min_width": null,
      "object_fit": null,
      "object_position": null,
      "order": null,
      "overflow": null,
      "overflow_x": null,
      "overflow_y": null,
      "padding": null,
      "right": null,
      "top": null,
      "visibility": null,
      "width": null
     }
    },
    "9bf8d147f79b4410b0005de9e5a38fc1": {
     "model_module": "@jupyter-widgets/base",
     "model_module_version": "1.2.0",
     "model_name": "LayoutModel",
     "state": {
      "_model_module": "@jupyter-widgets/base",
      "_model_module_version": "1.2.0",
      "_model_name": "LayoutModel",
      "_view_count": null,
      "_view_module": "@jupyter-widgets/base",
      "_view_module_version": "1.2.0",
      "_view_name": "LayoutView",
      "align_content": null,
      "align_items": null,
      "align_self": null,
      "border": null,
      "bottom": null,
      "display": null,
      "flex": null,
      "flex_flow": null,
      "grid_area": null,
      "grid_auto_columns": null,
      "grid_auto_flow": null,
      "grid_auto_rows": null,
      "grid_column": null,
      "grid_gap": null,
      "grid_row": null,
      "grid_template_areas": null,
      "grid_template_columns": null,
      "grid_template_rows": null,
      "height": null,
      "justify_content": null,
      "justify_items": null,
      "left": null,
      "margin": null,
      "max_height": null,
      "max_width": null,
      "min_height": null,
      "min_width": null,
      "object_fit": null,
      "object_position": null,
      "order": null,
      "overflow": null,
      "overflow_x": null,
      "overflow_y": null,
      "padding": null,
      "right": null,
      "top": null,
      "visibility": null,
      "width": null
     }
    },
    "a695b38bed2c4bce89debde7b635f995": {
     "model_module": "@jupyter-widgets/base",
     "model_module_version": "1.2.0",
     "model_name": "LayoutModel",
     "state": {
      "_model_module": "@jupyter-widgets/base",
      "_model_module_version": "1.2.0",
      "_model_name": "LayoutModel",
      "_view_count": null,
      "_view_module": "@jupyter-widgets/base",
      "_view_module_version": "1.2.0",
      "_view_name": "LayoutView",
      "align_content": null,
      "align_items": null,
      "align_self": null,
      "border": null,
      "bottom": null,
      "display": null,
      "flex": null,
      "flex_flow": null,
      "grid_area": null,
      "grid_auto_columns": null,
      "grid_auto_flow": null,
      "grid_auto_rows": null,
      "grid_column": null,
      "grid_gap": null,
      "grid_row": null,
      "grid_template_areas": null,
      "grid_template_columns": null,
      "grid_template_rows": null,
      "height": null,
      "justify_content": null,
      "justify_items": null,
      "left": null,
      "margin": null,
      "max_height": null,
      "max_width": null,
      "min_height": null,
      "min_width": null,
      "object_fit": null,
      "object_position": null,
      "order": null,
      "overflow": null,
      "overflow_x": null,
      "overflow_y": null,
      "padding": null,
      "right": null,
      "top": null,
      "visibility": null,
      "width": "20px"
     }
    },
    "a74f2f91f90a43a7bf94ad0c3581e86c": {
     "model_module": "@jupyter-widgets/base",
     "model_module_version": "1.2.0",
     "model_name": "LayoutModel",
     "state": {
      "_model_module": "@jupyter-widgets/base",
      "_model_module_version": "1.2.0",
      "_model_name": "LayoutModel",
      "_view_count": null,
      "_view_module": "@jupyter-widgets/base",
      "_view_module_version": "1.2.0",
      "_view_name": "LayoutView",
      "align_content": null,
      "align_items": null,
      "align_self": null,
      "border": null,
      "bottom": null,
      "display": null,
      "flex": null,
      "flex_flow": null,
      "grid_area": null,
      "grid_auto_columns": null,
      "grid_auto_flow": null,
      "grid_auto_rows": null,
      "grid_column": null,
      "grid_gap": null,
      "grid_row": null,
      "grid_template_areas": null,
      "grid_template_columns": null,
      "grid_template_rows": null,
      "height": null,
      "justify_content": null,
      "justify_items": null,
      "left": null,
      "margin": null,
      "max_height": null,
      "max_width": null,
      "min_height": null,
      "min_width": null,
      "object_fit": null,
      "object_position": null,
      "order": null,
      "overflow": null,
      "overflow_x": null,
      "overflow_y": null,
      "padding": null,
      "right": null,
      "top": null,
      "visibility": null,
      "width": null
     }
    },
    "a8f65015b3c648fa8b709f31132f938b": {
     "model_module": "@jupyter-widgets/base",
     "model_module_version": "1.2.0",
     "model_name": "LayoutModel",
     "state": {
      "_model_module": "@jupyter-widgets/base",
      "_model_module_version": "1.2.0",
      "_model_name": "LayoutModel",
      "_view_count": null,
      "_view_module": "@jupyter-widgets/base",
      "_view_module_version": "1.2.0",
      "_view_name": "LayoutView",
      "align_content": null,
      "align_items": null,
      "align_self": null,
      "border": null,
      "bottom": null,
      "display": null,
      "flex": null,
      "flex_flow": null,
      "grid_area": null,
      "grid_auto_columns": null,
      "grid_auto_flow": null,
      "grid_auto_rows": null,
      "grid_column": null,
      "grid_gap": null,
      "grid_row": null,
      "grid_template_areas": null,
      "grid_template_columns": null,
      "grid_template_rows": null,
      "height": null,
      "justify_content": null,
      "justify_items": null,
      "left": null,
      "margin": null,
      "max_height": null,
      "max_width": null,
      "min_height": null,
      "min_width": null,
      "object_fit": null,
      "object_position": null,
      "order": null,
      "overflow": null,
      "overflow_x": null,
      "overflow_y": null,
      "padding": null,
      "right": null,
      "top": null,
      "visibility": null,
      "width": null
     }
    },
    "aac337dd018647c68f06444350904a3b": {
     "model_module": "@jupyter-widgets/controls",
     "model_module_version": "1.5.0",
     "model_name": "HTMLModel",
     "state": {
      "_dom_classes": [],
      "_model_module": "@jupyter-widgets/controls",
      "_model_module_version": "1.5.0",
      "_model_name": "HTMLModel",
      "_view_count": null,
      "_view_module": "@jupyter-widgets/controls",
      "_view_module_version": "1.5.0",
      "_view_name": "HTMLView",
      "description": "",
      "description_tooltip": null,
      "layout": "IPY_MODEL_e7267bd6cbcb4ef690f048df00c25478",
      "placeholder": "​",
      "style": "IPY_MODEL_0572526e4ec246e09ecfd55795331fe3",
      "value": "Map: 100%"
     }
    },
    "acfdd1cee58142248e137f48c38f6b3e": {
     "model_module": "@jupyter-widgets/base",
     "model_module_version": "1.2.0",
     "model_name": "LayoutModel",
     "state": {
      "_model_module": "@jupyter-widgets/base",
      "_model_module_version": "1.2.0",
      "_model_name": "LayoutModel",
      "_view_count": null,
      "_view_module": "@jupyter-widgets/base",
      "_view_module_version": "1.2.0",
      "_view_name": "LayoutView",
      "align_content": null,
      "align_items": null,
      "align_self": null,
      "border": null,
      "bottom": null,
      "display": null,
      "flex": null,
      "flex_flow": null,
      "grid_area": null,
      "grid_auto_columns": null,
      "grid_auto_flow": null,
      "grid_auto_rows": null,
      "grid_column": null,
      "grid_gap": null,
      "grid_row": null,
      "grid_template_areas": null,
      "grid_template_columns": null,
      "grid_template_rows": null,
      "height": null,
      "justify_content": null,
      "justify_items": null,
      "left": null,
      "margin": null,
      "max_height": null,
      "max_width": null,
      "min_height": null,
      "min_width": null,
      "object_fit": null,
      "object_position": null,
      "order": null,
      "overflow": null,
      "overflow_x": null,
      "overflow_y": null,
      "padding": null,
      "right": null,
      "top": null,
      "visibility": null,
      "width": null
     }
    },
    "b2fed638eae14119837df90b59084faa": {
     "model_module": "@jupyter-widgets/base",
     "model_module_version": "1.2.0",
     "model_name": "LayoutModel",
     "state": {
      "_model_module": "@jupyter-widgets/base",
      "_model_module_version": "1.2.0",
      "_model_name": "LayoutModel",
      "_view_count": null,
      "_view_module": "@jupyter-widgets/base",
      "_view_module_version": "1.2.0",
      "_view_name": "LayoutView",
      "align_content": null,
      "align_items": null,
      "align_self": null,
      "border": null,
      "bottom": null,
      "display": null,
      "flex": null,
      "flex_flow": null,
      "grid_area": null,
      "grid_auto_columns": null,
      "grid_auto_flow": null,
      "grid_auto_rows": null,
      "grid_column": null,
      "grid_gap": null,
      "grid_row": null,
      "grid_template_areas": null,
      "grid_template_columns": null,
      "grid_template_rows": null,
      "height": null,
      "justify_content": null,
      "justify_items": null,
      "left": null,
      "margin": null,
      "max_height": null,
      "max_width": null,
      "min_height": null,
      "min_width": null,
      "object_fit": null,
      "object_position": null,
      "order": null,
      "overflow": null,
      "overflow_x": null,
      "overflow_y": null,
      "padding": null,
      "right": null,
      "top": null,
      "visibility": null,
      "width": null
     }
    },
    "b6ac00dfdc3e41c89ab6f6493823e2eb": {
     "model_module": "@jupyter-widgets/controls",
     "model_module_version": "1.5.0",
     "model_name": "HBoxModel",
     "state": {
      "_dom_classes": [],
      "_model_module": "@jupyter-widgets/controls",
      "_model_module_version": "1.5.0",
      "_model_name": "HBoxModel",
      "_view_count": null,
      "_view_module": "@jupyter-widgets/controls",
      "_view_module_version": "1.5.0",
      "_view_name": "HBoxView",
      "box_style": "",
      "children": [
       "IPY_MODEL_4db36b38c777408bb2583cf571194a5d",
       "IPY_MODEL_7567ed796c69403aa0bdf04a8b6a2d37",
       "IPY_MODEL_faed51d592414032a54260370198e235"
      ],
      "layout": "IPY_MODEL_28b8b53906d9423192345bde94242dea"
     }
    },
    "b7772789dc784adeb6385aac9dae21be": {
     "model_module": "@jupyter-widgets/base",
     "model_module_version": "1.2.0",
     "model_name": "LayoutModel",
     "state": {
      "_model_module": "@jupyter-widgets/base",
      "_model_module_version": "1.2.0",
      "_model_name": "LayoutModel",
      "_view_count": null,
      "_view_module": "@jupyter-widgets/base",
      "_view_module_version": "1.2.0",
      "_view_name": "LayoutView",
      "align_content": null,
      "align_items": null,
      "align_self": null,
      "border": null,
      "bottom": null,
      "display": null,
      "flex": null,
      "flex_flow": null,
      "grid_area": null,
      "grid_auto_columns": null,
      "grid_auto_flow": null,
      "grid_auto_rows": null,
      "grid_column": null,
      "grid_gap": null,
      "grid_row": null,
      "grid_template_areas": null,
      "grid_template_columns": null,
      "grid_template_rows": null,
      "height": null,
      "justify_content": null,
      "justify_items": null,
      "left": null,
      "margin": null,
      "max_height": null,
      "max_width": null,
      "min_height": null,
      "min_width": null,
      "object_fit": null,
      "object_position": null,
      "order": null,
      "overflow": null,
      "overflow_x": null,
      "overflow_y": null,
      "padding": null,
      "right": null,
      "top": null,
      "visibility": null,
      "width": null
     }
    },
    "ba664f312ea7420790e8dc2531757544": {
     "model_module": "@jupyter-widgets/controls",
     "model_module_version": "1.5.0",
     "model_name": "DescriptionStyleModel",
     "state": {
      "_model_module": "@jupyter-widgets/controls",
      "_model_module_version": "1.5.0",
      "_model_name": "DescriptionStyleModel",
      "_view_count": null,
      "_view_module": "@jupyter-widgets/base",
      "_view_module_version": "1.2.0",
      "_view_name": "StyleView",
      "description_width": ""
     }
    },
    "bf6b1450b0854e00ace6106b7e4f68cc": {
     "model_module": "@jupyter-widgets/controls",
     "model_module_version": "1.5.0",
     "model_name": "FloatProgressModel",
     "state": {
      "_dom_classes": [],
      "_model_module": "@jupyter-widgets/controls",
      "_model_module_version": "1.5.0",
      "_model_name": "FloatProgressModel",
      "_view_count": null,
      "_view_module": "@jupyter-widgets/controls",
      "_view_module_version": "1.5.0",
      "_view_name": "ProgressView",
      "bar_style": "success",
      "description": "",
      "description_tooltip": null,
      "layout": "IPY_MODEL_b2fed638eae14119837df90b59084faa",
      "max": 86,
      "min": 0,
      "orientation": "horizontal",
      "style": "IPY_MODEL_e692730839f24d6894357ac7cc44b2d5",
      "value": 86
     }
    },
    "bfae4a42994345e5ae1b00d914264fb2": {
     "model_module": "@jupyter-widgets/controls",
     "model_module_version": "1.5.0",
     "model_name": "DescriptionStyleModel",
     "state": {
      "_model_module": "@jupyter-widgets/controls",
      "_model_module_version": "1.5.0",
      "_model_name": "DescriptionStyleModel",
      "_view_count": null,
      "_view_module": "@jupyter-widgets/base",
      "_view_module_version": "1.2.0",
      "_view_name": "StyleView",
      "description_width": ""
     }
    },
    "c65e78a9e6ca446a80fc6b7e97777e14": {
     "model_module": "@jupyter-widgets/base",
     "model_module_version": "1.2.0",
     "model_name": "LayoutModel",
     "state": {
      "_model_module": "@jupyter-widgets/base",
      "_model_module_version": "1.2.0",
      "_model_name": "LayoutModel",
      "_view_count": null,
      "_view_module": "@jupyter-widgets/base",
      "_view_module_version": "1.2.0",
      "_view_name": "LayoutView",
      "align_content": null,
      "align_items": null,
      "align_self": null,
      "border": null,
      "bottom": null,
      "display": null,
      "flex": null,
      "flex_flow": null,
      "grid_area": null,
      "grid_auto_columns": null,
      "grid_auto_flow": null,
      "grid_auto_rows": null,
      "grid_column": null,
      "grid_gap": null,
      "grid_row": null,
      "grid_template_areas": null,
      "grid_template_columns": null,
      "grid_template_rows": null,
      "height": null,
      "justify_content": null,
      "justify_items": null,
      "left": null,
      "margin": null,
      "max_height": null,
      "max_width": null,
      "min_height": null,
      "min_width": null,
      "object_fit": null,
      "object_position": null,
      "order": null,
      "overflow": null,
      "overflow_x": null,
      "overflow_y": null,
      "padding": null,
      "right": null,
      "top": null,
      "visibility": null,
      "width": null
     }
    },
    "c8134dd2b03646e986f5b313707ef631": {
     "model_module": "@jupyter-widgets/controls",
     "model_module_version": "1.5.0",
     "model_name": "HTMLModel",
     "state": {
      "_dom_classes": [],
      "_model_module": "@jupyter-widgets/controls",
      "_model_module_version": "1.5.0",
      "_model_name": "HTMLModel",
      "_view_count": null,
      "_view_module": "@jupyter-widgets/controls",
      "_view_module_version": "1.5.0",
      "_view_name": "HTMLView",
      "description": "",
      "description_tooltip": null,
      "layout": "IPY_MODEL_904ca775e19f4fe4a6cef0d60680a7d4",
      "placeholder": "​",
      "style": "IPY_MODEL_f79ae5bdb7834a7bbbc7c1202bc46340",
      "value": " 420/420 [00:00&lt;00:00, 31.4kB/s]"
     }
    },
    "ccefb78134904b7aa2321cadcc62da48": {
     "model_module": "@jupyter-widgets/controls",
     "model_module_version": "1.5.0",
     "model_name": "HBoxModel",
     "state": {
      "_dom_classes": [],
      "_model_module": "@jupyter-widgets/controls",
      "_model_module_version": "1.5.0",
      "_model_name": "HBoxModel",
      "_view_count": null,
      "_view_module": "@jupyter-widgets/controls",
      "_view_module_version": "1.5.0",
      "_view_name": "HBoxView",
      "box_style": "",
      "children": [
       "IPY_MODEL_63a5319167364abea5985d23fe115186",
       "IPY_MODEL_67eedb4a0143494898244fb15ce8694d",
       "IPY_MODEL_594135cb6c1647049dbb88db83b16ee4"
      ],
      "layout": "IPY_MODEL_02d1850f562e4a0faa2757d14b051d88"
     }
    },
    "ce210e5db6c14a48bd0cf3abbedc7225": {
     "model_module": "@jupyter-widgets/controls",
     "model_module_version": "1.5.0",
     "model_name": "HBoxModel",
     "state": {
      "_dom_classes": [],
      "_model_module": "@jupyter-widgets/controls",
      "_model_module_version": "1.5.0",
      "_model_name": "HBoxModel",
      "_view_count": null,
      "_view_module": "@jupyter-widgets/controls",
      "_view_module_version": "1.5.0",
      "_view_name": "HBoxView",
      "box_style": "",
      "children": [
       "IPY_MODEL_1dc1a7161157452fb1cd0df01453f0f5",
       "IPY_MODEL_4e01cd3098da436e8cfd856f28dc7b7f",
       "IPY_MODEL_40afa4110ecf428daf5e7dce5e94d395"
      ],
      "layout": "IPY_MODEL_f0ba1fbf556e4d50b16237756f0113d9"
     }
    },
    "cf4f0f955f964f43a00f82f37012e7c9": {
     "model_module": "@jupyter-widgets/controls",
     "model_module_version": "1.5.0",
     "model_name": "ProgressStyleModel",
     "state": {
      "_model_module": "@jupyter-widgets/controls",
      "_model_module_version": "1.5.0",
      "_model_name": "ProgressStyleModel",
      "_view_count": null,
      "_view_module": "@jupyter-widgets/base",
      "_view_module_version": "1.2.0",
      "_view_name": "StyleView",
      "bar_color": null,
      "description_width": ""
     }
    },
    "d414c7a8c2234555a37027edf38d48f9": {
     "model_module": "@jupyter-widgets/controls",
     "model_module_version": "1.5.0",
     "model_name": "HTMLModel",
     "state": {
      "_dom_classes": [],
      "_model_module": "@jupyter-widgets/controls",
      "_model_module_version": "1.5.0",
      "_model_name": "HTMLModel",
      "_view_count": null,
      "_view_module": "@jupyter-widgets/controls",
      "_view_module_version": "1.5.0",
      "_view_name": "HTMLView",
      "description": "",
      "description_tooltip": null,
      "layout": "IPY_MODEL_e5b83e3ace144a4191a58f15aa2ec3eb",
      "placeholder": "​",
      "style": "IPY_MODEL_2cb5e0232dfb4f4f99ac7fa11c655658",
      "value": " 86.0/86.0 [00:00&lt;00:00, 5.26kB/s]"
     }
    },
    "d662b6279ac344c5902606cac5878abb": {
     "model_module": "@jupyter-widgets/controls",
     "model_module_version": "1.5.0",
     "model_name": "HTMLModel",
     "state": {
      "_dom_classes": [],
      "_model_module": "@jupyter-widgets/controls",
      "_model_module_version": "1.5.0",
      "_model_name": "HTMLModel",
      "_view_count": null,
      "_view_module": "@jupyter-widgets/controls",
      "_view_module_version": "1.5.0",
      "_view_name": "HTMLView",
      "description": "",
      "description_tooltip": null,
      "layout": "IPY_MODEL_9bf8d147f79b4410b0005de9e5a38fc1",
      "placeholder": "​",
      "style": "IPY_MODEL_6de262db345e49099b26e47949700345",
      "value": "config.json: 100%"
     }
    },
    "e1d16a0d5a194116ae53997d65761dad": {
     "model_module": "@jupyter-widgets/controls",
     "model_module_version": "1.5.0",
     "model_name": "DescriptionStyleModel",
     "state": {
      "_model_module": "@jupyter-widgets/controls",
      "_model_module_version": "1.5.0",
      "_model_name": "DescriptionStyleModel",
      "_view_count": null,
      "_view_module": "@jupyter-widgets/base",
      "_view_module_version": "1.2.0",
      "_view_name": "StyleView",
      "description_width": ""
     }
    },
    "e2908d2a708f4f9595290af2e3003e9c": {
     "model_module": "@jupyter-widgets/base",
     "model_module_version": "1.2.0",
     "model_name": "LayoutModel",
     "state": {
      "_model_module": "@jupyter-widgets/base",
      "_model_module_version": "1.2.0",
      "_model_name": "LayoutModel",
      "_view_count": null,
      "_view_module": "@jupyter-widgets/base",
      "_view_module_version": "1.2.0",
      "_view_name": "LayoutView",
      "align_content": null,
      "align_items": null,
      "align_self": null,
      "border": null,
      "bottom": null,
      "display": null,
      "flex": null,
      "flex_flow": null,
      "grid_area": null,
      "grid_auto_columns": null,
      "grid_auto_flow": null,
      "grid_auto_rows": null,
      "grid_column": null,
      "grid_gap": null,
      "grid_row": null,
      "grid_template_areas": null,
      "grid_template_columns": null,
      "grid_template_rows": null,
      "height": null,
      "justify_content": null,
      "justify_items": null,
      "left": null,
      "margin": null,
      "max_height": null,
      "max_width": null,
      "min_height": null,
      "min_width": null,
      "object_fit": null,
      "object_position": null,
      "order": null,
      "overflow": null,
      "overflow_x": null,
      "overflow_y": null,
      "padding": null,
      "right": null,
      "top": null,
      "visibility": null,
      "width": null
     }
    },
    "e2b3d3e406cd48edb9ad98eeee0ae3d3": {
     "model_module": "@jupyter-widgets/controls",
     "model_module_version": "1.5.0",
     "model_name": "DescriptionStyleModel",
     "state": {
      "_model_module": "@jupyter-widgets/controls",
      "_model_module_version": "1.5.0",
      "_model_name": "DescriptionStyleModel",
      "_view_count": null,
      "_view_module": "@jupyter-widgets/base",
      "_view_module_version": "1.2.0",
      "_view_name": "StyleView",
      "description_width": ""
     }
    },
    "e4c6b047c16c4b01b310471695d832f0": {
     "model_module": "@jupyter-widgets/base",
     "model_module_version": "1.2.0",
     "model_name": "LayoutModel",
     "state": {
      "_model_module": "@jupyter-widgets/base",
      "_model_module_version": "1.2.0",
      "_model_name": "LayoutModel",
      "_view_count": null,
      "_view_module": "@jupyter-widgets/base",
      "_view_module_version": "1.2.0",
      "_view_name": "LayoutView",
      "align_content": null,
      "align_items": null,
      "align_self": null,
      "border": null,
      "bottom": null,
      "display": null,
      "flex": null,
      "flex_flow": null,
      "grid_area": null,
      "grid_auto_columns": null,
      "grid_auto_flow": null,
      "grid_auto_rows": null,
      "grid_column": null,
      "grid_gap": null,
      "grid_row": null,
      "grid_template_areas": null,
      "grid_template_columns": null,
      "grid_template_rows": null,
      "height": null,
      "justify_content": null,
      "justify_items": null,
      "left": null,
      "margin": null,
      "max_height": null,
      "max_width": null,
      "min_height": null,
      "min_width": null,
      "object_fit": null,
      "object_position": null,
      "order": null,
      "overflow": null,
      "overflow_x": null,
      "overflow_y": null,
      "padding": null,
      "right": null,
      "top": null,
      "visibility": null,
      "width": null
     }
    },
    "e5b83e3ace144a4191a58f15aa2ec3eb": {
     "model_module": "@jupyter-widgets/base",
     "model_module_version": "1.2.0",
     "model_name": "LayoutModel",
     "state": {
      "_model_module": "@jupyter-widgets/base",
      "_model_module_version": "1.2.0",
      "_model_name": "LayoutModel",
      "_view_count": null,
      "_view_module": "@jupyter-widgets/base",
      "_view_module_version": "1.2.0",
      "_view_name": "LayoutView",
      "align_content": null,
      "align_items": null,
      "align_self": null,
      "border": null,
      "bottom": null,
      "display": null,
      "flex": null,
      "flex_flow": null,
      "grid_area": null,
      "grid_auto_columns": null,
      "grid_auto_flow": null,
      "grid_auto_rows": null,
      "grid_column": null,
      "grid_gap": null,
      "grid_row": null,
      "grid_template_areas": null,
      "grid_template_columns": null,
      "grid_template_rows": null,
      "height": null,
      "justify_content": null,
      "justify_items": null,
      "left": null,
      "margin": null,
      "max_height": null,
      "max_width": null,
      "min_height": null,
      "min_width": null,
      "object_fit": null,
      "object_position": null,
      "order": null,
      "overflow": null,
      "overflow_x": null,
      "overflow_y": null,
      "padding": null,
      "right": null,
      "top": null,
      "visibility": null,
      "width": null
     }
    },
    "e692730839f24d6894357ac7cc44b2d5": {
     "model_module": "@jupyter-widgets/controls",
     "model_module_version": "1.5.0",
     "model_name": "ProgressStyleModel",
     "state": {
      "_model_module": "@jupyter-widgets/controls",
      "_model_module_version": "1.5.0",
      "_model_name": "ProgressStyleModel",
      "_view_count": null,
      "_view_module": "@jupyter-widgets/base",
      "_view_module_version": "1.2.0",
      "_view_name": "StyleView",
      "bar_color": null,
      "description_width": ""
     }
    },
    "e7267bd6cbcb4ef690f048df00c25478": {
     "model_module": "@jupyter-widgets/base",
     "model_module_version": "1.2.0",
     "model_name": "LayoutModel",
     "state": {
      "_model_module": "@jupyter-widgets/base",
      "_model_module_version": "1.2.0",
      "_model_name": "LayoutModel",
      "_view_count": null,
      "_view_module": "@jupyter-widgets/base",
      "_view_module_version": "1.2.0",
      "_view_name": "LayoutView",
      "align_content": null,
      "align_items": null,
      "align_self": null,
      "border": null,
      "bottom": null,
      "display": null,
      "flex": null,
      "flex_flow": null,
      "grid_area": null,
      "grid_auto_columns": null,
      "grid_auto_flow": null,
      "grid_auto_rows": null,
      "grid_column": null,
      "grid_gap": null,
      "grid_row": null,
      "grid_template_areas": null,
      "grid_template_columns": null,
      "grid_template_rows": null,
      "height": null,
      "justify_content": null,
      "justify_items": null,
      "left": null,
      "margin": null,
      "max_height": null,
      "max_width": null,
      "min_height": null,
      "min_width": null,
      "object_fit": null,
      "object_position": null,
      "order": null,
      "overflow": null,
      "overflow_x": null,
      "overflow_y": null,
      "padding": null,
      "right": null,
      "top": null,
      "visibility": null,
      "width": null
     }
    },
    "eaabed506f124ad1afa603045700b5bf": {
     "model_module": "@jupyter-widgets/controls",
     "model_module_version": "1.5.0",
     "model_name": "ProgressStyleModel",
     "state": {
      "_model_module": "@jupyter-widgets/controls",
      "_model_module_version": "1.5.0",
      "_model_name": "ProgressStyleModel",
      "_view_count": null,
      "_view_module": "@jupyter-widgets/base",
      "_view_module_version": "1.2.0",
      "_view_name": "StyleView",
      "bar_color": null,
      "description_width": ""
     }
    },
    "ecb410f610894ea0a18327955640838b": {
     "model_module": "@jupyter-widgets/base",
     "model_module_version": "1.2.0",
     "model_name": "LayoutModel",
     "state": {
      "_model_module": "@jupyter-widgets/base",
      "_model_module_version": "1.2.0",
      "_model_name": "LayoutModel",
      "_view_count": null,
      "_view_module": "@jupyter-widgets/base",
      "_view_module_version": "1.2.0",
      "_view_name": "LayoutView",
      "align_content": null,
      "align_items": null,
      "align_self": null,
      "border": null,
      "bottom": null,
      "display": null,
      "flex": null,
      "flex_flow": null,
      "grid_area": null,
      "grid_auto_columns": null,
      "grid_auto_flow": null,
      "grid_auto_rows": null,
      "grid_column": null,
      "grid_gap": null,
      "grid_row": null,
      "grid_template_areas": null,
      "grid_template_columns": null,
      "grid_template_rows": null,
      "height": null,
      "justify_content": null,
      "justify_items": null,
      "left": null,
      "margin": null,
      "max_height": null,
      "max_width": null,
      "min_height": null,
      "min_width": null,
      "object_fit": null,
      "object_position": null,
      "order": null,
      "overflow": null,
      "overflow_x": null,
      "overflow_y": null,
      "padding": null,
      "right": null,
      "top": null,
      "visibility": null,
      "width": null
     }
    },
    "efbb859454994fd1836a2c44867e4bbd": {
     "model_module": "@jupyter-widgets/controls",
     "model_module_version": "1.5.0",
     "model_name": "ProgressStyleModel",
     "state": {
      "_model_module": "@jupyter-widgets/controls",
      "_model_module_version": "1.5.0",
      "_model_name": "ProgressStyleModel",
      "_view_count": null,
      "_view_module": "@jupyter-widgets/base",
      "_view_module_version": "1.2.0",
      "_view_name": "StyleView",
      "bar_color": null,
      "description_width": ""
     }
    },
    "f0ba1fbf556e4d50b16237756f0113d9": {
     "model_module": "@jupyter-widgets/base",
     "model_module_version": "1.2.0",
     "model_name": "LayoutModel",
     "state": {
      "_model_module": "@jupyter-widgets/base",
      "_model_module_version": "1.2.0",
      "_model_name": "LayoutModel",
      "_view_count": null,
      "_view_module": "@jupyter-widgets/base",
      "_view_module_version": "1.2.0",
      "_view_name": "LayoutView",
      "align_content": null,
      "align_items": null,
      "align_self": null,
      "border": null,
      "bottom": null,
      "display": null,
      "flex": null,
      "flex_flow": null,
      "grid_area": null,
      "grid_auto_columns": null,
      "grid_auto_flow": null,
      "grid_auto_rows": null,
      "grid_column": null,
      "grid_gap": null,
      "grid_row": null,
      "grid_template_areas": null,
      "grid_template_columns": null,
      "grid_template_rows": null,
      "height": null,
      "justify_content": null,
      "justify_items": null,
      "left": null,
      "margin": null,
      "max_height": null,
      "max_width": null,
      "min_height": null,
      "min_width": null,
      "object_fit": null,
      "object_position": null,
      "order": null,
      "overflow": null,
      "overflow_x": null,
      "overflow_y": null,
      "padding": null,
      "right": null,
      "top": null,
      "visibility": null,
      "width": null
     }
    },
    "f2efcc3649b54a8aadcfa8494da12aaa": {
     "model_module": "@jupyter-widgets/controls",
     "model_module_version": "1.5.0",
     "model_name": "DescriptionStyleModel",
     "state": {
      "_model_module": "@jupyter-widgets/controls",
      "_model_module_version": "1.5.0",
      "_model_name": "DescriptionStyleModel",
      "_view_count": null,
      "_view_module": "@jupyter-widgets/base",
      "_view_module_version": "1.2.0",
      "_view_name": "StyleView",
      "description_width": ""
     }
    },
    "f569f802f18743de99cb6d2512ac1098": {
     "model_module": "@jupyter-widgets/controls",
     "model_module_version": "1.5.0",
     "model_name": "HBoxModel",
     "state": {
      "_dom_classes": [],
      "_model_module": "@jupyter-widgets/controls",
      "_model_module_version": "1.5.0",
      "_model_name": "HBoxModel",
      "_view_count": null,
      "_view_module": "@jupyter-widgets/controls",
      "_view_module_version": "1.5.0",
      "_view_name": "HBoxView",
      "box_style": "",
      "children": [
       "IPY_MODEL_aac337dd018647c68f06444350904a3b",
       "IPY_MODEL_657a91130f1841e8b43da7921119f300",
       "IPY_MODEL_8c7f12eadeb943909a6b9ddd11fe0b5d"
      ],
      "layout": "IPY_MODEL_6835a1e22a614f92a3401fde2e492fc7"
     }
    },
    "f79ae5bdb7834a7bbbc7c1202bc46340": {
     "model_module": "@jupyter-widgets/controls",
     "model_module_version": "1.5.0",
     "model_name": "DescriptionStyleModel",
     "state": {
      "_model_module": "@jupyter-widgets/controls",
      "_model_module_version": "1.5.0",
      "_model_name": "DescriptionStyleModel",
      "_view_count": null,
      "_view_module": "@jupyter-widgets/base",
      "_view_module_version": "1.2.0",
      "_view_name": "StyleView",
      "description_width": ""
     }
    },
    "faed51d592414032a54260370198e235": {
     "model_module": "@jupyter-widgets/controls",
     "model_module_version": "1.5.0",
     "model_name": "HTMLModel",
     "state": {
      "_dom_classes": [],
      "_model_module": "@jupyter-widgets/controls",
      "_model_module_version": "1.5.0",
      "_model_name": "HTMLModel",
      "_view_count": null,
      "_view_module": "@jupyter-widgets/controls",
      "_view_module_version": "1.5.0",
      "_view_name": "HTMLView",
      "description": "",
      "description_tooltip": null,
      "layout": "IPY_MODEL_7047cbcb089144ef9801ac70d2fc41cc",
      "placeholder": "​",
      "style": "IPY_MODEL_53dbc9560cd24e08befbab1c1440fc80",
      "value": " 156/156 [00:00&lt;00:00, 741.93 examples/s]"
     }
    },
    "fd3a8c606ed741bfa535890f039a3a77": {
     "model_module": "@jupyter-widgets/controls",
     "model_module_version": "1.5.0",
     "model_name": "HBoxModel",
     "state": {
      "_dom_classes": [],
      "_model_module": "@jupyter-widgets/controls",
      "_model_module_version": "1.5.0",
      "_model_name": "HBoxModel",
      "_view_count": null,
      "_view_module": "@jupyter-widgets/controls",
      "_view_module_version": "1.5.0",
      "_view_name": "HBoxView",
      "box_style": "",
      "children": [
       "IPY_MODEL_477357c1f0ab49a6b3f9af46127adefe",
       "IPY_MODEL_0ead3748dcd749d9b424bd0502739b20",
       "IPY_MODEL_7a6831ad159a48a8989c4ccd24a707c3"
      ],
      "layout": "IPY_MODEL_a74f2f91f90a43a7bf94ad0c3581e86c"
     }
    },
    "ff78f60d97bb4aeba522b87946d3802a": {
     "model_module": "@jupyter-widgets/base",
     "model_module_version": "1.2.0",
     "model_name": "LayoutModel",
     "state": {
      "_model_module": "@jupyter-widgets/base",
      "_model_module_version": "1.2.0",
      "_model_name": "LayoutModel",
      "_view_count": null,
      "_view_module": "@jupyter-widgets/base",
      "_view_module_version": "1.2.0",
      "_view_name": "LayoutView",
      "align_content": null,
      "align_items": null,
      "align_self": null,
      "border": null,
      "bottom": null,
      "display": null,
      "flex": null,
      "flex_flow": null,
      "grid_area": null,
      "grid_auto_columns": null,
      "grid_auto_flow": null,
      "grid_auto_rows": null,
      "grid_column": null,
      "grid_gap": null,
      "grid_row": null,
      "grid_template_areas": null,
      "grid_template_columns": null,
      "grid_template_rows": null,
      "height": null,
      "justify_content": null,
      "justify_items": null,
      "left": null,
      "margin": null,
      "max_height": null,
      "max_width": null,
      "min_height": null,
      "min_width": null,
      "object_fit": null,
      "object_position": null,
      "order": null,
      "overflow": null,
      "overflow_x": null,
      "overflow_y": null,
      "padding": null,
      "right": null,
      "top": null,
      "visibility": null,
      "width": null
     }
    }
   }
  }
 },
 "nbformat": 4,
 "nbformat_minor": 4
}
